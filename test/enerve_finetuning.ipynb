{
 "cells": [
  {
   "cell_type": "code",
   "execution_count": 1,
   "id": "025aa4fb",
   "metadata": {},
   "outputs": [
    {
     "ename": "ModuleNotFoundError",
     "evalue": "No module named 'Protein'",
     "output_type": "error",
     "traceback": [
      "\u001b[0;31m---------------------------------------------------------------------------\u001b[0m",
      "\u001b[0;31mModuleNotFoundError\u001b[0m                       Traceback (most recent call last)",
      "Input \u001b[0;32mIn [1]\u001b[0m, in \u001b[0;36m<cell line: 3>\u001b[0;34m()\u001b[0m\n\u001b[1;32m      1\u001b[0m \u001b[38;5;28;01mimport\u001b[39;00m \u001b[38;5;21;01msubprocess\u001b[39;00m\u001b[38;5;241m,\u001b[39m \u001b[38;5;21;01mos\u001b[39;00m\n\u001b[1;32m      2\u001b[0m \u001b[38;5;28;01mimport\u001b[39;00m \u001b[38;5;21;01mpandas\u001b[39;00m \u001b[38;5;28;01mas\u001b[39;00m \u001b[38;5;21;01mpd\u001b[39;00m\n\u001b[0;32m----> 3\u001b[0m \u001b[38;5;28;01mfrom\u001b[39;00m \u001b[38;5;21;01mProtein\u001b[39;00m \u001b[38;5;28;01mimport\u001b[39;00m \u001b[38;5;241m*\u001b[39m\n\u001b[1;32m      4\u001b[0m \u001b[38;5;28;01mimport\u001b[39;00m \u001b[38;5;21;01mnumpy\u001b[39;00m \u001b[38;5;28;01mas\u001b[39;00m \u001b[38;5;21;01mnp\u001b[39;00m\n\u001b[1;32m      5\u001b[0m \u001b[38;5;28;01mfrom\u001b[39;00m \u001b[38;5;21;01mscipy\u001b[39;00m\u001b[38;5;21;01m.\u001b[39;00m\u001b[38;5;21;01mstats\u001b[39;00m \u001b[38;5;28;01mimport\u001b[39;00m hypergeom \u001b[38;5;28;01mas\u001b[39;00m hg\n",
      "\u001b[0;31mModuleNotFoundError\u001b[0m: No module named 'Protein'"
     ]
    }
   ],
   "source": [
    "import subprocess, os\n",
    "import pandas as pd\n",
    "from Protein import *\n",
    "import numpy as np\n",
    "from scipy.stats import hypergeom as hg\n",
    "import matplotlib.pyplot as plt\n",
    "import random\n",
    "from utils import*\n",
    "from Subcellular import *"
   ]
  },
  {
   "cell_type": "code",
   "execution_count": 19,
   "id": "6e1b53db",
   "metadata": {},
   "outputs": [],
   "source": [
    "class RunNerve():\n",
    "    \"\"\"Class to store nerve parameters and run NERVE program\"\"\"\n",
    "\n",
    "    def __init__(self):\n",
    "        \"\"\"Initiate arguments and program path\"\"\"\n",
    "        \n",
    "        self.args = {\n",
    "            'annotation': True,\n",
    "            'autoimmunity': True,\n",
    "            'topology': 'tmhmm',\n",
    "            'e_value': 1e-10,\n",
    "            'minlength': 9,\n",
    "            'mismatch': 1,\n",
    "            'mouse': True,\n",
    "            'mouse_peptides_sum_limit': .15,\n",
    "            'proteome1': None,\n",
    "            'proteome2': None, \n",
    "            'padlimit': 0.80,\n",
    "            'razor': True,\n",
    "            'antigenlimit': 0.80,\n",
    "            'loclimit': 0.60, \n",
    "            'min_loop_length': 9,\n",
    "            'select': True, \n",
    "            'substitution': 3,\n",
    "            'transmem_doms_limit': 0,\n",
    "            'antigen': False,\n",
    "            'working_dir': './', \n",
    "            'NERVE_dir': './',\n",
    "            'iFeature_dir': './iFeature',\n",
    "            'DeepFri_dir': './DeepFRI',\n",
    "            'epitopes': False,\n",
    "            \n",
    "            \n",
    "                     }\n",
    "        self.program = \"./nerve.py\"\n",
    "\n",
    "    def print_args(self):\n",
    "        print(f'Arguments are:\\n{self.args}')\n",
    "        print(f'eNERVE executable path is:\\n{self.program}')\n",
    "    \n",
    "    def run(self):\n",
    "        \"\"\"Pass commands to line\n",
    "        program: command/program to run\n",
    "        args: arguments\"\"\"\n",
    "        \n",
    "        program = self.program\n",
    "        args = self.args\n",
    "        for key in args:\n",
    "            args[key] = str(args[key])\n",
    "        \n",
    "        args_list = []\n",
    "        for item in args.items():\n",
    "            args_list.append(f'--{item[0]}')\n",
    "            args_list.append(item[1])\n",
    "        cmd = ['python3'] + [program] + args_list\n",
    "        process = subprocess.Popen(cmd, stdout=subprocess.PIPE)\n",
    "        output, error = process.communicate()\n",
    "        return output, error"
   ]
  },
  {
   "cell_type": "code",
   "execution_count": 96,
   "id": "3752e913",
   "metadata": {},
   "outputs": [],
   "source": [
    "#class Localization:\n",
    "        #\"\"\"class to store and handle protein subcellular localizations\"\"\"\n",
    "        #def __init__(self, localization, reliability):\n",
    "            #self.reliability_out = model.predict_proba(data)[0][0]\n",
    "           # self.localization = 'out' if p.reliability_out >= loclimit else 'in'\n",
    "            #self.localization = str(localization)\n",
    "            #self.reliability_out = float(localization_score)\n",
    "\n",
    "def protein_loader(proteome):\n",
    "    \n",
    "    if type(proteome) != pd.DataFrame:\n",
    "        df = pd.read_csv(proteome)\n",
    "    else:\n",
    "        df = proteome\n",
    "    df = df.astype(object).where(pd.notnull(df),None)\n",
    "    list_of_proteins = []\n",
    "    for index, row in df.iterrows():\n",
    "        protein = Protein(row['id'], row['sequence'])\n",
    "        protein.accession = row['accession']\n",
    "        protein.length = row['length']\n",
    "        protein.transmembrane_doms = 0 if row['transmembrane_doms'] == None else row['transmembrane_doms']\n",
    "        protein.localization = row['localization']\n",
    "        protein.localization_score = row['localization_score'] \n",
    "        protein.p_ad = row['adhesin_probability']\n",
    "        protein.conservation_score = row['conservation_score']\n",
    "        protein.shared_human_peps = 0 if row['shared_human_peps'] == None else row['shared_human_peps']\n",
    "        protein.shared_mouse_peps = 0 if row['shared_mouse_peps'] == None else row['shared_mouse_peps']\n",
    "        protein.shared_conserv_proteome_peps = 0 if row['shared_conserved_proteome_peps'] == None else row['shared_conserved_proteome_peps']\n",
    "        protein.sapiens_peptides_sum = 0 if row['human_peptides_sum'] == None else row['human_peptides_sum']\n",
    "        protein.mouse_peptides_sum = 0 if row['mouse_peptides_sum'] == None else row['mouse_peptides_sum']\n",
    "        protein.annotations = row['annotations']\n",
    "        protein.list_of_peptides_from_comparison_with_mhcpep_sapiens = [] if \\\n",
    "        row['list_of_peptides_from_comparison_with_mhcpep_sapiens'] == None else \\\n",
    "        [peptide for peptide in range(len(row['list_of_peptides_from_comparison_with_mhcpep_sapiens']))]\n",
    "        protein.list_of_peptides_from_comparison_with_mhcpep_mouse = [] if \\\n",
    "        row['list_of_peptides_from_comparison_with_mhcpep_mouse'] == None else \\\n",
    "        [peptide for peptide in range(len(row['list_of_peptides_from_comparison_with_mhcpep_mouse']))]\n",
    "        protein.original_sequence_if_razor = row['original_sequence_if_razor']\n",
    "        protein.tmhmm_seq = row['tmhmm_seq']\n",
    "        list_of_proteins.append(protein)\n",
    "    return list_of_proteins\n",
    "\n",
    "def select(list_of_proteins, transmem_doms_limit,\n",
    "           padlimit, mouse, mouse_peptides_sum_limit, loclimit, razor)->list:\n",
    "    \"\"\"Selects suitable candidate proteins for vaccine production\"\"\"\n",
    "        \n",
    "    final_list = []\n",
    "    \n",
    "    for protein in list_of_proteins:\n",
    "        # exclude internal proteins with low P_AD or P_ANTIGEN\n",
    "        #if protein.localization == \"in\": continue\n",
    "        if protein.localization == 'in' and protein.p_ad < padlimit: continue\n",
    "        \n",
    "        if razor == 'True':\n",
    "            if (protein.transmembrane_doms >= transmem_doms_limit) and (protein.original_sequence_if_razor is None): continue\n",
    "        if razor == 'False':\n",
    "            if protein.transmembrane_doms >= transmem_doms_limit: continue\n",
    "            \n",
    "       \n",
    "        \n",
    "        #if (p.transmembrane_doms >= transmem_doms_limit) and (p.original_sequence_if_razor is None): continue\n",
    "        #if autoimmunity == \"True\":\n",
    "        if protein.sapiens_peptides_sum > .15: continue\n",
    "        if len(protein.list_of_peptides_from_comparison_with_mhcpep_sapiens) >= 1: continue\n",
    "        if mouse == \"True\":\n",
    "            if protein.mouse_peptides_sum > mouse_peptides_sum_limit: continue\n",
    "            if len(protein.list_of_peptides_from_comparison_with_mhcpep_mouse) >= 1: continue\n",
    "\n",
    "        \n",
    "\n",
    "        final_list.append(protein)\n",
    "    return final_list\n",
    "\n"
   ]
  },
  {
   "cell_type": "markdown",
   "id": "2c5bf136",
   "metadata": {},
   "source": [
    "# PREPARE FILES (ANTIGENS) INTO A FASTA FILE"
   ]
  },
  {
   "cell_type": "code",
   "execution_count": 4,
   "id": "1f3b098d",
   "metadata": {},
   "outputs": [],
   "source": [
    "# prepare files for tuning\n",
    "def to_fasta(df, outfile):\n",
    "    \"\"\"Converts pandas cells to fasta\"\"\"\n",
    "    \n",
    "    outfile = open(outfile, 'w')\n",
    "    for index, row in df.iterrows():\n",
    "        outfile.write('>' + row['Entry'] + '_' + row['Organism'] + '\\n'\n",
    "                      + row['Sequence'].replace(\" \", \"\") + '\\n')\n",
    "    outfile.close()"
   ]
  },
  {
   "cell_type": "code",
   "execution_count": 5,
   "id": "82768a94",
   "metadata": {},
   "outputs": [],
   "source": [
    "df = pd.read_excel('./antigen_def.xlsx')\n",
    "\n",
    "to_fasta(df, './tuning.fasta')    #generate fasta file into current dir\n"
   ]
  },
  {
   "cell_type": "markdown",
   "id": "eec2cf92",
   "metadata": {},
   "source": [
    "# precalculate antigen scores"
   ]
  },
  {
   "cell_type": "code",
   "execution_count": 6,
   "id": "8fe78e5e",
   "metadata": {},
   "outputs": [],
   "source": [
    "nerve_run = RunNerve()\n",
    "nerve_run.args['proteome1'] = './tuning.fasta'\n",
    "nerve_run.args.pop('proteome2')\n",
    "nerve_run.args['select'] = False        #with select module off we only calculate protein scores\n",
    "nerve_run.args['working_dir'] = './wd'\n",
    "out, err = nerve_run.run()"
   ]
  },
  {
   "cell_type": "markdown",
   "id": "15e895f6",
   "metadata": {},
   "source": [
    "# Test on proteomes"
   ]
  },
  {
   "cell_type": "code",
   "execution_count": 99,
   "id": "d7025228",
   "metadata": {},
   "outputs": [
    {
     "name": "stdout",
     "output_type": "stream",
     "text": [
      "Proteomes: 14, antigens: 109\n"
     ]
    }
   ],
   "source": [
    "nerve_tuning = pd.read_excel('./antigen_def.xlsx')\n",
    "nerve_tuning = nerve_tuning[nerve_tuning != 1]\n",
    "tuning_proteomes  = list(nerve_tuning['Proteomes'].unique())\n",
    "print(f'Proteomes: {len(tuning_proteomes)}, antigens: {len(nerve_tuning)}')"
   ]
  },
  {
   "cell_type": "code",
   "execution_count": 100,
   "id": "edb965a6",
   "metadata": {},
   "outputs": [
    {
     "data": {
      "text/plain": [
       "['UP000001450',\n",
       " 'UP000024404',\n",
       " 'UP000008333',\n",
       " 'UP000008854',\n",
       " 'UP000000559',\n",
       " 'UP000001926',\n",
       " 'UP000002530',\n",
       " 'UP000008524',\n",
       " 'UP000002296',\n",
       " 'UP000000542',\n",
       " 'UP000010091',\n",
       " 'UP000074855',\n",
       " 'UP000001435',\n",
       " 'UP000007062']"
      ]
     },
     "execution_count": 100,
     "metadata": {},
     "output_type": "execute_result"
    }
   ],
   "source": [
    "tuning_proteomes   #Proteomes to download"
   ]
  },
  {
   "cell_type": "code",
   "execution_count": 23,
   "id": "b4b2561f",
   "metadata": {},
   "outputs": [],
   "source": [
    "def tuning(padlimit, loclimit, proteomes):\n",
    "    \"\"\"Runs NERVE tuning\"\"\"\n",
    "    \n",
    "    outdic = {'n': {}}\n",
    "    \n",
    "   \n",
    "    '''\n",
    "    eu = RunNerve()\n",
    "    eu.args['proteome1'] = './tuning/eu.fasta'\n",
    "    eu.args.pop('proteome2')\n",
    "    working_dir = f'./tuning/eu_padlimit_{str(padlimit)}_loclimit_{str(loclimit)}'\n",
    "    eu.args['working_dir'] = working_dir\n",
    "    out, err = eu.run()\n",
    "    df_vaccines = pd.read_csv(os.path.join(working_dir, 'eu_vaccine_candidates.csv'))\n",
    "    df_non_vaccines = pd.read_csv(os.path.join(working_dir, 'eu_discarded_proteins.csv'))    \n",
    "    outdic['n']['eu_recall'] = len(df_vaccines) / (len(df_vaccines) + len(df_non_vaccines))\n",
    "    '''\n",
    "    \n",
    "    \n",
    "    for proteome in proteomes:\n",
    "        prot_run = RunNerve()\n",
    "        prot_run.args['proteome1'] = proteome\n",
    "        #prot_run.args['gram'] = 'n'\n",
    "        prot_run.args.pop('proteome2')\n",
    "        working_dir = f'./tuning/{str(proteome)}_padlimit_{str(padlimit)}_loclimit_{str(loclimit)}'\n",
    "        prot_run.args['working_dir'] = working_dir\n",
    "        out, err = prot_run.run()\n",
    "        df_vaccines = pd.read_csv(os.path.join(working_dir, 'eu_vaccine_candidates.csv'))\n",
    "        df_non_vaccines = pd.read_csv(os.path.join(working_dir, 'discarded_proteins.csv'))    \n",
    "        outdic['n'][proteome] = len(df_vaccines) / (len(df_vaccines) + len(df_non_vaccines))\n",
    "     \n",
    "    \n",
    "    \n",
    "    return outdic"
   ]
  },
  {
   "cell_type": "code",
   "execution_count": 13,
   "id": "10d6c5de",
   "metadata": {},
   "outputs": [],
   "source": [
    "#outdic = tuning(0.5 padlimit, 0.5 loclimit, ['UP000000419', 'UP000002676', 'UP000000540'], ['UP000001978', 'UP000031961', 'UP000001584'])\n",
    "\n",
    "outdic = tuning(0.5, 0.5, ['UP000001450', 'UP000024404', 'UP000008333','UP000008854', 'UP000000559', 'UP000001926',\n",
    "                          'UP000002530', 'UP000008524', 'UP000002296', 'UP000000542', 'UP000010091', 'UP000074855',\n",
    "                          'UP000001435', 'UP000007062'])      #5-6hrs*14 proteomes = 70/84 hrs = 2.9/3.5 days"
   ]
  },
  {
   "cell_type": "markdown",
   "id": "a2b5e93e",
   "metadata": {},
   "source": [
    "# run finetuning"
   ]
  },
  {
   "cell_type": "code",
   "execution_count": 24,
   "id": "06e70552",
   "metadata": {},
   "outputs": [
    {
     "data": {
      "text/plain": [
       "109"
      ]
     },
     "execution_count": 24,
     "metadata": {},
     "output_type": "execute_result"
    }
   ],
   "source": [
    "len(pd.read_excel('./antigen_def.xlsx'))"
   ]
  },
  {
   "cell_type": "code",
   "execution_count": 25,
   "id": "d8e3d793",
   "metadata": {},
   "outputs": [
    {
     "name": "stdout",
     "output_type": "stream",
     "text": [
      "Proteomes: 14, antigens: 109\n"
     ]
    }
   ],
   "source": [
    "nerve_tuning = pd.read_excel('./antigen_def.xlsx')\n",
    "nerve_tuning = nerve_tuning[(nerve_tuning != 1)]\n",
    "tuning_proteomes  = list(nerve_tuning['Proteomes'].unique())\n",
    "print(f'Proteomes: {len(tuning_proteomes)}, antigens: {len(nerve_tuning)}')"
   ]
  },
  {
   "cell_type": "code",
   "execution_count": 48,
   "id": "3181c616",
   "metadata": {},
   "outputs": [
    {
     "name": "stdout",
     "output_type": "stream",
     "text": [
      "[Errno 2] No such file or directory: 'tuning'\n",
      "/home/matteo/Desktop/eNERVE/tuning\n"
     ]
    }
   ],
   "source": [
    "cd tuning"
   ]
  },
  {
   "cell_type": "code",
   "execution_count": 97,
   "id": "a74ed17a",
   "metadata": {},
   "outputs": [],
   "source": [
    "tuning_proteomes = ['UP000001450']"
   ]
  },
  {
   "cell_type": "code",
   "execution_count": 106,
   "id": "86bc7c7c",
   "metadata": {},
   "outputs": [
    {
     "name": "stdout",
     "output_type": "stream",
     "text": [
      "[0.5, 0.5, 64.08, 99.64, 102.63, 0.64, 1.0]\n",
      "[0.5, 0.55, 64.08, 99.64, 102.63, 0.64, 1.0]\n",
      "[0.5, 0.6, 63.11, 99.64, 102.62, 0.63, 1.0]\n",
      "[0.5, 0.65, 62.14, 99.63, 102.62, 0.62, 1.0]\n",
      "[0.5, 0.7, 62.14, 99.63, 102.62, 0.62, 1.0]\n",
      "[0.5, 0.75, 60.19, 99.62, 102.61, 0.6, 1.0]\n",
      "[0.5, 0.8, 56.31, 99.6, 102.59, 0.57, 1.0]\n",
      "[0.5, 0.85, 56.31, 99.6, 102.59, 0.57, 1.0]\n",
      "[0.5, 0.9, 54.37, 99.59, 102.58, 0.55, 1.0]\n",
      "[0.5, 0.95, 53.4, 99.59, 102.57, 0.54, 1.0]\n",
      "[0.55, 0.5, 64.08, 99.64, 102.63, 0.64, 1.0]\n",
      "[0.55, 0.55, 64.08, 99.64, 102.63, 0.64, 1.0]\n",
      "[0.55, 0.6, 63.11, 99.64, 102.62, 0.63, 1.0]\n",
      "[0.55, 0.65, 62.14, 99.63, 102.62, 0.62, 1.0]\n",
      "[0.55, 0.7, 62.14, 99.63, 102.62, 0.62, 1.0]\n",
      "[0.55, 0.75, 60.19, 99.62, 102.61, 0.6, 1.0]\n",
      "[0.55, 0.8, 56.31, 99.6, 102.59, 0.57, 1.0]\n",
      "[0.55, 0.85, 56.31, 99.6, 102.59, 0.57, 1.0]\n",
      "[0.55, 0.9, 54.37, 99.59, 102.58, 0.55, 1.0]\n",
      "[0.55, 0.95, 53.4, 99.59, 102.57, 0.54, 1.0]\n",
      "[0.6, 0.5, 64.08, 99.64, 102.63, 0.64, 1.0]\n",
      "[0.6, 0.55, 64.08, 99.64, 102.63, 0.64, 1.0]\n",
      "[0.6, 0.6, 63.11, 99.64, 102.62, 0.63, 1.0]\n",
      "[0.6, 0.65, 62.14, 99.63, 102.62, 0.62, 1.0]\n",
      "[0.6, 0.7, 62.14, 99.63, 102.62, 0.62, 1.0]\n",
      "[0.6, 0.75, 60.19, 99.62, 102.61, 0.6, 1.0]\n",
      "[0.6, 0.8, 56.31, 99.6, 102.59, 0.57, 1.0]\n",
      "[0.6, 0.85, 56.31, 99.6, 102.59, 0.57, 1.0]\n",
      "[0.6, 0.9, 54.37, 99.59, 102.58, 0.55, 1.0]\n",
      "[0.6, 0.95, 53.4, 99.59, 102.57, 0.54, 1.0]\n",
      "[0.65, 0.5, 64.08, 99.64, 102.63, 0.64, 1.0]\n",
      "[0.65, 0.55, 64.08, 99.64, 102.63, 0.64, 1.0]\n",
      "[0.65, 0.6, 63.11, 99.64, 102.62, 0.63, 1.0]\n",
      "[0.65, 0.65, 62.14, 99.63, 102.62, 0.62, 1.0]\n",
      "[0.65, 0.7, 62.14, 99.63, 102.62, 0.62, 1.0]\n",
      "[0.65, 0.75, 60.19, 99.62, 102.61, 0.6, 1.0]\n",
      "[0.65, 0.8, 56.31, 99.6, 102.59, 0.57, 1.0]\n",
      "[0.65, 0.85, 56.31, 99.6, 102.59, 0.57, 1.0]\n",
      "[0.65, 0.9, 54.37, 99.59, 102.58, 0.55, 1.0]\n",
      "[0.65, 0.95, 53.4, 99.59, 102.57, 0.54, 1.0]\n",
      "[0.7, 0.5, 64.08, 99.64, 102.63, 0.64, 1.0]\n",
      "[0.7, 0.55, 64.08, 99.64, 102.63, 0.64, 1.0]\n",
      "[0.7, 0.6, 63.11, 99.64, 102.62, 0.63, 1.0]\n",
      "[0.7, 0.65, 62.14, 99.63, 102.62, 0.62, 1.0]\n",
      "[0.7, 0.7, 62.14, 99.63, 102.62, 0.62, 1.0]\n",
      "[0.7, 0.75, 60.19, 99.62, 102.61, 0.6, 1.0]\n",
      "[0.7, 0.8, 56.31, 99.6, 102.59, 0.57, 1.0]\n",
      "[0.7, 0.85, 56.31, 99.6, 102.59, 0.57, 1.0]\n",
      "[0.7, 0.9, 54.37, 99.59, 102.58, 0.55, 1.0]\n",
      "[0.7, 0.95, 53.4, 99.59, 102.57, 0.54, 1.0]\n",
      "[0.75, 0.5, 64.08, 99.64, 102.63, 0.64, 1.0]\n",
      "[0.75, 0.55, 64.08, 99.64, 102.63, 0.64, 1.0]\n",
      "[0.75, 0.6, 63.11, 99.64, 102.62, 0.63, 1.0]\n",
      "[0.75, 0.65, 62.14, 99.63, 102.62, 0.62, 1.0]\n",
      "[0.75, 0.7, 62.14, 99.63, 102.62, 0.62, 1.0]\n",
      "[0.75, 0.75, 60.19, 99.62, 102.61, 0.6, 1.0]\n",
      "[0.75, 0.8, 56.31, 99.6, 102.59, 0.57, 1.0]\n",
      "[0.75, 0.85, 56.31, 99.6, 102.59, 0.57, 1.0]\n",
      "[0.75, 0.9, 54.37, 99.59, 102.58, 0.55, 1.0]\n",
      "[0.75, 0.95, 53.4, 99.59, 102.57, 0.54, 1.0]\n",
      "[0.8, 0.5, 64.08, 99.64, 102.63, 0.64, 1.0]\n",
      "[0.8, 0.55, 64.08, 99.64, 102.63, 0.64, 1.0]\n",
      "[0.8, 0.6, 63.11, 99.64, 102.62, 0.63, 1.0]\n",
      "[0.8, 0.65, 62.14, 99.63, 102.62, 0.62, 1.0]\n",
      "[0.8, 0.7, 62.14, 99.63, 102.62, 0.62, 1.0]\n",
      "[0.8, 0.75, 60.19, 99.62, 102.61, 0.6, 1.0]\n",
      "[0.8, 0.8, 56.31, 99.6, 102.59, 0.57, 1.0]\n",
      "[0.8, 0.85, 56.31, 99.6, 102.59, 0.57, 1.0]\n",
      "[0.8, 0.9, 54.37, 99.59, 102.58, 0.55, 1.0]\n",
      "[0.8, 0.95, 53.4, 99.59, 102.57, 0.54, 1.0]\n",
      "[0.85, 0.5, 64.08, 99.64, 102.63, 0.64, 1.0]\n",
      "[0.85, 0.55, 64.08, 99.64, 102.63, 0.64, 1.0]\n",
      "[0.85, 0.6, 63.11, 99.64, 102.62, 0.63, 1.0]\n",
      "[0.85, 0.65, 62.14, 99.63, 102.62, 0.62, 1.0]\n",
      "[0.85, 0.7, 62.14, 99.63, 102.62, 0.62, 1.0]\n",
      "[0.85, 0.75, 60.19, 99.62, 102.61, 0.6, 1.0]\n",
      "[0.85, 0.8, 56.31, 99.6, 102.59, 0.57, 1.0]\n",
      "[0.85, 0.85, 56.31, 99.6, 102.59, 0.57, 1.0]\n",
      "[0.85, 0.9, 54.37, 99.59, 102.58, 0.55, 1.0]\n",
      "[0.85, 0.95, 53.4, 99.59, 102.57, 0.54, 1.0]\n",
      "[0.9, 0.5, 64.08, 99.64, 102.63, 0.64, 1.0]\n",
      "[0.9, 0.55, 64.08, 99.64, 102.63, 0.64, 1.0]\n",
      "[0.9, 0.6, 63.11, 99.64, 102.62, 0.63, 1.0]\n",
      "[0.9, 0.65, 62.14, 99.63, 102.62, 0.62, 1.0]\n",
      "[0.9, 0.7, 62.14, 99.63, 102.62, 0.62, 1.0]\n",
      "[0.9, 0.75, 60.19, 99.62, 102.61, 0.6, 1.0]\n",
      "[0.9, 0.8, 56.31, 99.6, 102.59, 0.57, 1.0]\n",
      "[0.9, 0.85, 56.31, 99.6, 102.59, 0.57, 1.0]\n",
      "[0.9, 0.9, 54.37, 99.59, 102.58, 0.55, 1.0]\n",
      "[0.9, 0.95, 53.4, 99.59, 102.57, 0.54, 1.0]\n",
      "[0.95, 0.5, 64.08, 99.64, 102.63, 0.64, 1.0]\n",
      "[0.95, 0.55, 64.08, 99.64, 102.63, 0.64, 1.0]\n",
      "[0.95, 0.6, 63.11, 99.64, 102.62, 0.63, 1.0]\n",
      "[0.95, 0.65, 62.14, 99.63, 102.62, 0.62, 1.0]\n",
      "[0.95, 0.7, 62.14, 99.63, 102.62, 0.62, 1.0]\n",
      "[0.95, 0.75, 60.19, 99.62, 102.61, 0.6, 1.0]\n",
      "[0.95, 0.8, 56.31, 99.6, 102.59, 0.57, 1.0]\n",
      "[0.95, 0.85, 56.31, 99.6, 102.59, 0.57, 1.0]\n",
      "[0.95, 0.9, 54.37, 99.59, 102.58, 0.55, 1.0]\n",
      "[0.95, 0.95, 53.4, 99.59, 102.57, 0.54, 1.0]\n"
     ]
    }
   ],
   "source": [
    "# run parameter grid search and collect accuracy, coverage, p-value\n",
    "CONDITIONS = [[i/100, s/100] for i in range(50, 100, 5) for s in range(50, 100, 5)]\n",
    "\n",
    "# read in precomputaded nerve predictions on known antigens\n",
    "nerve_tuning_results = pd.read_csv('./eu_vaccine_candidates.csv')\n",
    "\n",
    "outlist = []\n",
    "for condition in CONDITIONS:\n",
    "    number_of_selected_proteins = 0\n",
    "    number_of_total_proteins = 0\n",
    "    loclimit, padlimit = condition\n",
    "    \n",
    "    # evaluate for known antigens\n",
    "    list_of_known_antigens = protein_loader(nerve_tuning_results)\n",
    "    list_of_known_antigens_seqs = [protein.sequence for protein in list_of_known_antigens]\n",
    "    selected_antigens = select(list_of_proteins = list_of_known_antigens,\n",
    "                        transmem_doms_limit = 0,\n",
    "                        padlimit = padlimit, mouse = \"True\",\n",
    "                        mouse_peptides_sum_limit = .15,\n",
    "                        loclimit = loclimit,\n",
    "                              razor = \"True\")\n",
    "                        #antigen = \"False\",\n",
    "                        #antigenlimit = 0,\n",
    "                        #autoimmunity = True,\n",
    "                        #annotation = True)\n",
    "    # evaluate for proteomes\n",
    "    for proteome in tuning_proteomes:\n",
    "        path = os.path.join('./tuning/', proteome, 'eu_vaccine_candidates.csv')\n",
    "        list_of_proteins = protein_loader(path)\n",
    "        for protein in list_of_proteins:\n",
    "            if protein.sequence in list_of_known_antigens_seqs:\n",
    "                list_of_proteins.remove(protein)\n",
    "        selected_proteins = select(list_of_proteins = list_of_proteins,\n",
    "                            transmem_doms_limit = 3,\n",
    "                            padlimit = padlimit, mouse = \"True\",\n",
    "                            mouse_peptides_sum_limit = .15,\n",
    "                            loclimit = loclimit,\n",
    "                                  razor = \"True\")\n",
    "                                  #autoimmunity = True, \n",
    "                                  #annotation = True)\n",
    "        # populate values\n",
    "        number_of_selected_proteins += len(selected_proteins)\n",
    "        number_of_total_proteins += len(list_of_proteins)\n",
    "        \n",
    "    number_of_selected_proteins = number_of_selected_proteins + len(selected_antigens)\n",
    "    number_of_total_proteins = number_of_total_proteins + len(list_of_known_antigens)\n",
    "    \n",
    "    expected_bpas = round((len(list_of_known_antigens) * number_of_selected_proteins) / number_of_total_proteins, 2)\n",
    "    values = [loclimit, padlimit, round((len(selected_antigens) / len(list_of_known_antigens))*100, 2),\n",
    "                    round((number_of_selected_proteins / number_of_total_proteins)*100, 2),  \n",
    "                   expected_bpas, round(len(selected_antigens)/expected_bpas, 2), \n",
    "                    hg.sf(len(selected_antigens)-1, \n",
    "                          number_of_total_proteins, len(list_of_known_antigens), number_of_selected_proteins)]\n",
    "    print(values)\n",
    "    outlist.append(values)\n",
    "        \n",
    "        "
   ]
  },
  {
   "cell_type": "code",
   "execution_count": 102,
   "id": "b8a0c140",
   "metadata": {},
   "outputs": [
    {
     "data": {
      "text/html": [
       "<div>\n",
       "<style scoped>\n",
       "    .dataframe tbody tr th:only-of-type {\n",
       "        vertical-align: middle;\n",
       "    }\n",
       "\n",
       "    .dataframe tbody tr th {\n",
       "        vertical-align: top;\n",
       "    }\n",
       "\n",
       "    .dataframe thead th {\n",
       "        text-align: right;\n",
       "    }\n",
       "</style>\n",
       "<table border=\"1\" class=\"dataframe\">\n",
       "  <thead>\n",
       "    <tr style=\"text-align: right;\">\n",
       "      <th></th>\n",
       "      <th>loclimit</th>\n",
       "      <th>padlimit</th>\n",
       "      <th>recall (%)</th>\n",
       "      <th>coverage (%)</th>\n",
       "      <th>expected_bpas</th>\n",
       "      <th>fold-enrichment</th>\n",
       "      <th>p-value</th>\n",
       "    </tr>\n",
       "  </thead>\n",
       "  <tbody>\n",
       "    <tr>\n",
       "      <th>0</th>\n",
       "      <td>0.50</td>\n",
       "      <td>0.50</td>\n",
       "      <td>64.08</td>\n",
       "      <td>99.82</td>\n",
       "      <td>102.81</td>\n",
       "      <td>0.64</td>\n",
       "      <td>1.0</td>\n",
       "    </tr>\n",
       "    <tr>\n",
       "      <th>1</th>\n",
       "      <td>0.50</td>\n",
       "      <td>0.55</td>\n",
       "      <td>64.08</td>\n",
       "      <td>99.82</td>\n",
       "      <td>102.81</td>\n",
       "      <td>0.64</td>\n",
       "      <td>1.0</td>\n",
       "    </tr>\n",
       "    <tr>\n",
       "      <th>2</th>\n",
       "      <td>0.50</td>\n",
       "      <td>0.60</td>\n",
       "      <td>63.11</td>\n",
       "      <td>99.81</td>\n",
       "      <td>102.81</td>\n",
       "      <td>0.63</td>\n",
       "      <td>1.0</td>\n",
       "    </tr>\n",
       "    <tr>\n",
       "      <th>3</th>\n",
       "      <td>0.50</td>\n",
       "      <td>0.65</td>\n",
       "      <td>62.14</td>\n",
       "      <td>99.81</td>\n",
       "      <td>102.80</td>\n",
       "      <td>0.62</td>\n",
       "      <td>1.0</td>\n",
       "    </tr>\n",
       "    <tr>\n",
       "      <th>4</th>\n",
       "      <td>0.50</td>\n",
       "      <td>0.70</td>\n",
       "      <td>62.14</td>\n",
       "      <td>99.81</td>\n",
       "      <td>102.80</td>\n",
       "      <td>0.62</td>\n",
       "      <td>1.0</td>\n",
       "    </tr>\n",
       "    <tr>\n",
       "      <th>...</th>\n",
       "      <td>...</td>\n",
       "      <td>...</td>\n",
       "      <td>...</td>\n",
       "      <td>...</td>\n",
       "      <td>...</td>\n",
       "      <td>...</td>\n",
       "      <td>...</td>\n",
       "    </tr>\n",
       "    <tr>\n",
       "      <th>95</th>\n",
       "      <td>0.95</td>\n",
       "      <td>0.75</td>\n",
       "      <td>60.19</td>\n",
       "      <td>99.80</td>\n",
       "      <td>102.79</td>\n",
       "      <td>0.60</td>\n",
       "      <td>1.0</td>\n",
       "    </tr>\n",
       "    <tr>\n",
       "      <th>96</th>\n",
       "      <td>0.95</td>\n",
       "      <td>0.80</td>\n",
       "      <td>56.31</td>\n",
       "      <td>99.78</td>\n",
       "      <td>102.77</td>\n",
       "      <td>0.56</td>\n",
       "      <td>1.0</td>\n",
       "    </tr>\n",
       "    <tr>\n",
       "      <th>97</th>\n",
       "      <td>0.95</td>\n",
       "      <td>0.85</td>\n",
       "      <td>56.31</td>\n",
       "      <td>99.78</td>\n",
       "      <td>102.77</td>\n",
       "      <td>0.56</td>\n",
       "      <td>1.0</td>\n",
       "    </tr>\n",
       "    <tr>\n",
       "      <th>98</th>\n",
       "      <td>0.95</td>\n",
       "      <td>0.90</td>\n",
       "      <td>54.37</td>\n",
       "      <td>99.77</td>\n",
       "      <td>102.76</td>\n",
       "      <td>0.54</td>\n",
       "      <td>1.0</td>\n",
       "    </tr>\n",
       "    <tr>\n",
       "      <th>99</th>\n",
       "      <td>0.95</td>\n",
       "      <td>0.95</td>\n",
       "      <td>53.40</td>\n",
       "      <td>99.76</td>\n",
       "      <td>102.76</td>\n",
       "      <td>0.54</td>\n",
       "      <td>1.0</td>\n",
       "    </tr>\n",
       "  </tbody>\n",
       "</table>\n",
       "<p>100 rows × 7 columns</p>\n",
       "</div>"
      ],
      "text/plain": [
       "    loclimit  padlimit  recall (%)  coverage (%)  expected_bpas  \\\n",
       "0       0.50      0.50       64.08         99.82         102.81   \n",
       "1       0.50      0.55       64.08         99.82         102.81   \n",
       "2       0.50      0.60       63.11         99.81         102.81   \n",
       "3       0.50      0.65       62.14         99.81         102.80   \n",
       "4       0.50      0.70       62.14         99.81         102.80   \n",
       "..       ...       ...         ...           ...            ...   \n",
       "95      0.95      0.75       60.19         99.80         102.79   \n",
       "96      0.95      0.80       56.31         99.78         102.77   \n",
       "97      0.95      0.85       56.31         99.78         102.77   \n",
       "98      0.95      0.90       54.37         99.77         102.76   \n",
       "99      0.95      0.95       53.40         99.76         102.76   \n",
       "\n",
       "    fold-enrichment  p-value  \n",
       "0              0.64      1.0  \n",
       "1              0.64      1.0  \n",
       "2              0.63      1.0  \n",
       "3              0.62      1.0  \n",
       "4              0.62      1.0  \n",
       "..              ...      ...  \n",
       "95             0.60      1.0  \n",
       "96             0.56      1.0  \n",
       "97             0.56      1.0  \n",
       "98             0.54      1.0  \n",
       "99             0.54      1.0  \n",
       "\n",
       "[100 rows x 7 columns]"
      ]
     },
     "execution_count": 102,
     "metadata": {},
     "output_type": "execute_result"
    }
   ],
   "source": [
    "df = pd.DataFrame(outlist, columns = ['loclimit', 'padlimit', 'recall (%)',\n",
    "                                'coverage (%)', 'expected_bpas', 'fold-enrichment', 'p-value'])\n",
    "df"
   ]
  },
  {
   "cell_type": "code",
   "execution_count": 103,
   "id": "26f28675",
   "metadata": {},
   "outputs": [
    {
     "data": {
      "image/png": "[encoded data removed]",
      "text/plain": [
       "<Figure size 432x288 with 2 Axes>"
      ]
     },
     "metadata": {
      "needs_background": "light"
     },
     "output_type": "display_data"
    }
   ],
   "source": [
    " \n",
    "\n",
    "new_column = df.loclimit.unique()\n",
    "new_index = df.padlimit.unique()\n",
    "plot_outlist = []\n",
    "for index in new_index:\n",
    "    tmp_row = []\n",
    "    for column in new_column:\n",
    "        tmp_accuracy = df[(df.padlimit == index) & (df.loclimit == column)]['recall (%)'].to_list()[0]\n",
    "        tmp_row.append(tmp_accuracy)\n",
    "    plot_outlist.append(tmp_row)\n",
    "plot_df = pd.DataFrame(plot_outlist, index=new_index, columns=new_column)\n",
    "\n",
    "plt.imshow(plot_df, cmap =\"RdYlBu\", )\n",
    "plt.colorbar(label='Recall (%)')\n",
    "plt.xticks(range(len(plot_df)), plot_df.columns)\n",
    "plt.yticks(range(len(plot_df)), plot_df.index)\n",
    "plt.xlabel('loclimit')\n",
    "plt.ylabel('padlimit')\n",
    "plt.show()\n",
    "\n"
   ]
  },
  {
   "cell_type": "code",
   "execution_count": 104,
   "id": "41c65db8",
   "metadata": {},
   "outputs": [
    {
     "data": {
      "image/png": "[encoded data removed]",
      "text/plain": [
       "<Figure size 432x288 with 2 Axes>"
      ]
     },
     "metadata": {
      "needs_background": "light"
     },
     "output_type": "display_data"
    }
   ],
   "source": [
    "new_column = df.loclimit.unique()\n",
    "new_index = df.padlimit.unique()\n",
    "plot_outlist = []\n",
    "for index in new_index:\n",
    "    tmp_row = []\n",
    "    for column in new_column:\n",
    "        tmp_accuracy = df[(df.padlimit == index) & (df.loclimit == column)]['coverage (%)'].to_list()[0]\n",
    "        tmp_row.append(tmp_accuracy)\n",
    "    plot_outlist.append(tmp_row)\n",
    "plot_df = pd.DataFrame(plot_outlist, index=new_index, columns=new_column)\n",
    "\n",
    "plt.imshow(plot_df, cmap =\"RdYlBu\", )\n",
    "plt.colorbar(label='Coverage (%)')\n",
    "plt.xticks(range(len(plot_df)), plot_df.columns)\n",
    "plt.yticks(range(len(plot_df)), plot_df.index)\n",
    "plt.xlabel('loclimit')\n",
    "plt.ylabel('padlimit')\n",
    "plt.show()"
   ]
  },
  {
   "cell_type": "code",
   "execution_count": 105,
   "id": "c88d00e4",
   "metadata": {},
   "outputs": [
    {
     "data": {
      "image/png": "[encoded data removed]",
      "text/plain": [
       "<Figure size 432x288 with 2 Axes>"
      ]
     },
     "metadata": {
      "needs_background": "light"
     },
     "output_type": "display_data"
    }
   ],
   "source": [
    "new_column = df.loclimit.unique()\n",
    "new_index = df.padlimit.unique()\n",
    "plot_outlist = []\n",
    "for index in new_index:\n",
    "    tmp_row = []\n",
    "    for column in new_column:\n",
    "        tmp_accuracy = df[(df.padlimit == index) & (df.loclimit == column)]['fold-enrichment'].to_list()[0]\n",
    "        tmp_row.append(tmp_accuracy)\n",
    "    plot_outlist.append(tmp_row)\n",
    "plot_df = pd.DataFrame(plot_outlist, index=new_index, columns=new_column)\n",
    "\n",
    "plt.imshow(plot_df, cmap =\"RdYlBu\", )\n",
    "plt.colorbar(label='fold-enrichment')# format='%.0e')\n",
    "plt.xticks(range(len(plot_df)), plot_df.columns)\n",
    "plt.yticks(range(len(plot_df)), plot_df.index)\n",
    "plt.xlabel('loclimit')\n",
    "plt.ylabel('padlimit')\n",
    "plt.show()"
   ]
  },
  {
   "cell_type": "code",
   "execution_count": null,
   "id": "59dda8e2",
   "metadata": {},
   "outputs": [],
   "source": [
    "#df.to_csv('./tuning/NERVE_2_tuning.csv', index=False)"
   ]
  },
  {
   "cell_type": "code",
   "execution_count": null,
   "id": "edb371fd",
   "metadata": {},
   "outputs": [],
   "source": []
  },
  {
   "cell_type": "code",
   "execution_count": null,
   "id": "39c0cc10",
   "metadata": {},
   "outputs": [],
   "source": []
  }
 ],
 "metadata": {
  "kernelspec": {
   "display_name": "Python 3 (ipykernel)",
   "language": "python",
   "name": "python3"
  },
  "language_info": {
   "codemirror_mode": {
    "name": "ipython",
    "version": 3
   },
   "file_extension": ".py",
   "mimetype": "text/x-python",
   "name": "python",
   "nbconvert_exporter": "python",
   "pygments_lexer": "ipython3",
   "version": "3.9.12"
  }
 },
 "nbformat": 4,
 "nbformat_minor": 5
}
