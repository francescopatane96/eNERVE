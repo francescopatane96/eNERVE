{
  "cells": [
    {
      "cell_type": "markdown",
      "source": [
        "- How to develop an adhesin and adhesin-like proteins predictor model with tensorflow-keras package in python to discover new unseen adhesin eucaryotic proteins. \n",
        "\n",
        "\n",
        "This model is inspired by SPAAN (https://pubmed.ncbi.nlm.nih.gov/15374866/, SPAAN: a software program for prediction of adhesins and adhesin-like proteins using neural networks). In the wake of this first adhesins model, more similar models has emerged like fungalRV, FaaPred (fungal adhesins) and MAAP (malarial adhesins). Downside of these models lies in the negative dataset creation, consisting of only internal/cytoplasmatic proteins. In order to achieve better performance and limit the number of false positives euSPAAN uses a negative dataset which includes internal proteins and external ones not having adhesion properties. \n",
        "\n",
        "Positive dataset was created through a study of the available literature, searching for domains that caracterize adhesins proteins in eukarya domain. Domains were collected as PFAM domains and searched for using Interpro database (https://www.ebi.ac.uk/interpro/), collecting only eucaryotic proteins containing adhesion domains.\n",
        "\n",
        "Like previous times, resulting proteins of positive and negative classes were clusterized using cd-hit (30% homology similarity limit)."
      ],
      "metadata": {
        "id": "RPtGXdIl5b_E"
      }
    },
    {
      "cell_type": "markdown",
      "source": [
        "1. Data mining:\n"
      ],
      "metadata": {
        "id": "GxvWs0k06U-L"
      }
    },
    {
      "cell_type": "code",
      "execution_count": null,
      "metadata": {
        "id": "MsqwX40hDkRW"
      },
      "outputs": [],
      "source": [
        "%%capture\n",
        "!pip install Biopython\n",
        "!git clone https://github.com/Superzchen/iFeature\n",
        "\n",
        "import numpy as np\n",
        "import tensorflow\n",
        "from tensorflow import keras\n",
        "import matplotlib.pyplot as plt\n",
        "from Bio import SeqIO\n",
        "from random import sample\n",
        "import random\n",
        "\n",
        "np.random.seed(42)"
      ]
    },
    {
      "cell_type": "code",
      "execution_count": null,
      "metadata": {
        "id": "KDikJE7oubST"
      },
      "outputs": [],
      "source": [
        "#!pip install wandb"
      ]
    },
    {
      "cell_type": "code",
      "execution_count": null,
      "metadata": {
        "id": "AcQ48dZiuj2v"
      },
      "outputs": [],
      "source": [
        "#import wandb\n",
        "#wandb.init(project=\"uncategorized\")"
      ]
    },
    {
      "cell_type": "code",
      "execution_count": null,
      "metadata": {
        "colab": {
          "base_uri": "https://localhost:8080/"
        },
        "id": "1ITQTk9PMn6k",
        "outputId": "3356798d-87e6-4694-e2a3-b8004a405eb4"
      },
      "outputs": [
        {
          "output_type": "stream",
          "name": "stdout",
          "text": [
            "no sequences: 15630\n"
          ]
        }
      ],
      "source": [
        "file = open(\"negative.fasta\")\n",
        "n = 0\n",
        "for line in file:\n",
        "    if line.startswith(\">\"):\n",
        "        n += 1\n",
        "file.close()\n",
        "print('Number of non-adhesin sequences:', n)"
      ]
    },
    {
      "cell_type": "code",
      "execution_count": null,
      "metadata": {
        "colab": {
          "base_uri": "https://localhost:8080/"
        },
        "id": "Ylo21aEPNTmn",
        "outputId": "62067627-2f6b-432c-843b-ea9091e2ba24"
      },
      "outputs": [
        {
          "output_type": "stream",
          "name": "stdout",
          "text": [
            "no sequences: 2272\n"
          ]
        }
      ],
      "source": [
        "file = open(\"positive.fasta\")\n",
        "n = 0\n",
        "for line in file:\n",
        "    if line.startswith(\">\"):\n",
        "        n += 1\n",
        "file.close()\n",
        "print('number of adhesin sequences:', n)"
      ]
    },
    {
      "cell_type": "markdown",
      "source": [
        "Remember to balance classes"
      ],
      "metadata": {
        "id": "yqyKaQ7h-LLV"
      }
    },
    {
      "cell_type": "code",
      "execution_count": null,
      "metadata": {
        "id": "rezTtiM8AYFx"
      },
      "outputs": [],
      "source": [
        "with open(\"negative.fasta\") as f:\n",
        "    seqs = SeqIO.parse(f,\"fasta\")\n",
        "    x = (sample(list(seqs), 2272))\n",
        "    "
      ]
    },
    {
      "cell_type": "code",
      "execution_count": null,
      "metadata": {
        "colab": {
          "base_uri": "https://localhost:8080/"
        },
        "id": "ZmMwqXUWCwII",
        "outputId": "905901c0-f912-4a46-d98b-61297b7feeab"
      },
      "outputs": [
        {
          "output_type": "execute_result",
          "data": {
            "text/plain": [
              "2272"
            ]
          },
          "metadata": {},
          "execution_count": 7
        }
      ],
      "source": [
        "f = open(\"negative.fasta\",\"w\")\n",
        "SeqIO.write(x, f, \"fasta\")"
      ]
    },
    {
      "cell_type": "code",
      "execution_count": null,
      "metadata": {
        "colab": {
          "base_uri": "https://localhost:8080/"
        },
        "id": "RB2C40FrHE6J",
        "outputId": "065588bc-512c-4d34-acc6-62527aecf4cf"
      },
      "outputs": [
        {
          "output_type": "stream",
          "name": "stdout",
          "text": [
            "Descriptor type: AAC\n",
            "Descriptor type: DPC\n",
            "Descriptor type: CTDC\n",
            "Descriptor type: CTDT\n",
            "Descriptor type: CTDD\n",
            "positive: DONE!\n",
            "Descriptor type: AAC\n",
            "Descriptor type: DPC\n",
            "Descriptor type: CTDC\n",
            "Descriptor type: CTDT\n",
            "Descriptor type: CTDD\n",
            "negative: DONE!\n"
          ]
        }
      ],
      "source": [
        "# put the right path\n",
        "!python iFeature/iFeature.py --file ./positive.fasta --type AAC --out aac_pos.out    # amino acids composition\n",
        "!python iFeature/iFeature.py --file ./positive.fasta --type DPC --out dpc_pos.out    # dipeptide composition\n",
        "!python iFeature/iFeature.py --file ./positive.fasta --type CTDC --out ctdc_pos.out  # composition\n",
        "!python iFeature/iFeature.py --file ./positive.fasta --type CTDT --out ctdt_pos.out  # transition\n",
        "!python iFeature/iFeature.py --file ./positive.fasta --type CTDD --out ctdd_pos.out  # distribution\n",
        "\n",
        "print(\"positive: DONE!\")\n",
        "\n",
        "!python iFeature/iFeature.py --file ./negative.fasta --type AAC --out aac_neg.out    # amino acids composition\n",
        "!python iFeature/iFeature.py --file ./negative.fasta --type DPC --out dpc_neg.out    # dipeptide composition\n",
        "!python iFeature/iFeature.py --file ./negative.fasta --type CTDC --out ctdc_neg.out  # composition\n",
        "!python iFeature/iFeature.py --file ./negative.fasta --type CTDT --out ctdt_neg.out  # transition\n",
        "!python iFeature/iFeature.py --file ./negative.fasta --type CTDD --out ctdd_neg.out  # distribution\n",
        "\n",
        "print(\"negative: DONE!\")\n"
      ]
    },
    {
      "cell_type": "markdown",
      "metadata": {
        "id": "juQzJ1xYL1av"
      },
      "source": [
        "Transform data into vectors to feed the neural network"
      ]
    },
    {
      "cell_type": "code",
      "execution_count": null,
      "metadata": {
        "id": "mjc0mbnnL-FR"
      },
      "outputs": [],
      "source": [
        "def data2vec(fasta_path, positive=True):\n",
        "    if positive:\n",
        "        proteins = list(SeqIO.parse(fasta_path+'positive.fasta', \"fasta\"))\n",
        "    else:\n",
        "        proteins = list(SeqIO.parse(fasta_path+'negative.fasta', \"fasta\"))\n",
        "    extension = \".out\"\n",
        "    files = [\"aac\", \"dpc\", \"ctdc\", \"ctdt\", \"ctdd\"]\n",
        "    if positive:\n",
        "        names = \"_pos\"\n",
        "    else:\n",
        "        names = \"_neg\"\n",
        "    for i in range(len(files)):\n",
        "        files[i] += names\n",
        "    datasets = [[] for el in files]\n",
        "    for i in range(len(files)):\n",
        "        with open(fasta_path+files[i]+extension) as f:\n",
        "            lines = f.readlines()[1:]\n",
        "            check_prot = 0\n",
        "            for line in lines:\n",
        "                information = line.split('\\t')    \n",
        "                \n",
        "                if not information[0] == proteins[check_prot].id:\n",
        "                    print(\"Error in protein order! Return\")\n",
        "                    \n",
        "                    return datasets\n",
        "                    \n",
        "                datasets[i].append(np.array([float(el) for el in information[1:]]))\n",
        "                check_prot += 1\n",
        "        datasets[i] = np.array(datasets[i])\n",
        "    return datasets"
      ]
    },
    {
      "cell_type": "code",
      "execution_count": null,
      "metadata": {
        "id": "34tmATe-OBrl"
      },
      "outputs": [],
      "source": [
        "# put the right path\n",
        "pos_datasets = data2vec(\"./\", positive=True)\n",
        "neg_datasets = data2vec(\"./\", positive=False)"
      ]
    },
    {
      "cell_type": "code",
      "execution_count": null,
      "metadata": {
        "id": "6f5wlbLzXolx"
      },
      "outputs": [],
      "source": [
        "y_pos = np.ones(pos_datasets[0].shape[0])\n",
        "y_neg = np.zeros(neg_datasets[0].shape[0])"
      ]
    },
    {
      "cell_type": "code",
      "execution_count": null,
      "metadata": {
        "colab": {
          "base_uri": "https://localhost:8080/"
        },
        "id": "PBBy_1KPYzlQ",
        "outputId": "be2e792f-4a4d-4831-f25e-971b0e7ce63e"
      },
      "outputs": [
        {
          "output_type": "stream",
          "name": "stdout",
          "text": [
            "Adhesins: 2272\n",
            "NON Adhesins: 2254\n"
          ]
        }
      ],
      "source": [
        "# attach datasets in order to obtain a matrix of (n, 20+400+39+39+195) features\n",
        "\n",
        "# keep in mind the number of adhesins and the number of not adhesins\n",
        "rows = 0\n",
        "n_pos = y_pos.shape[0]\n",
        "n_neg = y_neg.shape[0]\n",
        "rows = n_pos + n_neg\n",
        "print('Adhesins:', n_pos)\n",
        "print('NON Adhesins:', n_neg)"
      ]
    },
    {
      "cell_type": "code",
      "execution_count": null,
      "metadata": {
        "colab": {
          "base_uri": "https://localhost:8080/"
        },
        "id": "4JM5OYb-ZPeW",
        "outputId": "74564278-4b63-461d-dd89-02a50b3cd03f"
      },
      "outputs": [
        {
          "output_type": "stream",
          "name": "stdout",
          "text": [
            "1 -th feature dim: 20\n",
            "2 -th feature dim: 400\n",
            "3 -th feature dim: 39\n",
            "4 -th feature dim: 39\n",
            "5 -th feature dim: 195\n"
          ]
        }
      ],
      "source": [
        "# feature vectors dimensions\n",
        "columns = 0\n",
        "num_descriptors = []\n",
        "for i in range(len(pos_datasets)):\n",
        "    tmp_dim = pos_datasets[i].shape[1]\n",
        "    print(i+1, '-th feature dim:', tmp_dim)\n",
        "    columns += tmp_dim\n",
        "    num_descriptors.append(i+1)\n",
        "num_descriptors = (len(num_descriptors))"
      ]
    },
    {
      "cell_type": "code",
      "execution_count": null,
      "metadata": {
        "colab": {
          "base_uri": "https://localhost:8080/"
        },
        "id": "1HDiUNVIJSka",
        "outputId": "f24a0cb9-5cd4-41dd-bc5f-8484b697eae6"
      },
      "outputs": [
        {
          "output_type": "stream",
          "name": "stdout",
          "text": [
            "Data matrix dimension: (4526, 693)\n"
          ]
        }
      ],
      "source": [
        "# data matrix to process\n",
        "X = np.zeros((rows, columns))\n",
        "print('Data matrix dimension:', X.shape)\n",
        "\n",
        "for i in range(n_pos):\n",
        "    X[i] = np.concatenate([pos_datasets[j][i] for j in range(num_descriptors)])\n",
        "for i in range(n_neg):\n",
        "    X[n_pos+i] = np.concatenate([neg_datasets[j][i] for j in range(num_descriptors)])"
      ]
    },
    {
      "cell_type": "code",
      "execution_count": null,
      "metadata": {
        "id": "cr8uLPjOKSMJ"
      },
      "outputs": [],
      "source": [
        "# random permutation\n",
        "y = np.concatenate((y_pos, y_neg), axis=0)\n",
        "c = np.random.permutation(np.arange(y.shape[0]))\n",
        "y = y[c]\n",
        "X = X[c]"
      ]
    },
    {
      "cell_type": "code",
      "execution_count": null,
      "metadata": {
        "id": "m_bFMQNnWY5D"
      },
      "outputs": [],
      "source": [
        "train_size = int(X.shape[0] * 0.8)\n",
        "X_train = X[:train_size]\n",
        "y_train = y[:train_size]\n",
        "\n",
        "val_size = int(X.shape[0] * 0.1)\n",
        "X_val = X[-val_size:]\n",
        "y_val = y[-val_size:]\n",
        "\n",
        "test_size = int(X.shape[0] * 0.1)\n",
        "X_test = X[-test_size:]\n",
        "y_test = y[-test_size:]\n"
      ]
    },
    {
      "cell_type": "code",
      "execution_count": null,
      "metadata": {
        "colab": {
          "base_uri": "https://localhost:8080/"
        },
        "id": "j-S5oAL9WjuH",
        "outputId": "b7f880ab-5720-4ccb-d142-de781ce213cf"
      },
      "outputs": [
        {
          "output_type": "stream",
          "name": "stdout",
          "text": [
            "Training data shape: (3620, 693) (3620,)\n",
            "Validation data shape: (452, 693) (452,)\n",
            "Test adhesins and not-adhesins: 209 243\n"
          ]
        }
      ],
      "source": [
        "print('Training data shape:', X_train.shape, y_train.shape)\n",
        "print('Validation data shape:', X_val.shape, y_val.shape)\n",
        "print('Test adhesins and not-adhesins:', int(sum(y_test)), int(y_test.shape[0]-sum(y_test)))"
      ]
    },
    {
      "cell_type": "code",
      "execution_count": null,
      "metadata": {
        "colab": {
          "base_uri": "https://localhost:8080/"
        },
        "id": "LVxa2_O0PffY",
        "outputId": "c5fc8c51-bee3-45bf-80ab-34f876a60005"
      },
      "outputs": [
        {
          "output_type": "stream",
          "name": "stdout",
          "text": [
            "Before standardization:\n",
            "mean of the first column: 0.07807278304919155\n",
            "mean of the second column: 0.01622243656962024\n",
            "mean of the 451-th column: 0.09543890441468939\n",
            "After standardization:\n",
            "mean of the first column: 2.443717419948411e-16\n",
            "mean of the second column: -6.37918201994565e-17\n",
            "mean of the 451-th column: 1.408327107480309e-16\n"
          ]
        }
      ],
      "source": [
        "# standardize data\n",
        "# remember that test and validation data have to be standardized with training mean and std dev\n",
        "# https://stats.stackexchange.com/questions/174823/how-to-apply-standardization-normalization-to-train-and-testset-if-prediction-i\n",
        "\n",
        "# print some column vectors to check\n",
        "print('Before standardization:')\n",
        "print('mean of the first column:', np.mean(X_train[:,0]))\n",
        "print('mean of the second column:', np.mean(X_train[:,1]))\n",
        "print('mean of the 451-th column:', np.mean(X_train[:,450]))\n",
        "\n",
        "stdX = np.zeros(X_train.shape)\n",
        "stdX_val = np.zeros(X_val.shape)\n",
        "stdX_test = np.zeros(X_test.shape)\n",
        "\n",
        "means = np.zeros(X_train.shape[1])\n",
        "std_devs = np.zeros(X_train.shape[1])\n",
        "\n",
        "for j in range(X_train.shape[1]):\n",
        "    column = X_train[:,j]\n",
        "    means[j] = np.mean(column)\n",
        "    std_devs[j] = np.std(column)\n",
        "\n",
        "    stdX[:,j] = (column - means[j]) / std_devs[j]\n",
        "    stdX_val[:,j] = (X_val[:,j] - means[j]) / std_devs[j]\n",
        "    stdX_test[:,j] = (X_test[:,j] - means[j]) / std_devs[j]\n",
        "\n",
        "print('After standardization:')\n",
        "print('mean of the first column:', np.mean(stdX[:,0]))\n",
        "print('mean of the second column:', np.mean(stdX[:,1]))\n",
        "print('mean of the 451-th column:', np.mean(stdX[:,450]))\n",
        "\n",
        "np.save('mean', means)\n",
        "np.save('std', std_devs)"
      ]
    },
    {
      "cell_type": "code",
      "execution_count": null,
      "metadata": {
        "id": "pXepFr8XP23_"
      },
      "outputs": [],
      "source": [
        "covariance_matrix = np.cov(stdX.T)"
      ]
    },
    {
      "cell_type": "code",
      "execution_count": null,
      "metadata": {
        "id": "18SmuQudP8ZX"
      },
      "outputs": [],
      "source": [
        "# The covariance matrix is symmetric, and thus has real eigenvalues. You may see a small imaginary part in some eigenvalues due to numerical error. The imaginary parts can generally be ignored.\n",
        "# source: https://stackoverflow.com/questions/10420648/complex-eigen-values-in-pca-calculation\n",
        "\n",
        "eigen_values, eigen_vectors = np.linalg.eig(covariance_matrix)\n",
        "eigen_values = np.real(eigen_values)\n",
        "eigen_vectors = np.real(eigen_vectors)"
      ]
    },
    {
      "cell_type": "code",
      "execution_count": null,
      "metadata": {
        "colab": {
          "base_uri": "https://localhost:8080/"
        },
        "id": "cFtQz88-QCVO",
        "outputId": "094f35e3-5e34-4be0-efc4-689754acc016"
      },
      "outputs": [
        {
          "output_type": "stream",
          "name": "stdout",
          "text": [
            "[8.941135895554796, 5.262243680929209, 4.119178211977088, 3.2026476520342366, 2.720803317879621, 2.6431487167348644, 1.8084788989828289, 1.5083795006685257, 1.2627475321535904, 1.1308022023236421, 1.0439719013175386, 0.9677739073894418, 0.9486056286665644, 0.8856816210728353, 0.8432939265723604, 0.818176494799194, 0.7622478251913081, 0.739128248221421, 0.7030931943203792, 0.6843279158070421, 0.6407234521665879, 0.626012194340028, 0.6038878910522807, 0.5671269766415984, 0.5548154959818681, 0.5436469960692041, 0.5213674896914918, 0.5096401547242944, 0.48811933964456294, 0.48638847869984897, 0.47028095475336545, 0.46765102679399995, 0.45533048748350163, 0.4443925347271926, 0.4210571985344224, 0.40144647817100393, 0.3945644238034145, 0.3817756005178797, 0.36923032201380834, 0.36305951574635376, 0.35120168512476574, 0.34069770229652363, 0.3321258293793479, 0.3187935454185041, 0.31554800324133786, 0.31208110500956737, 0.3099713166911057, 0.30375681682961997, 0.30131988825770956, 0.29761945811699125, 0.2928086882537321, 0.28821588767757306, 0.28643195412296496, 0.27816778584430596, 0.27412701959000774, 0.27006269246283193, 0.262218486315876, 0.26070304267486055, 0.26001352798552685, 0.25456930225138724, 0.2529749744195983, 0.25001952340378153, 0.2495929809237064, 0.24713031977079414, 0.24580944369098212, 0.2432265373216491, 0.2403125051292848, 0.23812541354914654, 0.2364016570970317, 0.23357663439109838, 0.23292174673682667, 0.23203892566037676, 0.22832028155992537, 0.2269743660789426, 0.22417554508367354, 0.2200570765967172, 0.22226962213277618, 0.21789510797870182, 0.21632716547630593, 0.21604790953147598, 0.21499730421881083, 0.21359950302553132, 0.21145026767250952, 0.21057956597466732, 0.20988582905392253, 0.20869913591958308, 0.2078109761412867, 0.20588349386047883, 0.20471318426708798, 0.1978693264076384, 0.2025281575816767, 0.2019999961690697, 0.20146931832487636, 0.1997937575265652, 0.19595997837814705, 0.1940720442736217, 0.19353785238384327, 0.19261634988975984, 0.19123704991203938, 0.19080994942957244, 0.1896550078387948, 0.18877104054620333, 0.18763231148930348, 0.186341096440224, 0.18528445369781388, 0.1844702718281093, 0.18344974032701333, 0.18243755534008715, 0.18134806278049984, 0.18038299588120238, 0.17886822426805102, 0.17734888851574981, 0.17654385047886476, 0.1760107982065424, 0.17430497028672132, 0.17288842063906787, 0.17229286293987645, 0.17173450442078572, 0.17129625569875084, 0.17103022914231258, 0.17009997447343259, 0.16901458150736895, 0.16951187813318908, 0.16832623078931438, 0.16559438168189958, 0.16695172990411056, 0.1666123115471274, 0.16593727070560846, 0.16346904855474423, 0.16315747611407963, 0.16280313249153586, 0.1618907697117181, 0.14405497109945473, 0.1440724765752069, 0.14483549695817924, 0.1609138523533878, 0.16029238646393407, 0.15845578748968878, 0.15911716970293935, 0.15974285193810342, 0.14530972593555022, 0.15668735228360223, 0.1467835717273632, 0.15615694321175694, 0.15446409982421172, 0.14935491398852585, 0.15073838133597264, 0.15248684830956635, 0.1532467895517137, 0.14763369601858808, 0.14816155313899906, 0.15117479011390614, 0.1528747990741861, 0.1549731451787183, 0.15557630732899447, 0.14996189087934428, 0.14810878818315684, 0.1425633479744979, 0.1421241171367234, 0.14152559197263898, 0.14093586522569745, 0.14060370639186842, 0.13997014293185842, 0.13982351942397298, 0.13895671082661784, 0.138496064093684, 0.11780155605608733, 0.11830580988485442, 0.1374238832483165, 0.13707551681128835, 0.13675455762428174, 0.1363095716133301, 0.13569521474006088, 0.1349644241425773, 0.11983043346670968, 0.119733648252357, 0.13472054019765617, 0.12026307964721754, 0.13363929256686413, 0.133510875631102, 0.12078511930676518, 0.12090120618409136, 0.13268138305760846, 0.12202251661876362, 0.12238126406050744, 0.1319577996076167, 0.12994051838226348, 0.12901941314384843, 0.13068532042203843, 0.12302088677335554, 0.13107731180852727, 0.13182794166432785, 0.12796596547089806, 0.12712864016794906, 0.12686516365782208, 0.12360731640033798, 0.12335842793462788, 0.13139523985530266, 0.12440712371600135, 0.1253795285471645, 0.12825443010604035, 0.12427435786054485, 0.12612094791224482, 0.1262049082111377, 0.1253314392572658, 0.10440789414239568, 0.10490563496321843, 0.11748453594928124, 0.11708113359621007, 0.10600728947821633, 0.10642830707099646, 0.1052300648393857, 0.10519084844472916, 0.10697764170390008, 0.11622643795590201, 0.1071171842002282, 0.1072601224855839, 0.11571100463933551, 0.10823411773672725, 0.10868977872743787, 0.11551199981079457, 0.10911738929726435, 0.11514662280077549, 0.11093125814454412, 0.1114914623702566, 0.11384006165116466, 0.11465461500150466, 0.11299016046967533, 0.11193175818010109, 0.10989389388238843, 0.11007894920763944, 0.11409446815789015, 0.11242935636622596, 0.11027442341034416, 0.11439769892631334, 0.11278571692018863, 0.095078506554904, 0.09516298276854514, 0.09536241150887882, 0.09583234376179235, 0.09611720530140941, 0.09660524606589996, 0.09687566136291301, 0.09709057103816854, 0.09908895385410937, 0.09833605467890452, 0.09819381757383105, 0.10368249635620953, 0.10253904494985285, 0.10292297915466816, 0.10065604597763753, 0.09966942723552068, 0.1033238379426353, 0.10211104303973165, 0.10118529360846193, 0.10131040560731612, 0.09815405601804644, 0.10004087831091946, 0.09997011501989418, 0.10158320352788254, 0.08724397680055622, 0.08732494065499016, 0.08792716961523962, 0.08843876494505144, 0.08871738160847377, 0.08895226421932698, 0.08927396031074922, 0.08946161646730627, 0.08997136785658259, 0.09066980597446729, 0.0910019698890626, 0.09113287960757797, 0.09223793700896477, 0.09273704525051547, 0.09251179824331243, 0.09311663491683898, 0.0940874023420659, 0.09185105557437803, 0.09375299144906436, 0.09373352052299498, 0.09471731225564499, 0.07954319746007724, 0.08010632877535344, 0.0805121372821869, 0.08083242435056148, 0.08115660060879891, 0.08157337413137494, 0.08191166284034083, 0.08689983304919521, 0.08240835810609061, 0.08330864592218021, 0.08452272631069559, 0.08506807138956117, 0.08609019853864908, 0.0854900069759758, 0.08591186531643234, 0.08379596397175015, 0.08300394265798089, 0.08409411805193807, 0.08265305874813113, 0.0828418300368623, 0.08578093545383039, 0.07969909949700713, 0.07858504685299547, 0.07879398195680767, 0.07934606392825753, 0.07799330245476647, 0.07784091031001643, 0.07736701660147775, 0.07818971567614015, 0.07698090803563144, 0.07669874987406797, 0.07603659885394484, 0.07578448535992399, 0.07121611137357332, 0.07543210335870676, 0.0714245536610205, 0.07363879518871085, 0.07492841825269325, 0.07456342457540728, 0.0753552511041171, 0.07213978377927963, 0.07225105548478054, 0.07468163814989856, 0.0729805046790326, 0.0732499138624834, 0.07280237043255626, 0.07406798112725407, 0.07256124608584053, 0.07071634892354148, 0.07055113576822186, 0.0699780521290697, 0.07004504256398224, 0.06953535426449552, 0.06924971832890334, 0.06788144904559473, 0.06842360340428658, 0.06867334429345036, 0.02581765351483449, 0.02673291631617632, 0.02703875599996335, 0.027858305323702308, 0.028072231458121905, 0.029360422523515266, 0.029069835981790526, 0.028695501577568977, 0.025423326051411323, 0.029799987386082964, 0.06886795518216819, 0.025090089315867103, 0.023533299815332524, 0.02310614112787254, 0.03067990416661672, 0.030255502952508576, 0.03256732855696391, 0.024068169880682926, 0.02468177116206527, 0.03391561258920007, 0.033216873272604294, 0.02243578624354625, 0.021717958894180357, 0.03135195247952869, 0.03311396128380638, 0.03486776196885638, 0.024307342780687514, 0.022323059830536972, 0.03163034195315553, 0.021039620295504664, 0.035084954837336736, 0.03594537391645627, 0.03150116425919299, 0.035258266847079944, 0.03689786705524004, 0.022104114787406502, 0.037482018224163055, 0.03668408278538767, 0.0364963717471984, 0.016278045842803446, 0.017103907288009246, 0.02051146849854525, 0.02017259134332628, 0.01973802571749763, 0.018806039232831938, 0.01929547856891367, 0.019330842519087354, 0.01737989910696643, 0.017832743351380936, 0.01752246781451173, 0.018123017032255627, 0.01833598361010154, 0.0673006704827327, 0.020374551502415232, 0.0668936195576442, 0.06716820521047724, 0.037930415142019544, 0.038494799519776, 0.066538026799618, 0.06625552157424272, 0.06589980563474013, 0.041686160147649504, 0.04122912215840574, 0.0649893930990802, 0.06556850006255498, 0.040877119918731386, 0.06468551531418361, 0.039062941039327406, 0.03910179377114714, 0.06351497543572378, 0.061803933574033944, 0.06429385511845054, 0.06275942297352399, 0.03997160233795615, 0.04006962196293398, 0.062172333378576077, 0.062331643722928015, 0.06571330540512774, 0.06420853716284387, 0.04060054397391123, 0.06284202410700784, 0.015251481741141517, 0.01594654736855824, 0.016146283088943968, 0.04222659315208755, 0.06082373364799409, 0.06111728358816676, 0.061328642197549924, 0.061627574172188, 0.04281703903311009, 0.012240463724134511, 0.014223424866554143, 0.014496230311443366, 0.012444672660587373, 0.012971248704283579, 0.014681281251743502, 0.014731475359743456, 0.012711933707703198, 0.014939104371897015, 0.01337234615538391, 0.01662162454477766, 0.0601920249317203, 0.05940988872168715, 0.05949626833389745, 0.059753511725225195, 0.011850780143222378, 0.01166559892788875, 0.011444242142185552, 0.011246511098038793, 0.010808760521735716, 0.007613085963267185, 0.007804188027552174, 0.008032167897049105, 0.05973061469752491, 0.04306234802494978, 0.05853407471275849, 0.05832433103312442, 0.05814219463946332, 0.043218508745175264, 0.043589863553053956, 0.043770547248778685, 0.046176889118609676, 0.04459671866818502, 0.009507461757056369, 0.010113321998610878, 0.057525819838741395, 0.05729617791029011, 0.04669786203638034, 0.04432351973370413, 0.04536029501506555, 0.05892223211948512, 0.04505275981094791, 0.057578527609945494, 0.01326116388456237, 0.016685588938936173, 0.007155376240295631, 0.010412231333707164, 0.008770250187104884, 0.008905670072822676, 0.009365202639267281, 0.009666360233855777, 0.008425193391289195, 0.008281468998177211, 0.009850605123212609, 0.04488422980521123, 0.04583022272774522, 0.056783770471914075, 0.052534018363279616, 0.04951403219613152, 0.049130849254566046, 0.047313432175754865, 0.047591971916610395, 0.04985756291645894, 0.04820453075581965, 0.04855195674734465, 0.05629043628712239, 0.05230533637682936, 0.05301761231318302, 0.05168949165001337, 0.053271848777888736, 0.04788595359905818, 0.051217903966143945, 0.05074791148584762, 0.05611849693773092, 0.05597031683688532, 0.05506723307693742, 0.05530806072295517, 0.055537558642151964, 0.0546597575723364, 0.047379678217771025, 0.05392052620029294, 0.0536675663563793, 0.054495449986772845, 0.05397427864284949, 0.04867492269788718, 0.050624776243175906, 0.05034160009047009, 0.05042047829748364, 0.00588529803684498, 0.005693851868268192, 0.006425695257096518, 0.006780179410332645, 0.006248440870948153, 0.006939367540946999, 0.007080051335688966, 0.010283127353134799, 0.007916036926626194, 0.05615696636541808, 0.0075110663247383155, 0.006222585835647103, 0.00542818953829367, 0.005564482206115654, 0.0050785942988156125, 0.005242906136126554, 0.0043359573369534865, 0.004864637384767623, 0.002357779636412201, 0.0025186106053003026, 0.0028915120704083117, 0.002829675018766051, 0.0034382066457707243, 0.0033711661680604233, 0.004781084948233067, 0.002400548340070322, 0.004605239612586956, 0.004155727065321056, 0.0049438471664994404, 0.0030667948229477363, 0.0036584947907422455, 0.0038313080684385134, 0.0026100970266442294, 0.004109124042729234, 0.0039278084653638886, 0.003946737529914701, 0.0017346978901760222, 0.0014876713245310553, 0.0014078171380011626, 0.0011767004007395777, 0.0012075598537272159, 0.0010189109010857059, 0.0008832094004412877, 0.0007224455538639384, 0.00031657771227036553, 0.00029181131660150153, 0.00022453500335301228, 0.0002222182061098098, 0.00020899480213466864, 0.000186470008514894, 0.00017018300739298493, 0.0001659906978606156, 0.00016526482982722084, 0.00014774912368950064, 0.00014419628227174585, 0.0001304609048527908, 0.00011371258290065851, 0.00010208389933908296, 9.052809442426432e-05, 7.124220908378104e-05, 6.838719577527637e-05, 6.276445042841075e-05, 4.9488909927913194e-05, 4.6859954455668336e-05, 1.1347151393229899e-05, 9.491022197156559e-06, 6.37307450379978e-06, 5.609854257516098e-06, 5.279895117070532e-06, 3.898304821765472e-06, 3.3539041770912754e-06, 2.567136102892209e-06, 2.095946428652642e-06, 1.9638344803229668e-06, 1.9769042457190007e-06, 1.6788545607029211e-06, 1.5069544320877274e-06, 1.3510797913201165e-06, 1.2076669678946932e-06, 1.0740087290101246e-06, 7.868516504834233e-07, 7.716361233442221e-07, -2.7858883722216725e-16, 2.7425323133599987e-16, 2.3257330032374817e-16, 2.3257330032374817e-16, 2.52535766291188e-16, 2.52535766291188e-16, -1.8551159347971462e-16, -1.8551159347971462e-16, -2.238661731793318e-16, -2.238661731793318e-16, -1.151706271164075e-16, -1.151706271164075e-16, -2.0175069401670307e-16, -2.0721370652629931e-16, -2.0721370652629931e-16, 2.0371063477100699e-16, 2.0371063477100699e-16, 1.2298459056653514e-16, 1.2298459056653514e-16, -1.3449715444591207e-16, -1.3449715444591207e-16, 1.7192440208359313e-16, 1.7192440208359313e-16, -1.6327677390365056e-16, -2.00970157910835e-17, -2.00970157910835e-17, -8.863374440769546e-17, -8.863374440769546e-17, 6.997525613814382e-17, 6.997525613814382e-17, 1.3606786059766678e-16, 1.3606786059766678e-16, -4.198830242069406e-17, -4.198830242069406e-17, -1.4151227630391816e-16, -1.4151227630391816e-16, 1.0583453959095026e-16, 1.0583453959095026e-16, 1.2232291993028227e-16, 1.248856692036344e-16, 1.248856692036344e-16, -9.656827249786576e-17, -9.656827249786576e-17, -4.4185170764800454e-17, -4.4185170764800454e-17, -1.1025724679453306e-16, -1.1025724679453306e-16, 3.592075102278002e-17, 3.592075102278002e-17, -9.996146697076296e-17, -9.996146697076296e-17, 6.341374416066866e-17, 6.341374416066866e-17, 8.78345153183517e-17, 7.500456483239468e-18, 7.500456483239468e-18, -7.631645094437942e-17, -7.631645094437942e-17, -3.8346141886742344e-17, -3.8346141886742344e-17, 8.132148336565414e-17, 8.132148336565414e-17, -7.768888124870372e-17, 6.450230153574982e-17, 6.450230153574982e-17, -5.923633478854846e-17, -5.923633478854846e-17, -5.56417970384816e-17, 2.0576380889581012e-17, 2.0576380889581012e-17, 4.584544855912264e-17, 1.9155409430694902e-17, 1.9155409430694902e-17, 2.1385614892827892e-17, 2.1385614892827892e-17, -2.2375183615691162e-17, -9.494421199544432e-18, -9.494421199544432e-18, 7.221736565624436e-18, -4.366216113378472e-18, -4.366216113378472e-18, 5.6350094062136085e-18, -4.31108510581287e-18, 3.191404540453051e-18, 3.191404540453051e-18, -1.3526210531857643e-18, -1.3526210531857643e-18, 1.5460290138810455e-18, 6.411814659839741e-19, 2.3585202151325586e-19, 2.3585202151325586e-19, 1.1093171973667709e-32, 1.1093171973667709e-32, -1.3153097522872386e-32, -2.1285760497739145e-33]\n"
          ]
        }
      ],
      "source": [
        "# Calculating the explained variance on each of components\n",
        "\n",
        "variance_explained = []\n",
        "for i in eigen_values:\n",
        "    variance_explained.append((i/sum(eigen_values))*100)\n",
        "\n",
        "print(variance_explained)"
      ]
    },
    {
      "cell_type": "code",
      "execution_count": null,
      "metadata": {
        "id": "QzeN6lhFQMQU"
      },
      "outputs": [],
      "source": [
        "cumulative_variance_explained = np.cumsum(variance_explained)"
      ]
    },
    {
      "cell_type": "code",
      "execution_count": null,
      "metadata": {
        "colab": {
          "base_uri": "https://localhost:8080/",
          "height": 472
        },
        "id": "E-ptLDwiQO_N",
        "outputId": "03d9bbdb-81f2-48a8-9c48-41578cdc21de"
      },
      "outputs": [
        {
          "output_type": "display_data",
          "data": {
            "text/plain": [
              "<Figure size 640x480 with 1 Axes>"
            ],
            "image/png": "[encoded data removed]"
          },
          "metadata": {}
        }
      ],
      "source": [
        "plt.title(\"Explained variance vs Number of components\")\n",
        "\n",
        "plt.xlabel(\"Number of components\")\n",
        "plt.ylabel(\"Cumulative explained variance\")\n",
        "plt.grid(color='gray', linewidth=.4)\n",
        "\n",
        "plt.plot(range(len(cumulative_variance_explained)), cumulative_variance_explained)\n",
        "\n",
        "plt.show()\n",
        "#plt.savefig('Explained variance.png')"
      ]
    },
    {
      "cell_type": "code",
      "execution_count": null,
      "metadata": {
        "colab": {
          "base_uri": "https://localhost:8080/"
        },
        "id": "eWh3__KEQeZo",
        "outputId": "49ac0f18-e246-45e5-cd6e-decb860ef3df"
      },
      "outputs": [
        {
          "output_type": "stream",
          "name": "stdout",
          "text": [
            "Principal components: 500\n",
            "Discarded components: 193\n"
          ]
        }
      ],
      "source": [
        "K = 500\n",
        "print('Principal components:', K)\n",
        "print('Discarded components:', columns-K)"
      ]
    },
    {
      "cell_type": "code",
      "execution_count": null,
      "metadata": {
        "colab": {
          "base_uri": "https://localhost:8080/",
          "height": 472
        },
        "id": "QSWxwxCgQj1Q",
        "outputId": "0f27acec-8e45-4b03-eb24-fcb1918a75e1"
      },
      "outputs": [
        {
          "output_type": "display_data",
          "data": {
            "text/plain": [
              "<Figure size 640x480 with 1 Axes>"
            ],
            "image/png": "[encoded data removed]"
          },
          "metadata": {}
        }
      ],
      "source": [
        "plt.title(\"Explained variance vs first \" + str(K) + \" components\")\n",
        "\n",
        "plt.xlabel(\"Number of components\")\n",
        "plt.ylabel(\"Cumulative explained variance\")\n",
        "plt.grid(color='gray', linewidth=.4)\n",
        "\n",
        "plt.plot(range(K), cumulative_variance_explained[:K])\n",
        "\n",
        "plt.show()\n",
        "#plt.savefig('Explained variance.png')"
      ]
    },
    {
      "cell_type": "code",
      "execution_count": null,
      "metadata": {
        "colab": {
          "base_uri": "https://localhost:8080/"
        },
        "id": "iL7nKgm_Qyh0",
        "outputId": "9b7952e3-4a01-4cac-e11b-8ea6ed7054b7"
      },
      "outputs": [
        {
          "output_type": "stream",
          "name": "stdout",
          "text": [
            "(693, 500)\n"
          ]
        }
      ],
      "source": [
        "# Project using first K components\n",
        "\n",
        "projection_matrix = np.real((eigen_vectors.T[:][:K]).T)\n",
        "print(projection_matrix.shape)\n",
        "\n",
        "np.save('projection_matrix', projection_matrix)\n",
        "     "
      ]
    },
    {
      "cell_type": "code",
      "execution_count": null,
      "metadata": {
        "id": "7UnvvW5qRDa0"
      },
      "outputs": [],
      "source": [
        "# project matrices\n",
        "X_train = stdX.dot(projection_matrix)\n",
        "X_val = stdX_val.dot(projection_matrix)\n",
        "X_test = stdX_test.dot(projection_matrix)"
      ]
    },
    {
      "cell_type": "code",
      "execution_count": null,
      "metadata": {
        "id": "7wU8fECARI0O"
      },
      "outputs": [],
      "source": [
        "from tensorflow.keras import regularizers\n",
        "\n",
        "class neural_network:\n",
        "    def __init__(self):\n",
        "        input = tensorflow.keras.Input(shape=(K,))\n",
        "        \n",
        "        dense = tensorflow.keras.layers.Dense(units=5, \n",
        "                                                activation='sigmoid',\n",
        "                                                kernel_regularizer=regularizers.L1L2(l1=1e-3, l2=1e-3),\n",
        "                                                bias_regularizer=regularizers.L2(1e-3),\n",
        "                                                activity_regularizer=regularizers.L2(1e-3))(input)\n",
        "        #norm = tensorflow.keras.layers.BatchNormalization()(dense)\n",
        "        #drop = tensorflow.keras.layers.Dropout(.3)(dense)\n",
        "        #dense = tensorflow.keras.layers.Dense(10, activation='sigmoid')(drop)\n",
        "        output = tensorflow.keras.layers.Dense(1, activation='sigmoid')(dense)\n",
        "\n",
        "        model = tensorflow.keras.models.Model(inputs=input, outputs=output)\n",
        "        model.compile(optimizer=tensorflow.keras.optimizers.Adam(learning_rate=0.0005), loss='binary_crossentropy', metrics='accuracy')\n",
        "        self.model = model"
      ]
    },
    {
      "cell_type": "code",
      "execution_count": null,
      "metadata": {
        "id": "ZvUdoBKHRX1Y"
      },
      "outputs": [],
      "source": [
        "nn = neural_network()"
      ]
    },
    {
      "cell_type": "code",
      "execution_count": null,
      "metadata": {
        "colab": {
          "base_uri": "https://localhost:8080/"
        },
        "id": "D3zHbLcARZ1C",
        "outputId": "e0948218-5bc3-4655-9f0a-e1774fea0c99"
      },
      "outputs": [
        {
          "output_type": "stream",
          "name": "stdout",
          "text": [
            "Model: \"model\"\n",
            "_________________________________________________________________\n",
            " Layer (type)                Output Shape              Param #   \n",
            "=================================================================\n",
            " input_1 (InputLayer)        [(None, 500)]             0         \n",
            "                                                                 \n",
            " dense (Dense)               (None, 5)                 2505      \n",
            "                                                                 \n",
            " dense_1 (Dense)             (None, 1)                 6         \n",
            "                                                                 \n",
            "=================================================================\n",
            "Total params: 2,511\n",
            "Trainable params: 2,511\n",
            "Non-trainable params: 0\n",
            "_________________________________________________________________\n"
          ]
        }
      ],
      "source": [
        "nn.model.summary()"
      ]
    },
    {
      "cell_type": "code",
      "execution_count": null,
      "metadata": {
        "colab": {
          "base_uri": "https://localhost:8080/"
        },
        "id": "hJiYVW80RrQg",
        "outputId": "1340a7a8-222c-4b31-df8c-99a67377a9bb"
      },
      "outputs": [
        {
          "output_type": "stream",
          "name": "stdout",
          "text": [
            "Epoch 1/2000\n",
            "114/114 [==============================] - 2s 8ms/step - loss: 0.8572 - accuracy: 0.4909 - val_loss: 0.7793 - val_accuracy: 0.5686\n",
            "Epoch 2/2000\n",
            "114/114 [==============================] - 0s 4ms/step - loss: 0.7403 - accuracy: 0.5967 - val_loss: 0.6907 - val_accuracy: 0.6881\n",
            "Epoch 3/2000\n",
            "114/114 [==============================] - 0s 4ms/step - loss: 0.6621 - accuracy: 0.7630 - val_loss: 0.6258 - val_accuracy: 0.8097\n",
            "Epoch 4/2000\n",
            "114/114 [==============================] - 1s 4ms/step - loss: 0.6032 - accuracy: 0.8320 - val_loss: 0.5726 - val_accuracy: 0.8363\n",
            "Epoch 5/2000\n",
            "114/114 [==============================] - 0s 3ms/step - loss: 0.5561 - accuracy: 0.8522 - val_loss: 0.5310 - val_accuracy: 0.8562\n",
            "Epoch 6/2000\n",
            "114/114 [==============================] - 0s 3ms/step - loss: 0.5200 - accuracy: 0.8616 - val_loss: 0.4985 - val_accuracy: 0.8673\n",
            "Epoch 7/2000\n",
            "114/114 [==============================] - 0s 3ms/step - loss: 0.4920 - accuracy: 0.8627 - val_loss: 0.4736 - val_accuracy: 0.8628\n",
            "Epoch 8/2000\n",
            "114/114 [==============================] - 0s 3ms/step - loss: 0.4700 - accuracy: 0.8619 - val_loss: 0.4539 - val_accuracy: 0.8628\n",
            "Epoch 9/2000\n",
            "114/114 [==============================] - 0s 3ms/step - loss: 0.4524 - accuracy: 0.8649 - val_loss: 0.4380 - val_accuracy: 0.8650\n",
            "Epoch 10/2000\n",
            "114/114 [==============================] - 0s 2ms/step - loss: 0.4376 - accuracy: 0.8644 - val_loss: 0.4257 - val_accuracy: 0.8628\n",
            "Epoch 11/2000\n",
            "114/114 [==============================] - 0s 3ms/step - loss: 0.4259 - accuracy: 0.8680 - val_loss: 0.4156 - val_accuracy: 0.8628\n",
            "Epoch 12/2000\n",
            "114/114 [==============================] - 0s 3ms/step - loss: 0.4153 - accuracy: 0.8680 - val_loss: 0.4074 - val_accuracy: 0.8606\n",
            "Epoch 13/2000\n",
            "114/114 [==============================] - 0s 3ms/step - loss: 0.4068 - accuracy: 0.8677 - val_loss: 0.4000 - val_accuracy: 0.8606\n",
            "Epoch 14/2000\n",
            "114/114 [==============================] - 0s 3ms/step - loss: 0.3991 - accuracy: 0.8693 - val_loss: 0.3944 - val_accuracy: 0.8584\n",
            "Epoch 15/2000\n",
            "114/114 [==============================] - 0s 3ms/step - loss: 0.3925 - accuracy: 0.8685 - val_loss: 0.3897 - val_accuracy: 0.8584\n",
            "Epoch 16/2000\n",
            "114/114 [==============================] - 0s 3ms/step - loss: 0.3865 - accuracy: 0.8685 - val_loss: 0.3854 - val_accuracy: 0.8606\n",
            "Epoch 17/2000\n",
            "114/114 [==============================] - 0s 3ms/step - loss: 0.3814 - accuracy: 0.8696 - val_loss: 0.3821 - val_accuracy: 0.8606\n",
            "Epoch 18/2000\n",
            "114/114 [==============================] - 0s 3ms/step - loss: 0.3767 - accuracy: 0.8693 - val_loss: 0.3787 - val_accuracy: 0.8628\n",
            "Epoch 19/2000\n",
            "114/114 [==============================] - 0s 3ms/step - loss: 0.3726 - accuracy: 0.8696 - val_loss: 0.3761 - val_accuracy: 0.8606\n",
            "Epoch 20/2000\n",
            "114/114 [==============================] - 0s 3ms/step - loss: 0.3690 - accuracy: 0.8710 - val_loss: 0.3743 - val_accuracy: 0.8628\n",
            "Epoch 21/2000\n",
            "114/114 [==============================] - 0s 2ms/step - loss: 0.3654 - accuracy: 0.8732 - val_loss: 0.3723 - val_accuracy: 0.8650\n",
            "Epoch 22/2000\n",
            "114/114 [==============================] - 0s 3ms/step - loss: 0.3626 - accuracy: 0.8762 - val_loss: 0.3711 - val_accuracy: 0.8628\n",
            "Epoch 23/2000\n",
            "114/114 [==============================] - 0s 3ms/step - loss: 0.3594 - accuracy: 0.8743 - val_loss: 0.3696 - val_accuracy: 0.8673\n",
            "Epoch 24/2000\n",
            "114/114 [==============================] - 0s 3ms/step - loss: 0.3568 - accuracy: 0.8754 - val_loss: 0.3679 - val_accuracy: 0.8650\n",
            "Epoch 25/2000\n",
            "114/114 [==============================] - 0s 3ms/step - loss: 0.3547 - accuracy: 0.8771 - val_loss: 0.3673 - val_accuracy: 0.8717\n",
            "Epoch 26/2000\n",
            "114/114 [==============================] - 0s 3ms/step - loss: 0.3521 - accuracy: 0.8768 - val_loss: 0.3657 - val_accuracy: 0.8739\n",
            "Epoch 27/2000\n",
            "114/114 [==============================] - 0s 3ms/step - loss: 0.3496 - accuracy: 0.8793 - val_loss: 0.3650 - val_accuracy: 0.8717\n",
            "Epoch 28/2000\n",
            "114/114 [==============================] - 0s 3ms/step - loss: 0.3473 - accuracy: 0.8793 - val_loss: 0.3641 - val_accuracy: 0.8717\n",
            "Epoch 29/2000\n",
            "114/114 [==============================] - 0s 2ms/step - loss: 0.3454 - accuracy: 0.8790 - val_loss: 0.3631 - val_accuracy: 0.8695\n",
            "Epoch 30/2000\n",
            "114/114 [==============================] - 0s 3ms/step - loss: 0.3437 - accuracy: 0.8815 - val_loss: 0.3623 - val_accuracy: 0.8673\n",
            "Epoch 31/2000\n",
            "114/114 [==============================] - 0s 2ms/step - loss: 0.3422 - accuracy: 0.8812 - val_loss: 0.3617 - val_accuracy: 0.8673\n",
            "Epoch 32/2000\n",
            "114/114 [==============================] - 0s 3ms/step - loss: 0.3400 - accuracy: 0.8829 - val_loss: 0.3622 - val_accuracy: 0.8673\n",
            "Epoch 33/2000\n",
            "114/114 [==============================] - 0s 3ms/step - loss: 0.3386 - accuracy: 0.8840 - val_loss: 0.3610 - val_accuracy: 0.8695\n",
            "Epoch 34/2000\n",
            "114/114 [==============================] - 0s 2ms/step - loss: 0.3366 - accuracy: 0.8840 - val_loss: 0.3612 - val_accuracy: 0.8695\n",
            "Epoch 35/2000\n",
            "114/114 [==============================] - 0s 3ms/step - loss: 0.3350 - accuracy: 0.8820 - val_loss: 0.3609 - val_accuracy: 0.8695\n",
            "Epoch 36/2000\n",
            "114/114 [==============================] - 0s 3ms/step - loss: 0.3338 - accuracy: 0.8870 - val_loss: 0.3599 - val_accuracy: 0.8673\n",
            "Epoch 37/2000\n",
            "114/114 [==============================] - 0s 4ms/step - loss: 0.3321 - accuracy: 0.8884 - val_loss: 0.3594 - val_accuracy: 0.8695\n",
            "Epoch 38/2000\n",
            "114/114 [==============================] - 0s 4ms/step - loss: 0.3307 - accuracy: 0.8881 - val_loss: 0.3594 - val_accuracy: 0.8695\n",
            "Epoch 39/2000\n",
            "114/114 [==============================] - 0s 4ms/step - loss: 0.3292 - accuracy: 0.8890 - val_loss: 0.3597 - val_accuracy: 0.8695\n",
            "Epoch 40/2000\n",
            "114/114 [==============================] - 0s 4ms/step - loss: 0.3285 - accuracy: 0.8884 - val_loss: 0.3593 - val_accuracy: 0.8673\n",
            "Epoch 41/2000\n",
            "114/114 [==============================] - 0s 4ms/step - loss: 0.3265 - accuracy: 0.8895 - val_loss: 0.3587 - val_accuracy: 0.8717\n",
            "Epoch 42/2000\n",
            "114/114 [==============================] - 0s 4ms/step - loss: 0.3251 - accuracy: 0.8890 - val_loss: 0.3591 - val_accuracy: 0.8717\n",
            "Epoch 43/2000\n",
            "114/114 [==============================] - 0s 4ms/step - loss: 0.3243 - accuracy: 0.8901 - val_loss: 0.3592 - val_accuracy: 0.8650\n",
            "Epoch 44/2000\n",
            "114/114 [==============================] - 0s 4ms/step - loss: 0.3229 - accuracy: 0.8903 - val_loss: 0.3587 - val_accuracy: 0.8673\n",
            "Epoch 45/2000\n",
            "114/114 [==============================] - 0s 4ms/step - loss: 0.3227 - accuracy: 0.8923 - val_loss: 0.3598 - val_accuracy: 0.8673\n",
            "Epoch 46/2000\n",
            "114/114 [==============================] - 1s 5ms/step - loss: 0.3209 - accuracy: 0.8912 - val_loss: 0.3594 - val_accuracy: 0.8695\n",
            "Epoch 47/2000\n",
            "114/114 [==============================] - 0s 4ms/step - loss: 0.3196 - accuracy: 0.8914 - val_loss: 0.3599 - val_accuracy: 0.8695\n",
            "Epoch 48/2000\n",
            "114/114 [==============================] - 0s 3ms/step - loss: 0.3188 - accuracy: 0.8917 - val_loss: 0.3591 - val_accuracy: 0.8761\n",
            "Epoch 49/2000\n",
            "114/114 [==============================] - 0s 3ms/step - loss: 0.3177 - accuracy: 0.8914 - val_loss: 0.3582 - val_accuracy: 0.8739\n",
            "Epoch 50/2000\n",
            "114/114 [==============================] - 0s 3ms/step - loss: 0.3165 - accuracy: 0.8920 - val_loss: 0.3585 - val_accuracy: 0.8717\n",
            "Epoch 51/2000\n",
            "114/114 [==============================] - 0s 2ms/step - loss: 0.3160 - accuracy: 0.8948 - val_loss: 0.3597 - val_accuracy: 0.8739\n",
            "Epoch 52/2000\n",
            "114/114 [==============================] - 0s 2ms/step - loss: 0.3152 - accuracy: 0.8925 - val_loss: 0.3590 - val_accuracy: 0.8717\n",
            "Epoch 53/2000\n",
            "114/114 [==============================] - 0s 3ms/step - loss: 0.3139 - accuracy: 0.8956 - val_loss: 0.3603 - val_accuracy: 0.8717\n",
            "Epoch 54/2000\n",
            "114/114 [==============================] - 0s 3ms/step - loss: 0.3131 - accuracy: 0.8928 - val_loss: 0.3596 - val_accuracy: 0.8717\n",
            "Epoch 55/2000\n",
            "114/114 [==============================] - 0s 3ms/step - loss: 0.3123 - accuracy: 0.8950 - val_loss: 0.3593 - val_accuracy: 0.8673\n",
            "Epoch 56/2000\n",
            "114/114 [==============================] - 0s 3ms/step - loss: 0.3114 - accuracy: 0.8961 - val_loss: 0.3591 - val_accuracy: 0.8717\n",
            "Epoch 57/2000\n",
            "114/114 [==============================] - 0s 3ms/step - loss: 0.3104 - accuracy: 0.8961 - val_loss: 0.3591 - val_accuracy: 0.8695\n",
            "Epoch 58/2000\n",
            "114/114 [==============================] - 0s 3ms/step - loss: 0.3095 - accuracy: 0.8942 - val_loss: 0.3598 - val_accuracy: 0.8650\n",
            "Epoch 59/2000\n",
            "114/114 [==============================] - 0s 3ms/step - loss: 0.3088 - accuracy: 0.8972 - val_loss: 0.3607 - val_accuracy: 0.8650\n"
          ]
        }
      ],
      "source": [
        "history = nn.model.fit(\n",
        "    x=X_train, \n",
        "    y=y_train,\n",
        "    batch_size=32,\n",
        "    epochs=2000,\n",
        "    verbose=1,\n",
        "    validation_data=(X_val, y_val),\n",
        "    shuffle=True,\n",
        "    callbacks=[tensorflow.keras.callbacks.EarlyStopping(\n",
        "    restore_best_weights=True,\n",
        "    patience=10\n",
        "        )]\n",
        ")"
      ]
    },
    {
      "cell_type": "code",
      "execution_count": null,
      "metadata": {
        "colab": {
          "base_uri": "https://localhost:8080/"
        },
        "id": "2oPyF45mxWsr",
        "outputId": "4e406d51-c1f4-4898-b90e-5eefef8f4c2a"
      },
      "outputs": [
        {
          "output_type": "stream",
          "name": "stdout",
          "text": [
            "15/15 [==============================] - 0s 3ms/step - loss: 0.3582 - accuracy: 0.8739\n"
          ]
        }
      ],
      "source": [
        "test_loss, test_acc = nn.model.evaluate(X_test, y_test)\n",
        "#wandb.log({'test_accuracy': test_acc})\n"
      ]
    },
    {
      "cell_type": "code",
      "execution_count": null,
      "metadata": {
        "colab": {
          "base_uri": "https://localhost:8080/"
        },
        "id": "Y1TT8BH5RPep",
        "outputId": "05af895f-f854-40b4-f734-ab6343ff0509"
      },
      "outputs": [
        {
          "output_type": "stream",
          "name": "stdout",
          "text": [
            "15/15 [==============================] - 0s 2ms/step\n"
          ]
        }
      ],
      "source": [
        "from sklearn.metrics import confusion_matrix\n",
        "import tensorflow as tf\n",
        "\n",
        "predictions = nn.model.predict(X_test)\n",
        "\n",
        "predicted_classes = np.round(predictions)\n",
        "true_classes = y_test\n",
        "cm = confusion_matrix(true_classes, predicted_classes)"
      ]
    },
    {
      "cell_type": "code",
      "execution_count": null,
      "metadata": {
        "colab": {
          "base_uri": "https://localhost:8080/"
        },
        "id": "0ttO2JrBRzHW",
        "outputId": "f0dd7fdd-f6eb-4acb-8ca6-5f387cd5028e"
      },
      "outputs": [
        {
          "output_type": "stream",
          "name": "stdout",
          "text": [
            "[[217  26]\n",
            " [ 31 178]]\n"
          ]
        }
      ],
      "source": [
        "print(cm)"
      ]
    },
    {
      "cell_type": "code",
      "execution_count": null,
      "metadata": {
        "colab": {
          "base_uri": "https://localhost:8080/",
          "height": 472
        },
        "id": "20avwtmlR56Y",
        "outputId": "95e92ed9-fa88-41ed-ca66-5382f9c9622f"
      },
      "outputs": [
        {
          "output_type": "display_data",
          "data": {
            "text/plain": [
              "<Figure size 640x480 with 1 Axes>"
            ],
            "image/png": "[encoded data removed]"
          },
          "metadata": {}
        }
      ],
      "source": [
        "plt.title('Accuracy during training')\n",
        "plt.plot(range(len(history.history['loss'])), history.history['accuracy'], label='training accuracy', color='green')\n",
        "plt.plot(range(len(history.history['loss'])), history.history['val_accuracy'], label='validation accuracy', color='red')\n",
        "plt.grid(color='gray', linewidth=.4)\n",
        "\n",
        "plt.legend(loc=\"lower right\")\n",
        "plt.xlabel(\"epochs\")\n",
        "plt.ylabel(\"accuracy\")\n",
        "plt.xlim(0, len(history.history['loss'])+1)\n",
        "plt.ylim(.45, 1.)\n",
        "plt.savefig('acc.png')"
      ]
    },
    {
      "cell_type": "code",
      "execution_count": null,
      "metadata": {
        "colab": {
          "base_uri": "https://localhost:8080/",
          "height": 472
        },
        "id": "m8oVnDIyR7Yk",
        "outputId": "80034acb-5771-498e-eba2-749592bfe930"
      },
      "outputs": [
        {
          "output_type": "display_data",
          "data": {
            "text/plain": [
              "<Figure size 640x480 with 1 Axes>"
            ],
            "image/png": "[encoded data removed]"
          },
          "metadata": {}
        }
      ],
      "source": [
        "plt.title('Loss during training')\n",
        "plt.plot(range(len(history.history['loss'])), history.history['loss'], label='training loss', color='green')\n",
        "plt.plot(range(len(history.history['loss'])), history.history['val_loss'], label='validation loss', color='red')\n",
        "plt.grid(color='gray', linewidth=.4)\n",
        "\n",
        "plt.legend(loc=\"upper right\")\n",
        "plt.xlabel(\"epochs\")\n",
        "plt.ylabel(\"loss\")\n",
        "plt.savefig('loss.png')"
      ]
    },
    {
      "cell_type": "code",
      "execution_count": null,
      "metadata": {
        "colab": {
          "base_uri": "https://localhost:8080/"
        },
        "id": "qCAGwqfCR89g",
        "outputId": "8d0624d1-ab9b-49f4-d4ff-b683176cb897"
      },
      "outputs": [
        {
          "output_type": "stream",
          "name": "stdout",
          "text": [
            "15/15 [==============================] - 0s 2ms/step - loss: 0.3582 - accuracy: 0.8739\n"
          ]
        },
        {
          "output_type": "execute_result",
          "data": {
            "text/plain": [
              "[0.35818731784820557, 0.8738937973976135]"
            ]
          },
          "metadata": {},
          "execution_count": 39
        }
      ],
      "source": [
        "nn.model.evaluate(x=X_test, y=y_test)"
      ]
    },
    {
      "cell_type": "code",
      "execution_count": null,
      "metadata": {
        "id": "ZbxBnePaR-z2"
      },
      "outputs": [],
      "source": [
        "nn.model.save('ac.h5')"
      ]
    },
    {
      "cell_type": "markdown",
      "source": [
        "- BONUS: weight & biases (https://wandb.ai/site)"
      ],
      "metadata": {
        "id": "kB-xx2SD_--e"
      }
    },
    {
      "cell_type": "code",
      "execution_count": null,
      "metadata": {
        "colab": {
          "base_uri": "https://localhost:8080/",
          "height": 1000
        },
        "id": "c_gZRjoQzFoa",
        "outputId": "d2f9f170-321e-455e-8d69-9062546b17b8"
      },
      "outputs": [
        {
          "data": {
            "text/html": [
              "Finishing last run (ID:2k0c67kt) before initializing another..."
            ],
            "text/plain": [
              "<IPython.core.display.HTML object>"
            ]
          },
          "metadata": {},
          "output_type": "display_data"
        },
        {
          "data": {
            "text/html": [
              "Waiting for W&B process to finish... <strong style=\"color:green\">(success).</strong>"
            ],
            "text/plain": [
              "<IPython.core.display.HTML object>"
            ]
          },
          "metadata": {},
          "output_type": "display_data"
        },
        {
          "data": {
            "text/html": [
              "<style>\n",
              "    table.wandb td:nth-child(1) { padding: 0 10px; text-align: left ; width: auto;} td:nth-child(2) {text-align: left ; width: 100%}\n",
              "    .wandb-row { display: flex; flex-direction: row; flex-wrap: wrap; justify-content: flex-start; width: 100% }\n",
              "    .wandb-col { display: flex; flex-direction: column; flex-basis: 100%; flex: 1; padding: 10px; }\n",
              "    </style>\n",
              "<div class=\"wandb-row\"><div class=\"wandb-col\"><h3>Run history:</h3><br/><table class=\"wandb\"><tr><td>accuracy</td><td>▁▄▇█</td></tr><tr><td>epoch</td><td>▁▃▆█</td></tr><tr><td>loss</td><td>█▅▃▁</td></tr><tr><td>val_accuracy</td><td>▁▅▇█</td></tr><tr><td>val_loss</td><td>█▅▃▁</td></tr></table><br/></div><div class=\"wandb-col\"><h3>Run summary:</h3><br/><table class=\"wandb\"><tr><td>accuracy</td><td>0.83402</td></tr><tr><td>best_epoch</td><td>3</td></tr><tr><td>best_val_loss</td><td>0.54289</td></tr><tr><td>epoch</td><td>3</td></tr><tr><td>loss</td><td>0.5369</td></tr><tr><td>val_accuracy</td><td>0.79515</td></tr><tr><td>val_loss</td><td>0.54289</td></tr></table><br/></div></div>"
            ],
            "text/plain": [
              "<IPython.core.display.HTML object>"
            ]
          },
          "metadata": {},
          "output_type": "display_data"
        },
        {
          "data": {
            "text/html": [
              " View run <strong style=\"color:#cdcd00\">fresh-sea-1</strong> at: <a href='https://wandb.ai/nerve/my-project/runs/2k0c67kt' target=\"_blank\">https://wandb.ai/nerve/my-project/runs/2k0c67kt</a><br/>Synced 5 W&B file(s), 1 media file(s), 15 artifact file(s) and 1 other file(s)"
            ],
            "text/plain": [
              "<IPython.core.display.HTML object>"
            ]
          },
          "metadata": {},
          "output_type": "display_data"
        },
        {
          "data": {
            "text/html": [
              "Find logs at: <code>./wandb/run-20230313_162825-2k0c67kt/logs</code>"
            ],
            "text/plain": [
              "<IPython.core.display.HTML object>"
            ]
          },
          "metadata": {},
          "output_type": "display_data"
        },
        {
          "data": {
            "text/html": [
              "Successfully finished last run (ID:2k0c67kt). Initializing new run:<br/>"
            ],
            "text/plain": [
              "<IPython.core.display.HTML object>"
            ]
          },
          "metadata": {},
          "output_type": "display_data"
        },
        {
          "data": {
            "text/html": [
              "Tracking run with wandb version 0.13.11"
            ],
            "text/plain": [
              "<IPython.core.display.HTML object>"
            ]
          },
          "metadata": {},
          "output_type": "display_data"
        },
        {
          "data": {
            "text/html": [
              "Run data is saved locally in <code>/content/wandb/run-20230313_162842-od3innav</code>"
            ],
            "text/plain": [
              "<IPython.core.display.HTML object>"
            ]
          },
          "metadata": {},
          "output_type": "display_data"
        },
        {
          "data": {
            "text/html": [
              "Syncing run <strong><a href='https://wandb.ai/nerve/EUspaan/runs/od3innav' target=\"_blank\">atomic-wildflower-5</a></strong> to <a href='https://wandb.ai/nerve/EUspaan' target=\"_blank\">Weights & Biases</a> (<a href='https://wandb.me/run' target=\"_blank\">docs</a>)<br/>"
            ],
            "text/plain": [
              "<IPython.core.display.HTML object>"
            ]
          },
          "metadata": {},
          "output_type": "display_data"
        },
        {
          "data": {
            "text/html": [
              " View project at <a href='https://wandb.ai/nerve/EUspaan' target=\"_blank\">https://wandb.ai/nerve/EUspaan</a>"
            ],
            "text/plain": [
              "<IPython.core.display.HTML object>"
            ]
          },
          "metadata": {},
          "output_type": "display_data"
        },
        {
          "data": {
            "text/html": [
              " View run at <a href='https://wandb.ai/nerve/EUspaan/runs/od3innav' target=\"_blank\">https://wandb.ai/nerve/EUspaan/runs/od3innav</a>"
            ],
            "text/plain": [
              "<IPython.core.display.HTML object>"
            ]
          },
          "metadata": {},
          "output_type": "display_data"
        },
        {
          "name": "stdout",
          "output_type": "stream",
          "text": [
            "Epoch 1/2000\n",
            " 97/114 [========================>.....] - ETA: 0s - loss: 0.7935 - accuracy: 0.6008"
          ]
        },
        {
          "name": "stderr",
          "output_type": "stream",
          "text": [
            "WARNING:absl:Found untraced functions such as _update_step_xla while saving (showing 1 of 1). These functions will not be directly callable after loading.\n",
            "\u001b[34m\u001b[1mwandb\u001b[0m: Adding directory to artifact (/content/wandb/run-20230313_162842-od3innav/files/model-best)... Done. 0.0s\n"
          ]
        },
        {
          "name": "stdout",
          "output_type": "stream",
          "text": [
            "\b\b\b\b\b\b\b\b\b\b\b\b\b\b\b\b\b\b\b\b\b\b\b\b\b\b\b\b\b\b\b\b\b\b\b\b\b\b\b\b\b\b\b\b\b\b\b\b\b\b\b\b\b\b\b\b\b\b\b\b\b\b\b\b\b\b\b\b\b\b\b\b\b\b\b\b\b\b\b\b\b\b\b\b\r114/114 [==============================] - 2s 11ms/step - loss: 0.7860 - accuracy: 0.6124 - val_loss: 0.7276 - val_accuracy: 0.7004\n",
            "Epoch 2/2000\n",
            "107/114 [===========================>..] - ETA: 0s - loss: 0.6796 - accuracy: 0.7573"
          ]
        },
        {
          "name": "stderr",
          "output_type": "stream",
          "text": [
            "WARNING:absl:Found untraced functions such as _update_step_xla while saving (showing 1 of 1). These functions will not be directly callable after loading.\n",
            "\u001b[34m\u001b[1mwandb\u001b[0m: Adding directory to artifact (/content/wandb/run-20230313_162842-od3innav/files/model-best)... Done. 0.0s\n"
          ]
        },
        {
          "name": "stdout",
          "output_type": "stream",
          "text": [
            "\b\b\b\b\b\b\b\b\b\b\b\b\b\b\b\b\b\b\b\b\b\b\b\b\b\b\b\b\b\b\b\b\b\b\b\b\b\b\b\b\b\b\b\b\b\b\b\b\b\b\b\b\b\b\b\b\b\b\b\b\b\b\b\b\b\b\b\b\b\b\b\b\b\b\b\b\b\b\b\b\b\b\b\b\r114/114 [==============================] - 1s 12ms/step - loss: 0.6768 - accuracy: 0.7605 - val_loss: 0.6411 - val_accuracy: 0.7709\n",
            "Epoch 3/2000\n",
            "101/114 [=========================>....] - ETA: 0s - loss: 0.5988 - accuracy: 0.8270"
          ]
        },
        {
          "name": "stderr",
          "output_type": "stream",
          "text": [
            "WARNING:absl:Found untraced functions such as _update_step_xla while saving (showing 1 of 1). These functions will not be directly callable after loading.\n",
            "\u001b[34m\u001b[1mwandb\u001b[0m: Adding directory to artifact (/content/wandb/run-20230313_162842-od3innav/files/model-best)... Done. 0.0s\n"
          ]
        },
        {
          "name": "stdout",
          "output_type": "stream",
          "text": [
            "\b\b\b\b\b\b\b\b\b\b\b\b\b\b\b\b\b\b\b\b\b\b\b\b\b\b\b\b\b\b\b\b\b\b\b\b\b\b\b\b\b\b\b\b\b\b\b\b\b\b\b\b\b\b\b\b\b\b\b\b\b\b\b\b\b\b\b\b\b\b\b\b\b\b\b\b\b\b\b\b\b\b\b\b\r114/114 [==============================] - 1s 13ms/step - loss: 0.5949 - accuracy: 0.8315 - val_loss: 0.5776 - val_accuracy: 0.8084\n",
            "Epoch 4/2000\n",
            " 98/114 [========================>.....] - ETA: 0s - loss: 0.5355 - accuracy: 0.8520"
          ]
        },
        {
          "name": "stderr",
          "output_type": "stream",
          "text": [
            "WARNING:absl:Found untraced functions such as _update_step_xla while saving (showing 1 of 1). These functions will not be directly callable after loading.\n",
            "\u001b[34m\u001b[1mwandb\u001b[0m: Adding directory to artifact (/content/wandb/run-20230313_162842-od3innav/files/model-best)... Done. 0.0s\n"
          ]
        },
        {
          "name": "stdout",
          "output_type": "stream",
          "text": [
            "\b\b\b\b\b\b\b\b\b\b\b\b\b\b\b\b\b\b\b\b\b\b\b\b\b\b\b\b\b\b\b\b\b\b\b\b\b\b\b\b\b\b\b\b\b\b\b\b\b\b\b\b\b\b\b\b\b\b\b\b\b\b\b\b\b\b\b\b\b\b\b\b\b\b\b\b\b\b\b\b\b\b\b\b\r114/114 [==============================] - 1s 9ms/step - loss: 0.5347 - accuracy: 0.8486 - val_loss: 0.5331 - val_accuracy: 0.8172\n",
            "Epoch 5/2000\n",
            " 99/114 [=========================>....] - ETA: 0s - loss: 0.4976 - accuracy: 0.8472"
          ]
        },
        {
          "name": "stderr",
          "output_type": "stream",
          "text": [
            "WARNING:absl:Found untraced functions such as _update_step_xla while saving (showing 1 of 1). These functions will not be directly callable after loading.\n",
            "\u001b[34m\u001b[1mwandb\u001b[0m: Adding directory to artifact (/content/wandb/run-20230313_162842-od3innav/files/model-best)... Done. 0.0s\n"
          ]
        },
        {
          "name": "stdout",
          "output_type": "stream",
          "text": [
            "\b\b\b\b\b\b\b\b\b\b\b\b\b\b\b\b\b\b\b\b\b\b\b\b\b\b\b\b\b\b\b\b\b\b\b\b\b\b\b\b\b\b\b\b\b\b\b\b\b\b\b\b\b\b\b\b\b\b\b\b\b\b\b\b\b\b\b\b\b\b\b\b\b\b\b\b\b\b\b\b\b\b\b\b\r114/114 [==============================] - 1s 10ms/step - loss: 0.4921 - accuracy: 0.8514 - val_loss: 0.5028 - val_accuracy: 0.8260\n",
            "Epoch 6/2000\n",
            " 97/114 [========================>.....] - ETA: 0s - loss: 0.4655 - accuracy: 0.8605"
          ]
        },
        {
          "name": "stderr",
          "output_type": "stream",
          "text": [
            "WARNING:absl:Found untraced functions such as _update_step_xla while saving (showing 1 of 1). These functions will not be directly callable after loading.\n",
            "\u001b[34m\u001b[1mwandb\u001b[0m: Adding directory to artifact (/content/wandb/run-20230313_162842-od3innav/files/model-best)... Done. 0.0s\n"
          ]
        },
        {
          "name": "stdout",
          "output_type": "stream",
          "text": [
            "\b\b\b\b\b\b\b\b\b\b\b\b\b\b\b\b\b\b\b\b\b\b\b\b\b\b\b\b\b\b\b\b\b\b\b\b\b\b\b\b\b\b\b\b\b\b\b\b\b\b\b\b\b\b\b\b\b\b\b\b\b\b\b\b\b\b\b\b\b\b\b\b\b\b\b\b\b\b\b\b\b\b\b\b\r114/114 [==============================] - 1s 8ms/step - loss: 0.4623 - accuracy: 0.8624 - val_loss: 0.4815 - val_accuracy: 0.8326\n",
            "Epoch 7/2000\n",
            " 97/114 [========================>.....] - ETA: 0s - loss: 0.4442 - accuracy: 0.8621"
          ]
        },
        {
          "name": "stderr",
          "output_type": "stream",
          "text": [
            "WARNING:absl:Found untraced functions such as _update_step_xla while saving (showing 1 of 1). These functions will not be directly callable after loading.\n",
            "\u001b[34m\u001b[1mwandb\u001b[0m: Adding directory to artifact (/content/wandb/run-20230313_162842-od3innav/files/model-best)... Done. 0.0s\n"
          ]
        },
        {
          "name": "stdout",
          "output_type": "stream",
          "text": [
            "\b\b\b\b\b\b\b\b\b\b\b\b\b\b\b\b\b\b\b\b\b\b\b\b\b\b\b\b\b\b\b\b\b\b\b\b\b\b\b\b\b\b\b\b\b\b\b\b\b\b\b\b\b\b\b\b\b\b\b\b\b\b\b\b\b\b\b\b\b\b\b\b\b\b\b\b\b\b\b\b\b\b\b\b\r114/114 [==============================] - 1s 12ms/step - loss: 0.4410 - accuracy: 0.8643 - val_loss: 0.4662 - val_accuracy: 0.8326\n",
            "Epoch 8/2000\n",
            " 92/114 [=======================>......] - ETA: 0s - loss: 0.4230 - accuracy: 0.8668"
          ]
        },
        {
          "name": "stderr",
          "output_type": "stream",
          "text": [
            "WARNING:absl:Found untraced functions such as _update_step_xla while saving (showing 1 of 1). These functions will not be directly callable after loading.\n",
            "\u001b[34m\u001b[1mwandb\u001b[0m: Adding directory to artifact (/content/wandb/run-20230313_162842-od3innav/files/model-best)... Done. 0.0s\n"
          ]
        },
        {
          "name": "stdout",
          "output_type": "stream",
          "text": [
            "\b\b\b\b\b\b\b\b\b\b\b\b\b\b\b\b\b\b\b\b\b\b\b\b\b\b\b\b\b\b\b\b\b\b\b\b\b\b\b\b\b\b\b\b\b\b\b\b\b\b\b\b\b\b\b\b\b\b\b\b\b\b\b\b\b\b\b\b\b\b\b\b\b\b\b\b\b\b\b\b\b\b\b\b\r114/114 [==============================] - 1s 8ms/step - loss: 0.4249 - accuracy: 0.8654 - val_loss: 0.4548 - val_accuracy: 0.8326\n",
            "Epoch 9/2000\n",
            "110/114 [===========================>..] - ETA: 0s - loss: 0.4112 - accuracy: 0.8679"
          ]
        },
        {
          "name": "stderr",
          "output_type": "stream",
          "text": [
            "WARNING:absl:Found untraced functions such as _update_step_xla while saving (showing 1 of 1). These functions will not be directly callable after loading.\n",
            "\u001b[34m\u001b[1mwandb\u001b[0m: Adding directory to artifact (/content/wandb/run-20230313_162842-od3innav/files/model-best)... Done. 0.0s\n"
          ]
        },
        {
          "name": "stdout",
          "output_type": "stream",
          "text": [
            "\b\b\b\b\b\b\b\b\b\b\b\b\b\b\b\b\b\b\b\b\b\b\b\b\b\b\b\b\b\b\b\b\b\b\b\b\b\b\b\b\b\b\b\b\b\b\b\b\b\b\b\b\b\b\b\b\b\b\b\b\b\b\b\b\b\b\b\b\b\b\b\b\b\b\b\b\b\b\b\b\b\b\b\b\r114/114 [==============================] - 1s 8ms/step - loss: 0.4125 - accuracy: 0.8665 - val_loss: 0.4466 - val_accuracy: 0.8326\n",
            "Epoch 10/2000\n",
            " 90/114 [======================>.......] - ETA: 0s - loss: 0.4041 - accuracy: 0.8653"
          ]
        },
        {
          "name": "stderr",
          "output_type": "stream",
          "text": [
            "WARNING:absl:Found untraced functions such as _update_step_xla while saving (showing 1 of 1). These functions will not be directly callable after loading.\n",
            "\u001b[34m\u001b[1mwandb\u001b[0m: Adding directory to artifact (/content/wandb/run-20230313_162842-od3innav/files/model-best)... Done. 0.0s\n"
          ]
        },
        {
          "name": "stdout",
          "output_type": "stream",
          "text": [
            "\b\b\b\b\b\b\b\b\b\b\b\b\b\b\b\b\b\b\b\b\b\b\b\b\b\b\b\b\b\b\b\b\b\b\b\b\b\b\b\b\b\b\b\b\b\b\b\b\b\b\b\b\b\b\b\b\b\b\b\b\b\b\b\b\b\b\b\b\b\b\b\b\b\b\b\b\b\b\b\b\b\b\b\b\r114/114 [==============================] - 1s 9ms/step - loss: 0.4026 - accuracy: 0.8676 - val_loss: 0.4400 - val_accuracy: 0.8348\n",
            "Epoch 11/2000\n",
            " 93/114 [=======================>......] - ETA: 0s - loss: 0.3909 - accuracy: 0.8679"
          ]
        },
        {
          "name": "stderr",
          "output_type": "stream",
          "text": [
            "WARNING:absl:Found untraced functions such as _update_step_xla while saving (showing 1 of 1). These functions will not be directly callable after loading.\n",
            "\u001b[34m\u001b[1mwandb\u001b[0m: Adding directory to artifact (/content/wandb/run-20230313_162842-od3innav/files/model-best)... Done. 0.0s\n"
          ]
        },
        {
          "name": "stdout",
          "output_type": "stream",
          "text": [
            "\b\b\b\b\b\b\b\b\b\b\b\b\b\b\b\b\b\b\b\b\b\b\b\b\b\b\b\b\b\b\b\b\b\b\b\b\b\b\b\b\b\b\b\b\b\b\b\b\b\b\b\b\b\b\b\b\b\b\b\b\b\b\b\b\b\b\b\b\b\b\b\b\b\b\b\b\b\b\b\b\b\b\b\b\r114/114 [==============================] - 1s 9ms/step - loss: 0.3943 - accuracy: 0.8682 - val_loss: 0.4349 - val_accuracy: 0.8326\n",
            "Epoch 12/2000\n",
            " 97/114 [========================>.....] - ETA: 0s - loss: 0.3891 - accuracy: 0.8718"
          ]
        },
        {
          "name": "stderr",
          "output_type": "stream",
          "text": [
            "WARNING:absl:Found untraced functions such as _update_step_xla while saving (showing 1 of 1). These functions will not be directly callable after loading.\n",
            "\u001b[34m\u001b[1mwandb\u001b[0m: Adding directory to artifact (/content/wandb/run-20230313_162842-od3innav/files/model-best)... Done. 0.0s\n"
          ]
        },
        {
          "name": "stdout",
          "output_type": "stream",
          "text": [
            "\b\b\b\b\b\b\b\b\b\b\b\b\b\b\b\b\b\b\b\b\b\b\b\b\b\b\b\b\b\b\b\b\b\b\b\b\b\b\b\b\b\b\b\b\b\b\b\b\b\b\b\b\b\b\b\b\b\b\b\b\b\b\b\b\b\b\b\b\b\b\b\b\b\b\b\b\b\b\b\b\b\b\b\b\r114/114 [==============================] - 1s 8ms/step - loss: 0.3872 - accuracy: 0.8706 - val_loss: 0.4309 - val_accuracy: 0.8370\n",
            "Epoch 13/2000\n",
            " 90/114 [======================>.......] - ETA: 0s - loss: 0.3837 - accuracy: 0.8687"
          ]
        },
        {
          "name": "stderr",
          "output_type": "stream",
          "text": [
            "WARNING:absl:Found untraced functions such as _update_step_xla while saving (showing 1 of 1). These functions will not be directly callable after loading.\n",
            "\u001b[34m\u001b[1mwandb\u001b[0m: Adding directory to artifact (/content/wandb/run-20230313_162842-od3innav/files/model-best)... Done. 0.0s\n"
          ]
        },
        {
          "name": "stdout",
          "output_type": "stream",
          "text": [
            "\b\b\b\b\b\b\b\b\b\b\b\b\b\b\b\b\b\b\b\b\b\b\b\b\b\b\b\b\b\b\b\b\b\b\b\b\b\b\b\b\b\b\b\b\b\b\b\b\b\b\b\b\b\b\b\b\b\b\b\b\b\b\b\b\b\b\b\b\b\b\b\b\b\b\b\b\b\b\b\b\b\b\b\b\r114/114 [==============================] - 1s 10ms/step - loss: 0.3813 - accuracy: 0.8706 - val_loss: 0.4285 - val_accuracy: 0.8304\n",
            "Epoch 14/2000\n",
            "101/114 [=========================>....] - ETA: 0s - loss: 0.3744 - accuracy: 0.8744"
          ]
        },
        {
          "name": "stderr",
          "output_type": "stream",
          "text": [
            "WARNING:absl:Found untraced functions such as _update_step_xla while saving (showing 1 of 1). These functions will not be directly callable after loading.\n",
            "\u001b[34m\u001b[1mwandb\u001b[0m: Adding directory to artifact (/content/wandb/run-20230313_162842-od3innav/files/model-best)... Done. 0.0s\n"
          ]
        },
        {
          "name": "stdout",
          "output_type": "stream",
          "text": [
            "\b\b\b\b\b\b\b\b\b\b\b\b\b\b\b\b\b\b\b\b\b\b\b\b\b\b\b\b\b\b\b\b\b\b\b\b\b\b\b\b\b\b\b\b\b\b\b\b\b\b\b\b\b\b\b\b\b\b\b\b\b\b\b\b\b\b\b\b\b\b\b\b\b\b\b\b\b\b\b\b\b\b\b\b\r114/114 [==============================] - 1s 12ms/step - loss: 0.3759 - accuracy: 0.8712 - val_loss: 0.4257 - val_accuracy: 0.8326\n",
            "Epoch 15/2000\n",
            "108/114 [===========================>..] - ETA: 0s - loss: 0.3703 - accuracy: 0.8747"
          ]
        },
        {
          "name": "stderr",
          "output_type": "stream",
          "text": [
            "WARNING:absl:Found untraced functions such as _update_step_xla while saving (showing 1 of 1). These functions will not be directly callable after loading.\n",
            "\u001b[34m\u001b[1mwandb\u001b[0m: Adding directory to artifact (/content/wandb/run-20230313_162842-od3innav/files/model-best)... Done. 0.0s\n"
          ]
        },
        {
          "name": "stdout",
          "output_type": "stream",
          "text": [
            "\b\b\b\b\b\b\b\b\b\b\b\b\b\b\b\b\b\b\b\b\b\b\b\b\b\b\b\b\b\b\b\b\b\b\b\b\b\b\b\b\b\b\b\b\b\b\b\b\b\b\b\b\b\b\b\b\b\b\b\b\b\b\b\b\b\b\b\b\b\b\b\b\b\b\b\b\b\b\b\b\b\b\b\b\r114/114 [==============================] - 1s 11ms/step - loss: 0.3713 - accuracy: 0.8745 - val_loss: 0.4244 - val_accuracy: 0.8282\n",
            "Epoch 16/2000\n",
            "112/114 [============================>.] - ETA: 0s - loss: 0.3664 - accuracy: 0.8756"
          ]
        },
        {
          "name": "stderr",
          "output_type": "stream",
          "text": [
            "WARNING:absl:Found untraced functions such as _update_step_xla while saving (showing 1 of 1). These functions will not be directly callable after loading.\n",
            "\u001b[34m\u001b[1mwandb\u001b[0m: Adding directory to artifact (/content/wandb/run-20230313_162842-od3innav/files/model-best)... Done. 0.0s\n"
          ]
        },
        {
          "name": "stdout",
          "output_type": "stream",
          "text": [
            "\b\b\b\b\b\b\b\b\b\b\b\b\b\b\b\b\b\b\b\b\b\b\b\b\b\b\b\b\b\b\b\b\b\b\b\b\b\b\b\b\b\b\b\b\b\b\b\b\b\b\b\b\b\b\b\b\b\b\b\b\b\b\b\b\b\b\b\b\b\b\b\b\b\b\b\b\b\b\b\b\b\b\b\b\r114/114 [==============================] - 1s 8ms/step - loss: 0.3669 - accuracy: 0.8756 - val_loss: 0.4222 - val_accuracy: 0.8260\n",
            "Epoch 17/2000\n",
            "109/114 [===========================>..] - ETA: 0s - loss: 0.3636 - accuracy: 0.8764"
          ]
        },
        {
          "name": "stderr",
          "output_type": "stream",
          "text": [
            "WARNING:absl:Found untraced functions such as _update_step_xla while saving (showing 1 of 1). These functions will not be directly callable after loading.\n",
            "\u001b[34m\u001b[1mwandb\u001b[0m: Adding directory to artifact (/content/wandb/run-20230313_162842-od3innav/files/model-best)... Done. 0.0s\n"
          ]
        },
        {
          "name": "stdout",
          "output_type": "stream",
          "text": [
            "\b\b\b\b\b\b\b\b\b\b\b\b\b\b\b\b\b\b\b\b\b\b\b\b\b\b\b\b\b\b\b\b\b\b\b\b\b\b\b\b\b\b\b\b\b\b\b\b\b\b\b\b\b\b\b\b\b\b\b\b\b\b\b\b\b\b\b\b\b\b\b\b\b\b\b\b\b\b\b\b\b\b\b\b\r114/114 [==============================] - 1s 9ms/step - loss: 0.3629 - accuracy: 0.8764 - val_loss: 0.4216 - val_accuracy: 0.8304\n",
            "Epoch 18/2000\n",
            "111/114 [============================>.] - ETA: 0s - loss: 0.3576 - accuracy: 0.8784"
          ]
        },
        {
          "name": "stderr",
          "output_type": "stream",
          "text": [
            "WARNING:absl:Found untraced functions such as _update_step_xla while saving (showing 1 of 1). These functions will not be directly callable after loading.\n",
            "\u001b[34m\u001b[1mwandb\u001b[0m: Adding directory to artifact (/content/wandb/run-20230313_162842-od3innav/files/model-best)... Done. 0.0s\n"
          ]
        },
        {
          "name": "stdout",
          "output_type": "stream",
          "text": [
            "\b\b\b\b\b\b\b\b\b\b\b\b\b\b\b\b\b\b\b\b\b\b\b\b\b\b\b\b\b\b\b\b\b\b\b\b\b\b\b\b\b\b\b\b\b\b\b\b\b\b\b\b\b\b\b\b\b\b\b\b\b\b\b\b\b\b\b\b\b\b\b\b\b\b\b\b\b\b\b\b\b\b\b\b\r114/114 [==============================] - 1s 9ms/step - loss: 0.3594 - accuracy: 0.8775 - val_loss: 0.4206 - val_accuracy: 0.8282\n",
            "Epoch 19/2000\n",
            " 91/114 [======================>.......] - ETA: 0s - loss: 0.3555 - accuracy: 0.8808"
          ]
        },
        {
          "name": "stderr",
          "output_type": "stream",
          "text": [
            "WARNING:absl:Found untraced functions such as _update_step_xla while saving (showing 1 of 1). These functions will not be directly callable after loading.\n",
            "\u001b[34m\u001b[1mwandb\u001b[0m: Adding directory to artifact (/content/wandb/run-20230313_162842-od3innav/files/model-best)... Done. 0.0s\n"
          ]
        },
        {
          "name": "stdout",
          "output_type": "stream",
          "text": [
            "\b\b\b\b\b\b\b\b\b\b\b\b\b\b\b\b\b\b\b\b\b\b\b\b\b\b\b\b\b\b\b\b\b\b\b\b\b\b\b\b\b\b\b\b\b\b\b\b\b\b\b\b\b\b\b\b\b\b\b\b\b\b\b\b\b\b\b\b\b\b\b\b\b\b\b\b\b\b\b\b\b\b\b\b\r114/114 [==============================] - 1s 11ms/step - loss: 0.3563 - accuracy: 0.8803 - val_loss: 0.4198 - val_accuracy: 0.8304\n",
            "Epoch 20/2000\n",
            "111/114 [============================>.] - ETA: 0s - loss: 0.3552 - accuracy: 0.8812"
          ]
        },
        {
          "name": "stderr",
          "output_type": "stream",
          "text": [
            "WARNING:absl:Found untraced functions such as _update_step_xla while saving (showing 1 of 1). These functions will not be directly callable after loading.\n",
            "\u001b[34m\u001b[1mwandb\u001b[0m: Adding directory to artifact (/content/wandb/run-20230313_162842-od3innav/files/model-best)... Done. 0.0s\n"
          ]
        },
        {
          "name": "stdout",
          "output_type": "stream",
          "text": [
            "\b\b\b\b\b\b\b\b\b\b\b\b\b\b\b\b\b\b\b\b\b\b\b\b\b\b\b\b\b\b\b\b\b\b\b\b\b\b\b\b\b\b\b\b\b\b\b\b\b\b\b\b\b\b\b\b\b\b\b\b\b\b\b\b\b\b\b\b\b\b\b\b\b\b\b\b\b\b\b\b\b\b\b\b\r114/114 [==============================] - 1s 9ms/step - loss: 0.3534 - accuracy: 0.8816 - val_loss: 0.4194 - val_accuracy: 0.8326\n",
            "Epoch 21/2000\n",
            "103/114 [==========================>...] - ETA: 0s - loss: 0.3498 - accuracy: 0.8796"
          ]
        },
        {
          "name": "stderr",
          "output_type": "stream",
          "text": [
            "WARNING:absl:Found untraced functions such as _update_step_xla while saving (showing 1 of 1). These functions will not be directly callable after loading.\n",
            "\u001b[34m\u001b[1mwandb\u001b[0m: Adding directory to artifact (/content/wandb/run-20230313_162842-od3innav/files/model-best)... Done. 0.0s\n"
          ]
        },
        {
          "name": "stdout",
          "output_type": "stream",
          "text": [
            "\b\b\b\b\b\b\b\b\b\b\b\b\b\b\b\b\b\b\b\b\b\b\b\b\b\b\b\b\b\b\b\b\b\b\b\b\b\b\b\b\b\b\b\b\b\b\b\b\b\b\b\b\b\b\b\b\b\b\b\b\b\b\b\b\b\b\b\b\b\b\b\b\b\b\b\b\b\b\b\b\b\b\b\b\r114/114 [==============================] - 1s 9ms/step - loss: 0.3507 - accuracy: 0.8797 - val_loss: 0.4192 - val_accuracy: 0.8348\n",
            "Epoch 22/2000\n",
            "104/114 [==========================>...] - ETA: 0s - loss: 0.3488 - accuracy: 0.8804"
          ]
        },
        {
          "name": "stderr",
          "output_type": "stream",
          "text": [
            "WARNING:absl:Found untraced functions such as _update_step_xla while saving (showing 1 of 1). These functions will not be directly callable after loading.\n",
            "\u001b[34m\u001b[1mwandb\u001b[0m: Adding directory to artifact (/content/wandb/run-20230313_162842-od3innav/files/model-best)... Done. 0.0s\n"
          ]
        },
        {
          "name": "stdout",
          "output_type": "stream",
          "text": [
            "\b\b\b\b\b\b\b\b\b\b\b\b\b\b\b\b\b\b\b\b\b\b\b\b\b\b\b\b\b\b\b\b\b\b\b\b\b\b\b\b\b\b\b\b\b\b\b\b\b\b\b\b\b\b\b\b\b\b\b\b\b\b\b\b\b\b\b\b\b\b\b\b\b\b\b\b\b\b\b\b\b\b\b\b\r114/114 [==============================] - 1s 9ms/step - loss: 0.3481 - accuracy: 0.8822 - val_loss: 0.4184 - val_accuracy: 0.8348\n",
            "Epoch 23/2000\n",
            "114/114 [==============================] - 0s 2ms/step - loss: 0.3455 - accuracy: 0.8825 - val_loss: 0.4185 - val_accuracy: 0.8326\n",
            "Epoch 24/2000\n",
            " 96/114 [========================>.....] - ETA: 0s - loss: 0.3473 - accuracy: 0.8828"
          ]
        },
        {
          "name": "stderr",
          "output_type": "stream",
          "text": [
            "WARNING:absl:Found untraced functions such as _update_step_xla while saving (showing 1 of 1). These functions will not be directly callable after loading.\n",
            "\u001b[34m\u001b[1mwandb\u001b[0m: Adding directory to artifact (/content/wandb/run-20230313_162842-od3innav/files/model-best)... Done. 0.0s\n"
          ]
        },
        {
          "name": "stdout",
          "output_type": "stream",
          "text": [
            "\b\b\b\b\b\b\b\b\b\b\b\b\b\b\b\b\b\b\b\b\b\b\b\b\b\b\b\b\b\b\b\b\b\b\b\b\b\b\b\b\b\b\b\b\b\b\b\b\b\b\b\b\b\b\b\b\b\b\b\b\b\b\b\b\b\b\b\b\b\b\b\b\b\b\b\b\b\b\b\b\b\b\b\b\r114/114 [==============================] - 1s 9ms/step - loss: 0.3433 - accuracy: 0.8852 - val_loss: 0.4172 - val_accuracy: 0.8304\n",
            "Epoch 25/2000\n",
            "114/114 [==============================] - 0s 3ms/step - loss: 0.3411 - accuracy: 0.8860 - val_loss: 0.4185 - val_accuracy: 0.8326\n",
            "Epoch 26/2000\n",
            "114/114 [==============================] - 0s 2ms/step - loss: 0.3392 - accuracy: 0.8863 - val_loss: 0.4181 - val_accuracy: 0.8304\n",
            "Epoch 27/2000\n",
            "114/114 [==============================] - 0s 2ms/step - loss: 0.3374 - accuracy: 0.8860 - val_loss: 0.4180 - val_accuracy: 0.8260\n",
            "Epoch 28/2000\n",
            "114/114 [==============================] - 0s 4ms/step - loss: 0.3354 - accuracy: 0.8899 - val_loss: 0.4184 - val_accuracy: 0.8238\n",
            "Epoch 29/2000\n",
            "114/114 [==============================] - 0s 3ms/step - loss: 0.3339 - accuracy: 0.8893 - val_loss: 0.4178 - val_accuracy: 0.8260\n",
            "Epoch 30/2000\n",
            "114/114 [==============================] - 0s 3ms/step - loss: 0.3324 - accuracy: 0.8888 - val_loss: 0.4182 - val_accuracy: 0.8238\n",
            "Epoch 31/2000\n",
            "114/114 [==============================] - 0s 3ms/step - loss: 0.3305 - accuracy: 0.8913 - val_loss: 0.4181 - val_accuracy: 0.8260\n",
            "Epoch 32/2000\n",
            "114/114 [==============================] - 0s 3ms/step - loss: 0.3290 - accuracy: 0.8924 - val_loss: 0.4187 - val_accuracy: 0.8260\n",
            "Epoch 33/2000\n",
            "114/114 [==============================] - 0s 4ms/step - loss: 0.3275 - accuracy: 0.8921 - val_loss: 0.4187 - val_accuracy: 0.8260\n",
            "Epoch 34/2000\n",
            "114/114 [==============================] - 0s 4ms/step - loss: 0.3261 - accuracy: 0.8940 - val_loss: 0.4191 - val_accuracy: 0.8260\n",
            "15/15 [==============================] - 0s 2ms/step - loss: 0.4172 - accuracy: 0.8304\n"
          ]
        }
      ],
      "source": [
        "import wandb\n",
        "from wandb.keras import WandbCallback\n",
        "\n",
        "class neural_network:\n",
        "    config = {}\n",
        "\n",
        "    def __init__(self):\n",
        "        input = tensorflow.keras.Input(shape=(K,))\n",
        "        \n",
        "        dense = tensorflow.keras.layers.Dense(units=self.config['num_units'], \n",
        "                                              activation='sigmoid',\n",
        "                                              kernel_regularizer=regularizers.L1L2(l1=self.config['l1_reg'], l2=self.config['l2_reg']),\n",
        "                                              bias_regularizer=regularizers.L2(self.config['bias_reg']),\n",
        "                                              activity_regularizer=regularizers.L2(self.config['activity_reg']))(input)\n",
        "        #norm = tensorflow.keras.layers.BatchNormalization()(dense)\n",
        "        #drop = tensorflow.keras.layers.Dropout(self.config['dropout_rate'])(dense)\n",
        "        #dense = tensorflow.keras.layers.Dense(10, activation='sigmoid')(drop)\n",
        "        output = tensorflow.keras.layers.Dense(1, activation='sigmoid')(dense)\n",
        "\n",
        "        model = tensorflow.keras.models.Model(inputs=input, outputs=output)\n",
        "        model.compile(optimizer=tensorflow.keras.optimizers.Adam(learning_rate=self.config['learning_rate']), loss='binary_crossentropy', metrics='accuracy')\n",
        "        self.model = model           \n",
        "        \n",
        "    def train(self, X_train, y_train, X_val, y_val, X_test, y_test):\n",
        "        history = self.model.fit(\n",
        "            x=X_train, \n",
        "            y=y_train,\n",
        "            batch_size=self.config['batch_size'],\n",
        "            epochs=2000,\n",
        "            verbose=1,\n",
        "            validation_data=(X_val, y_val),\n",
        "            shuffle=True,\n",
        "            callbacks=[tensorflow.keras.callbacks.EarlyStopping(\n",
        "                restore_best_weights=True,\n",
        "                patience=10\n",
        "            ), WandbCallback()]\n",
        "        )\n",
        "        \n",
        "        test_loss, test_acc = self.model.evaluate(X_test, y_test)\n",
        "        wandb.log({'test_accuracy': test_acc})\n",
        "\n",
        "hyperparams = {\n",
        "    'batch_size': 32,\n",
        "    'learning_rate': 0.0005,\n",
        "    'num_units': 5,\n",
        "    'dropout_rate': 0.3,\n",
        "    'l1_reg': 1e-3,\n",
        "    'l2_reg': 1e-3,\n",
        "    'bias_reg': 1e-3,\n",
        "    'activity_reg': 1e-3\n",
        "}\n",
        "\n",
        "wandb.init(project='EUspaan', config=hyperparams)\n",
        "neural_network.config = wandb.config\n",
        "\n",
        "nn = neural_network()\n",
        "nn.train(X_train, y_train, X_val, y_val, X_test, y_test)\n"
      ]
    },
    {
      "cell_type": "code",
      "execution_count": null,
      "metadata": {
        "id": "Wmg04ifR0WlQ"
      },
      "outputs": [],
      "source": [
        "import wandb\n",
        "from wandb.keras import WandbCallback\n",
        "import random\n",
        "\n",
        "class neural_network:\n",
        "    def __init__(self, config):\n",
        "        input = tensorflow.keras.Input(shape=(K,))\n",
        "        \n",
        "        dense = tensorflow.keras.layers.Dense(units=config['num_units'], \n",
        "                                              activation='sigmoid',\n",
        "                                              kernel_regularizer=regularizers.L1L2(l1=config['l1_reg'], l2=config['l2_reg']),\n",
        "                                              bias_regularizer=regularizers.L2(config['bias_reg']),\n",
        "                                              activity_regularizer=regularizers.L2(config['activity_reg']))(input)\n",
        "        #norm = tensorflow.keras.layers.BatchNormalization()(dense)\n",
        "        #drop = tensorflow.keras.layers.Dropout(config['dropout_rate'])(dense)\n",
        "        #dense = tensorflow.keras.layers.Dense(10, activation='sigmoid')(drop)\n",
        "        output = tensorflow.keras.layers.Dense(1, activation='sigmoid')(dense)\n",
        "\n",
        "        model = tensorflow.keras.models.Model(inputs=input, outputs=output)\n",
        "        model.compile(optimizer=tensorflow.keras.optimizers.Adam(learning_rate=config['learning_rate']), loss='binary_crossentropy', metrics='accuracy')\n",
        "        self.model = model           \n",
        "        \n",
        "    def train(self, X_train, y_train, X_val, y_val, X_test, y_test):\n",
        "        history = self.model.fit(\n",
        "            x=X_train, \n",
        "            y=y_train,\n",
        "            batch_size=config['batch_size'],\n",
        "            epochs=2000,\n",
        "            verbose=1,\n",
        "            validation_data=(X_val, y_val),\n",
        "            shuffle=True,\n",
        "            callbacks=[tensorflow.keras.callbacks.EarlyStopping(\n",
        "                restore_best_weights=True,\n",
        "                patience=10\n",
        "            ), WandbCallback()]\n",
        "        )\n",
        "        \n",
        "        test_loss, test_acc = self.model.evaluate(X_test, y_test)\n",
        "        wandb.log({'test_accuracy': test_acc})\n",
        "\n",
        "def random_hyperparams():\n",
        "    return {\n",
        "        'batch_size': random.choice([32, 64 , 128]),\n",
        "        'learning_rate': random.uniform(0.0001, 0.01),\n",
        "        'num_units': random.randint(3, 100),\n",
        "        'dropout_rate': random.uniform(0, 0.8),\n",
        "        'l1_reg': random.uniform(0, 0.01),\n",
        "        'l2_reg': random.uniform(0, 0.01),\n",
        "        'bias_reg': random.uniform(0, 0.01),\n",
        "        'activity_reg': random.uniform(0, 0.01)\n",
        "    }\n",
        "\n",
        "wandb.init(project='uncategorizedh')\n",
        "\n",
        "for i in range(100):\n",
        "    config = random_hyperparams()\n",
        "    with wandb.init(project='uncategorized', config=config):\n",
        "        nn = neural_network(config)\n",
        "        nn.train(X_train, y_train, X_val, y_val, X_test, y_test)\n"
      ]
    }
  ],
  "metadata": {
    "colab": {
      "provenance": []
    },
    "kernelspec": {
      "display_name": "Python 3",
      "name": "python3"
    },
    "language_info": {
      "name": "python"
    }
  },
  "nbformat": 4,
  "nbformat_minor": 0
}