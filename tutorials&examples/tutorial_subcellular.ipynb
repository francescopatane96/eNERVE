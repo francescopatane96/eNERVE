{
  "cells": [
    {
      "cell_type": "markdown",
      "metadata": {
        "id": "8a0pl10hqSGz"
      },
      "source": [
        "# 1. Subcellular localization module\n",
        "\n",
        "This colab sheet shows how to perform proteins data mining from Uniprot, with the aim to develop a machine learning model capables of predict the subcellular localization of unseen proteins. \n",
        "\n",
        "a. Proteins and subcellular localization are acquired from Uniprot (https://www.uniprot.org/).\n",
        "Eucaryotic pathogens in humans are acquired from VEuPathDB (NIH funded) at this website: https://veupathdb.org/veupathdb/app.\n",
        "\n",
        "b. Preprocessing: only experimental validated proteins are retained (ECO:0000269). Cytosolic proteins are merged with internal membrane ones and secreted proteins are merged with cytoplasmic membrane proteins in order to create a simple ad interpretable binary model.\n",
        "\n",
        "CD-HIT software (developed by Dr. Weizhong Li at Dr. Adam Godzik's Lab at the Burnham Institute, now Sanford-Burnham Medical Research Institute) is used in order to efficiently cluster proteins. \n",
        "This produces a set of 'non-redundant' (nr) representative sequences as output. In addition cd-hit outputs a cluster file, documenting the sequence 'groupies' for each nr sequence representative. The idea is to reduce the overall size of the database without removing any sequence information by only removing 'redundant' (or highly similar) sequences. This is why the resulting database is called non-redundant (nr). Essentially, cd-hit produces a set of closely related protein families from a given fasta sequence database.\n",
        "\n",
        "Use of CD-HIT is required in order to avoid homology-based biases during the creation of mathematical models using protein sequences. \n",
        "\n",
        "c. Feature extraction\n",
        "d. Models \n",
        "\n",
        "\n",
        "\n",
        "\n",
        "\n"
      ]
    },
    {
      "cell_type": "markdown",
      "metadata": {
        "id": "AYf6RXf2ZzUv"
      },
      "source": [
        "- Data mining"
      ]
    },
    {
      "cell_type": "code",
      "execution_count": null,
      "metadata": {
        "id": "OtZU08pXo9GX"
      },
      "outputs": [],
      "source": [
        "# install biopython\n",
        "\n",
        "pip install Bio"
      ]
    },
    {
      "cell_type": "code",
      "execution_count": null,
      "metadata": {
        "id": "boWkOOVHgyPn"
      },
      "outputs": [],
      "source": [
        "# import libraries\n",
        "import urllib\n",
        "from Bio import SeqIO\n",
        "import requests"
      ]
    },
    {
      "cell_type": "code",
      "execution_count": null,
      "metadata": {
        "id": "gMwEm-k4gyVI"
      },
      "outputs": [],
      "source": [
        "# using rest API to obtain secreted, membrane and in_membrane (experimentally annotated) eukaryotic proteins\n",
        "\n",
        "url_out = 'https://rest.uniprot.org/uniprotkb/stream?compressed=true&fields=accession%2Cid%2Corganism_name%2Clength%2Ccc_subcellular_location%2Csequence&format=tsv&query=%28%28taxonomy_id%3A2759%29%20AND%20%28reviewed%3Atrue%29%20AND%20%28%28cc_scl_term%3ASL-0243%29%20AND%20%28ccev_scl_term%3AECO_0000269%29%29%29' \n",
        "url_mem = 'https://rest.uniprot.org/uniprotkb/stream?fields=accession%2Cid%2Cprotein_name%2Corganism_name%2Clength%2Ccc_subcellular_location%2Csequence&format=tsv&query=%28%28taxonomy_id%3A2759%29%20AND%20%28reviewed%3Atrue%29%20AND%20%28cc_scl_term%3ASL-0310%29%20OR%20%28%28cc_scl_term%3ASL-0039%29%20AND%20%28ccev_scl_term%3AECO_0000269%29%29%20OR%20%28%28cc_scl_term%3ASL-0378%29%20AND%20%28ccev_scl_term%3AECO_0000269%29%29%20OR%20%28%28cc_scl_term%3ASL-0375%29%20AND%20%28ccev_scl_term%3AECO_0000269%29%29%29'\n",
        "in_mem_url = 'https://rest.uniprot.org/uniprotkb/stream?fields=accession%2Cid%2Cprotein_name%2Corganism_name%2Clength%2Ccc_subcellular_location%2Csequence&format=tsv&query=%28%28taxonomy_id%3A2759%29%20AND%20%28reviewed%3Atrue%29%20AND%20%28cc_scl_term%3ASL-0182%29%20OR%20%28%28cc_scl_term%3ASL-0171%29%20AND%20%28ccev_scl_term%3AECO_0000269%29%29%20OR%20%28%28cc_scl_term%3ASL-0134%29%20AND%20%28ccev_scl_term%3AECO_0000269%29%29%20OR%20%28%28cc_scl_term%3ASL-0271%29%20AND%20%28ccev_scl_term%3AECO_0000269%29%29%20OR%20%28%28cc_scl_term%3ASL-0157%29%20AND%20%28ccev_scl_term%3AECO_0000269%29%29%29'"
      ]
    },
    {
      "cell_type": "code",
      "execution_count": null,
      "metadata": {
        "id": "t-QxV6JAgyYH"
      },
      "outputs": [],
      "source": [
        "#in = download from uniprot website. max api capacity=10.000 proteins\n",
        "\n",
        "#include sublocation terms: vacuole, lysosome, cytoplasm, cytosol, mitochondria,\n",
        "# nucleus, nucleolus, golgi apparatus"
      ]
    },
    {
      "cell_type": "code",
      "execution_count": null,
      "metadata": {
        "id": "TktsKOZigyal"
      },
      "outputs": [],
      "source": [
        "# using requests module to make a request to uniprot web page.\n",
        "# see https://www.w3schools.com/python/module_requests.asp for more info\n",
        "\n",
        "secreted_proteins_eu = requests.get(url_out).text\n",
        "membrane_proteins_eu = requests.get(url_mem).text\n",
        "in_mem_eu = requests.get(in_mem_url).text"
      ]
    },
    {
      "cell_type": "code",
      "execution_count": null,
      "metadata": {
        "id": "IrNpIQ9npR1w"
      },
      "outputs": [],
      "source": [
        "with requests.get(url_out, stream=True) as request:\n",
        "    request.raise_for_status()\n",
        "    with open('out.csv', 'wb') as f:\n",
        "        for chunk in request.iter_content(chunk_size=2**20):\n",
        "            f.write(chunk)"
      ]
    },
    {
      "cell_type": "code",
      "execution_count": null,
      "metadata": {
        "id": "WxuyG5ivpR4Y"
      },
      "outputs": [],
      "source": [
        "with requests.get(url_mem, stream=True) as request:\n",
        "    request.raise_for_status()\n",
        "    with open('mem.csv', 'wb') as f:\n",
        "        for chunk in request.iter_content(chunk_size=2**20):\n",
        "            f.write(chunk)"
      ]
    },
    {
      "cell_type": "code",
      "execution_count": null,
      "metadata": {
        "id": "01BqIHK_pR63"
      },
      "outputs": [],
      "source": [
        "with requests.get(in_mem_url, stream=True) as request:\n",
        "    request.raise_for_status()\n",
        "    with open('in_mem.csv', 'wb') as f:\n",
        "        for chunk in request.iter_content(chunk_size=2**20):\n",
        "            f.write(chunk)"
      ]
    },
    {
      "cell_type": "markdown",
      "metadata": {
        "id": "F0XcylGkZ2_T"
      },
      "source": [
        "- Preprocessing"
      ]
    },
    {
      "cell_type": "code",
      "execution_count": null,
      "metadata": {
        "id": "5WQF7jtGbMxp"
      },
      "outputs": [],
      "source": [
        "import pandas as pd     \n",
        "import csv"
      ]
    },
    {
      "cell_type": "code",
      "execution_count": null,
      "metadata": {
        "id": "NdU-JuILbVjw"
      },
      "outputs": [],
      "source": [
        "# Loading .csv files into DataFrame objects \n",
        "# It is best to use python engine, UTF-8 encoding and error_bad_lines = False to avoid loading problems \n",
        "\n",
        "df_in = pd.read_csv('in.csv', header=0, sep=\"\\t\", engine='python', encoding='utf-8', error_bad_lines=False,\n",
        "                             quoting=csv.QUOTE_NONE)\n",
        "df_out = pd.read_csv('out.csv', header=0, sep=\"\\t\", engine='python', encoding='utf-8', error_bad_lines=False,\n",
        "                             quoting=csv.QUOTE_NONE, compression='gzip')\n",
        "df_mem = pd.read_csv('mem.csv', header=0, sep=\"\\t\", engine='python', encoding='utf-8', error_bad_lines=False,\n",
        "                             quoting=csv.QUOTE_NONE)\n",
        "df_in_mem = pd.read_csv('in_mem.csv', header=0, sep=\"\\t\", engine='python', encoding='utf-8', error_bad_lines=False,\n",
        "                             quoting=csv.QUOTE_NONE)"
      ]
    },
    {
      "cell_type": "code",
      "execution_count": null,
      "metadata": {
        "colab": {
          "base_uri": "https://localhost:8080/"
        },
        "id": "d6jvnKDEmK7O",
        "outputId": "1f05d7c7-2adc-49e9-9e3c-305d9cd659a9"
      },
      "outputs": [
        {
          "data": {
            "text/plain": [
              "(49976, 6)"
            ]
          },
          "execution_count": 5,
          "metadata": {},
          "output_type": "execute_result"
        }
      ],
      "source": [
        "df_in.shape"
      ]
    },
    {
      "cell_type": "code",
      "execution_count": null,
      "metadata": {
        "colab": {
          "base_uri": "https://localhost:8080/"
        },
        "id": "ME7adDtjwJQN",
        "outputId": "7c578103-df20-4453-b902-74eb7fb2b93a"
      },
      "outputs": [
        {
          "data": {
            "text/plain": [
              "(7017, 6)"
            ]
          },
          "execution_count": 7,
          "metadata": {},
          "output_type": "execute_result"
        }
      ],
      "source": [
        "df_out.shape"
      ]
    },
    {
      "cell_type": "code",
      "execution_count": null,
      "metadata": {
        "colab": {
          "base_uri": "https://localhost:8080/"
        },
        "id": "ELzSa5B1wJwG",
        "outputId": "45a171ef-c167-4135-fd08-6cf355612f37"
      },
      "outputs": [
        {
          "data": {
            "text/plain": [
              "(7205, 7)"
            ]
          },
          "execution_count": 8,
          "metadata": {},
          "output_type": "execute_result"
        }
      ],
      "source": [
        "df_mem.shape"
      ]
    },
    {
      "cell_type": "code",
      "execution_count": null,
      "metadata": {
        "colab": {
          "base_uri": "https://localhost:8080/"
        },
        "id": "TvhuzOhFwLcx",
        "outputId": "17ba0b5f-e614-4c0f-8baa-30aec885fa45"
      },
      "outputs": [
        {
          "data": {
            "text/plain": [
              "(4020, 7)"
            ]
          },
          "execution_count": 9,
          "metadata": {},
          "output_type": "execute_result"
        }
      ],
      "source": [
        "df_in_mem.shape"
      ]
    },
    {
      "cell_type": "markdown",
      "metadata": {
        "id": "rSwbpEGNePCI"
      },
      "source": [
        "It was chosen to use only experimental validated proteins from Uniprot ---> ECO:0000269. for more informations visit https://www.uniprot.org/help/evidences"
      ]
    },
    {
      "cell_type": "code",
      "execution_count": null,
      "metadata": {
        "id": "eTKdtUQteYAG"
      },
      "outputs": [],
      "source": [
        "def selector(x):\n",
        "    if '0000269' in x:\n",
        "        return 'validated'\n",
        "    else:\n",
        "        pass"
      ]
    },
    {
      "cell_type": "markdown",
      "source": [
        "We need to labels acquired proteins"
      ],
      "metadata": {
        "id": "WHJiiZLm0pLw"
      }
    },
    {
      "cell_type": "code",
      "execution_count": null,
      "metadata": {
        "id": "QTTnW_iHfVhY"
      },
      "outputs": [],
      "source": [
        "df_in = df_in.copy()\n",
        "df_in['Subcellular location ext'] = df_in['Subcellular location [CC]'].apply(selector)\n",
        "\n",
        "df_in = df_in.dropna()\n",
        "df_in.to_csv('in.csv', sep='\\t', index=False)"
      ]
    },
    {
      "cell_type": "code",
      "execution_count": null,
      "metadata": {
        "id": "SLYP0YJfgRxF"
      },
      "outputs": [],
      "source": [
        "df_out = df_out.copy()\n",
        "df_out['Subcellular location ext'] = df_out['Subcellular location [CC]'].apply(selector)\n",
        "\n",
        "df_out = df_out.dropna()\n",
        "df_out.to_csv('out.csv', sep='\\t', index=False)"
      ]
    },
    {
      "cell_type": "code",
      "execution_count": null,
      "metadata": {
        "id": "8ZBjSsdIgSE0"
      },
      "outputs": [],
      "source": [
        "df_mem = df_mem.copy()\n",
        "df_mem['Subcellular location ext'] = df_mem['Subcellular location [CC]'].apply(selector)\n",
        "\n",
        "df_mem = df_mem.dropna()\n",
        "df_mem.to_csv('mem.csv', sep='\\t', index=False)"
      ]
    },
    {
      "cell_type": "code",
      "execution_count": null,
      "metadata": {
        "id": "qjXfpQCogSN2"
      },
      "outputs": [],
      "source": [
        "df_in_mem = df_in_mem.copy()\n",
        "df_in_mem['Subcellular location ext'] = df_in_mem['Subcellular location [CC]'].apply(selector)\n",
        "\n",
        "df_in_mem = df_in_mem.dropna()\n",
        "df_in_mem.to_csv('in_mem.csv', sep='\\t', index=False)"
      ]
    },
    {
      "cell_type": "code",
      "execution_count": null,
      "metadata": {
        "id": "oh7nxgjsg0a2"
      },
      "outputs": [],
      "source": [
        "df_in = pd.read_csv('in.csv', header=0, sep='\\t')\n",
        "df_out = pd.read_csv('out.csv', header=0, sep='\\t')\n",
        "df_mem = pd.read_csv('mem.csv', header=0, sep='\\t')\n",
        "df_in_mem = pd.read_csv('in_mem.csv', header=0, sep='\\t')"
      ]
    },
    {
      "cell_type": "code",
      "execution_count": null,
      "metadata": {
        "id": "R2KrJ629hX9v"
      },
      "outputs": [],
      "source": [
        "df_in['location'] = 'in'\n",
        "df_out['location'] = 'out'\n",
        "df_mem['location'] = 'mem'\n",
        "df_in_mem['location'] = 'in_mem'"
      ]
    },
    {
      "cell_type": "code",
      "execution_count": null,
      "metadata": {
        "id": "Zgv4H4fvhxL7"
      },
      "outputs": [],
      "source": [
        "df_mem = df_mem.drop(columns='Protein names')\n",
        "df_in_mem = df_in_mem.drop(columns='Protein names')"
      ]
    },
    {
      "cell_type": "markdown",
      "metadata": {
        "id": "jAwSBNRGisWL"
      },
      "source": [
        "Concatenate protein databases"
      ]
    },
    {
      "cell_type": "code",
      "execution_count": null,
      "metadata": {
        "id": "k09x3C9aiuZs"
      },
      "outputs": [],
      "source": [
        "frames = [df_in, df_out, df_mem, df_in_mem]\n",
        "\n",
        "result = pd.concat(frames)"
      ]
    },
    {
      "cell_type": "code",
      "execution_count": null,
      "metadata": {
        "id": "TKDOV5k6jy8h"
      },
      "outputs": [],
      "source": [
        "result.to_csv('allproteins.csv', sep='\\t', index=False)"
      ]
    },
    {
      "cell_type": "code",
      "execution_count": null,
      "metadata": {
        "colab": {
          "base_uri": "https://localhost:8080/"
        },
        "id": "XvdzsedbwZfW",
        "outputId": "0d826da3-fdf0-4349-8fae-41369169507c"
      },
      "outputs": [
        {
          "data": {
            "text/plain": [
              "(39576, 8)"
            ]
          },
          "execution_count": 20,
          "metadata": {},
          "output_type": "execute_result"
        }
      ],
      "source": [
        "result.shape"
      ]
    },
    {
      "cell_type": "markdown",
      "metadata": {
        "id": "nU-FK4QUtlhM"
      },
      "source": [
        "Remove commas using calc or with python. Datasets downloaded from Uniprot can contain commas who can interfere with the right number of columns."
      ]
    },
    {
      "cell_type": "code",
      "execution_count": null,
      "metadata": {
        "id": "wBQt72X3vGrq"
      },
      "outputs": [],
      "source": [
        "df = pd.read_csv('allproteins.csv', header=0, sep='\\t')\n",
        "df.to_csv('allprot.csv', sep=',', index=False)"
      ]
    },
    {
      "cell_type": "code",
      "execution_count": null,
      "metadata": {
        "colab": {
          "base_uri": "https://localhost:8080/"
        },
        "id": "1GO751uToeri",
        "outputId": "00f7025c-7b69-47fe-81e6-85ac2cec3871"
      },
      "outputs": [
        {
          "data": {
            "text/plain": [
              "(39576, 10)"
            ]
          },
          "execution_count": 22,
          "metadata": {},
          "output_type": "execute_result"
        }
      ],
      "source": [
        "df.shape"
      ]
    },
    {
      "cell_type": "markdown",
      "source": [
        "In order to perform clustering of proteins, we need to convert .csv file into .fasta file (input format accepted by cd-hit)."
      ],
      "metadata": {
        "id": "9S4sYDlk1ynq"
      }
    },
    {
      "cell_type": "code",
      "execution_count": null,
      "metadata": {
        "id": "dRWlahHyjwTa"
      },
      "outputs": [],
      "source": [
        "!awk -F , '{print \">\"$2\"\\n\"$6}' allprot.csv > sequences.fasta #2 --> entry name, 6--> sequence"
      ]
    },
    {
      "cell_type": "markdown",
      "source": [
        "Remove first two lines (header)"
      ],
      "metadata": {
        "id": "VsQHBhCb2YTT"
      }
    },
    {
      "cell_type": "code",
      "execution_count": null,
      "metadata": {
        "id": "ml8d1EO3pHjy"
      },
      "outputs": [],
      "source": [
        "with open('sequences.fasta', 'r') as fin:\n",
        "  data = fin.read().splitlines(True)\n",
        "with open('sequences.fasta', 'w') as fout:\n",
        "  fout.writelines(data[2:])"
      ]
    },
    {
      "cell_type": "markdown",
      "metadata": {
        "id": "n7Arh3trw1fW"
      },
      "source": [
        "CD_HIT 25% similarity ---> proteins were clusterized in order to remove redundant ones (>25% similarity). \n",
        "Resultant dataset has no homology-based biases that could create biases-models. \n",
        "\n",
        "cd-hit package is not available via a python library, so you need visit https://github.com/weizhongli/cdhit-web-server and use docker platform.\n",
        "\n",
        "- generated file by cd-hit is called 'all25.fasta'"
      ]
    },
    {
      "cell_type": "code",
      "execution_count": null,
      "metadata": {
        "id": "RfdgcJP0Ab0o"
      },
      "outputs": [],
      "source": [
        "import sys \n",
        "from Bio import SeqIO "
      ]
    },
    {
      "cell_type": "code",
      "execution_count": null,
      "metadata": {
        "id": "tqFKsIKPAOBT"
      },
      "outputs": [],
      "source": [
        "fasta_file = 'all25.fasta' \n",
        "ids = []\n",
        "seq = []\n",
        "for seq_record in SeqIO.parse(fasta_file, \"fasta\"): \n",
        "  ids.append(seq_record.id)\n",
        "  seq.append(str(seq_record.seq))"
      ]
    },
    {
      "cell_type": "code",
      "execution_count": null,
      "metadata": {
        "id": "Vtt8V5qtASUO"
      },
      "outputs": [],
      "source": [
        "res = dict(zip(ids, seq))"
      ]
    },
    {
      "cell_type": "code",
      "execution_count": null,
      "metadata": {
        "id": "1efUytVuAUI1"
      },
      "outputs": [],
      "source": [
        "with open('all25.csv', 'w') as csv_file:  \n",
        "    writer = csv.writer(csv_file)\n",
        "    for key, value in res.items():\n",
        "       writer.writerow([key, value])"
      ]
    },
    {
      "cell_type": "markdown",
      "metadata": {
        "id": "DAN5ycL_ArDf"
      },
      "source": [
        "compare all25.csv with allprot.csv to retrieve representative proteins sequences and target column (location)"
      ]
    },
    {
      "cell_type": "code",
      "execution_count": null,
      "metadata": {
        "id": "gx-_rHZhA6Yk"
      },
      "outputs": [],
      "source": [
        "df_all25 = pd.read_csv('all25.csv', sep=',')\n",
        "df_allprot = pd.read_csv('allprot.csv')"
      ]
    },
    {
      "cell_type": "code",
      "execution_count": null,
      "metadata": {
        "colab": {
          "base_uri": "https://localhost:8080/"
        },
        "id": "Rs71Mlv7yA8Z",
        "outputId": "2c8fdbf6-1034-4f55-daa7-fe5774a9f366"
      },
      "outputs": [
        {
          "data": {
            "text/plain": [
              "(15840, 2)"
            ]
          },
          "execution_count": 34,
          "metadata": {},
          "output_type": "execute_result"
        }
      ],
      "source": [
        "df_all25.shape"
      ]
    },
    {
      "cell_type": "code",
      "execution_count": null,
      "metadata": {
        "colab": {
          "base_uri": "https://localhost:8080/"
        },
        "id": "lwX7y9VcyEfZ",
        "outputId": "55a64138-8a45-46a7-b5f3-8cf051119c35"
      },
      "outputs": [
        {
          "data": {
            "text/plain": [
              "(39576, 8)"
            ]
          },
          "execution_count": 30,
          "metadata": {},
          "output_type": "execute_result"
        }
      ],
      "source": [
        "df_allprot.shape"
      ]
    },
    {
      "cell_type": "code",
      "execution_count": null,
      "metadata": {
        "id": "vi1NC-pHSFJz"
      },
      "outputs": [],
      "source": [
        "df_all25.columns = ['Entry Name', 'Sequence']  "
      ]
    },
    {
      "cell_type": "code",
      "execution_count": null,
      "metadata": {
        "id": "b-VG7xrXBXKl"
      },
      "outputs": [],
      "source": [
        "df_common = pd.merge(df_all25, df_allprot, how='inner')"
      ]
    },
    {
      "cell_type": "code",
      "execution_count": null,
      "metadata": {
        "colab": {
          "base_uri": "https://localhost:8080/"
        },
        "id": "O2fdz3mFyRwd",
        "outputId": "076037df-0a63-4571-d565-940fea836f6b"
      },
      "outputs": [
        {
          "data": {
            "text/plain": [
              "(18455, 8)"
            ]
          },
          "execution_count": 37,
          "metadata": {},
          "output_type": "execute_result"
        }
      ],
      "source": [
        "df_common.shape"
      ]
    },
    {
      "cell_type": "code",
      "execution_count": null,
      "metadata": {
        "id": "ugN0OHB4TA32"
      },
      "outputs": [],
      "source": [
        "df_common.to_csv('allproteins25common.csv', sep=',', index=False)"
      ]
    },
    {
      "cell_type": "markdown",
      "metadata": {
        "id": "gjJ35CQJU42h"
      },
      "source": [
        "- Training set creation from veupathdb \n",
        "\n",
        "- Only proteins from organisms who appear in veupathdb were used for the training process. "
      ]
    },
    {
      "cell_type": "code",
      "execution_count": null,
      "metadata": {
        "id": "d-o4C21GiYGw"
      },
      "outputs": [],
      "source": [
        "df_common = pd.read_csv('allproteins25common.csv')"
      ]
    },
    {
      "cell_type": "code",
      "execution_count": null,
      "metadata": {
        "id": "8IZfWF6ZNrJJ"
      },
      "outputs": [],
      "source": [
        "df_common.drop(columns=df_common.columns[0], axis=1, inplace=True)"
      ]
    },
    {
      "cell_type": "code",
      "execution_count": null,
      "metadata": {
        "id": "Hr7iEbhxNelD"
      },
      "outputs": [],
      "source": [
        "df_common"
      ]
    },
    {
      "cell_type": "code",
      "execution_count": null,
      "metadata": {
        "colab": {
          "base_uri": "https://localhost:8080/"
        },
        "id": "97xKxqRKyag8",
        "outputId": "18a7a4b7-441f-4cdf-be5b-4ed1d9c531d6"
      },
      "outputs": [
        {
          "data": {
            "text/plain": [
              "(18455, 11)"
            ]
          },
          "execution_count": 8,
          "metadata": {},
          "output_type": "execute_result"
        }
      ],
      "source": [
        "df_common.shape"
      ]
    },
    {
      "cell_type": "code",
      "execution_count": null,
      "metadata": {
        "id": "poYyGON1U484"
      },
      "outputs": [],
      "source": [
        "# read veupathdb file\n",
        "df_organisms = pd.read_csv('organisms.csv')"
      ]
    },
    {
      "cell_type": "code",
      "execution_count": null,
      "metadata": {
        "colab": {
          "base_uri": "https://localhost:8080/"
        },
        "id": "8dzP_WaxydxU",
        "outputId": "69a305a0-ae76-483c-909f-cf502ea179f5"
      },
      "outputs": [
        {
          "data": {
            "text/plain": [
              "(646, 29)"
            ]
          },
          "execution_count": 10,
          "metadata": {},
          "output_type": "execute_result"
        }
      ],
      "source": [
        "# shape[0] shows organisms number\n",
        "df_organisms.shape"
      ]
    },
    {
      "cell_type": "markdown",
      "metadata": {
        "id": "pUpM12X8V8z1"
      },
      "source": [
        "It is important removing host organisms and vector organisms. we set the appropriate index and then we remove all vector based organisms using the drop pandas function with the help of the labels parameter."
      ]
    },
    {
      "cell_type": "code",
      "execution_count": null,
      "metadata": {
        "id": "7urIYUK2V5tW"
      },
      "outputs": [],
      "source": [
        "df_organisms_index = df_organisms.set_index('VEuPathDB Project')"
      ]
    },
    {
      "cell_type": "code",
      "execution_count": null,
      "metadata": {
        "id": "IdimXxdDWTMa"
      },
      "outputs": [],
      "source": [
        "#removes organisms that are from VectorBase module of VEUpathDB database\n",
        "organisms_of_interest_df1 = df_organisms_index.drop(labels='HostDB', axis=0)\n",
        "organisms_of_interest_df = organisms_of_interest_df1.drop(labels='VectorBase', axis=0).reset_index(drop=False)"
      ]
    },
    {
      "cell_type": "code",
      "execution_count": null,
      "metadata": {
        "colab": {
          "base_uri": "https://localhost:8080/"
        },
        "id": "SISRgwjuzND8",
        "outputId": "14d62717-2dd2-4287-aaf4-40edd31fd1f3"
      },
      "outputs": [
        {
          "data": {
            "text/plain": [
              "(577, 29)"
            ]
          },
          "execution_count": 13,
          "metadata": {},
          "output_type": "execute_result"
        }
      ],
      "source": [
        "# final number of organisms to consider\n",
        "organisms_of_interest_df.shape"
      ]
    },
    {
      "cell_type": "code",
      "execution_count": null,
      "metadata": {
        "id": "mF8G-DbuWrSB"
      },
      "outputs": [],
      "source": [
        "organisms_list = list(organisms_of_interest_df['Species'])"
      ]
    },
    {
      "cell_type": "code",
      "execution_count": null,
      "metadata": {
        "colab": {
          "base_uri": "https://localhost:8080/"
        },
        "id": "f7GkNhUVW2fz",
        "outputId": "0b6e49bb-bb75-45b6-b731-34767688f987"
      },
      "outputs": [
        {
          "name": "stdout",
          "output_type": "stream",
          "text": [
            "no\n"
          ]
        }
      ],
      "source": [
        "if 'Homo sapiens' in organisms_list:    #check\n",
        "  print('true')\n",
        "else:\n",
        "  print('no')"
      ]
    },
    {
      "cell_type": "markdown",
      "metadata": {
        "id": "ACdoGuHjW741"
      },
      "source": [
        "Now we need to compare pathogenic organisms from veupathdb with all proteins acquired from Uniprot in order to utilize only eucaryotic proteins derived from pathogenic organisms from nih database."
      ]
    },
    {
      "cell_type": "code",
      "execution_count": null,
      "metadata": {
        "id": "PWq6DNVsz93V"
      },
      "outputs": [],
      "source": [
        "#retains only first two words in 'Organism' column, mandatory to compare the column with organisms of interests list\n",
        "df_common['Organism'] = df_common['Organism'].apply(lambda x : ' '.join(x.split()[:1]))   #2"
      ]
    },
    {
      "cell_type": "code",
      "execution_count": null,
      "metadata": {
        "id": "OvLZAz2ofGj4"
      },
      "outputs": [],
      "source": [
        "organisms_list = [x.split()[0] for x in organisms_list]"
      ]
    },
    {
      "cell_type": "code",
      "execution_count": null,
      "metadata": {
        "id": "vj8Jp4mBW4rA"
      },
      "outputs": [],
      "source": [
        "df_training = df_common.loc[df_common['Organism'].isin(organisms_list).reset_index(drop=True)]\n",
        "df_training.to_csv('training_set.csv')"
      ]
    },
    {
      "cell_type": "code",
      "execution_count": null,
      "metadata": {
        "colab": {
          "base_uri": "https://localhost:8080/"
        },
        "id": "LT2d5uLXXT0W",
        "outputId": "5e0c170e-1c48-422f-cce4-40502cd8b6f7"
      },
      "outputs": [
        {
          "data": {
            "text/plain": [
              "(18455, 11)"
            ]
          },
          "execution_count": 20,
          "metadata": {},
          "output_type": "execute_result"
        }
      ],
      "source": [
        "df_common.shape"
      ]
    },
    {
      "cell_type": "code",
      "execution_count": null,
      "metadata": {
        "colab": {
          "base_uri": "https://localhost:8080/"
        },
        "id": "UnUrOxKTZTN8",
        "outputId": "69709dcb-25bc-4b5d-c83d-30bbd9555c8a"
      },
      "outputs": [
        {
          "data": {
            "text/plain": [
              "(14123, 11)"
            ]
          },
          "execution_count": 42,
          "metadata": {},
          "output_type": "execute_result"
        }
      ],
      "source": [
        "df_training.shape"
      ]
    },
    {
      "cell_type": "code",
      "execution_count": null,
      "metadata": {
        "id": "qPxeopLfhQTh"
      },
      "outputs": [],
      "source": [
        "df_training = pd.read_csv('training_set.csv')"
      ]
    },
    {
      "cell_type": "code",
      "execution_count": null,
      "metadata": {
        "id": "MWydQt8ghbA4"
      },
      "outputs": [],
      "source": [
        "# show number of proteins relative to every label\n",
        "df_training['location'].value_counts()"
      ]
    },
    {
      "cell_type": "markdown",
      "source": [
        "In order to make the model more easier and interpretable, we decided to merge in_mem-in and out-mem proteins. But it is important creating a balanced dataset. \n",
        "Since we have a huge number of internal proteins respect to other labels, we need to sample our dataset extracting the same number of proteins from every dataset in a randomized approach."
      ],
      "metadata": {
        "id": "Irl_PAYj6Oax"
      }
    },
    {
      "cell_type": "code",
      "execution_count": null,
      "metadata": {
        "id": "0sW34Cb035CJ"
      },
      "outputs": [],
      "source": [
        "out_sample1 = df_validation[df_validation['location'] == 'in'].sample(n=201, replace=False, random_state=42)\n"
      ]
    },
    {
      "cell_type": "code",
      "execution_count": null,
      "metadata": {
        "id": "wE_OgKDD4KR4"
      },
      "outputs": [],
      "source": [
        "out_sample2 = df_validation[df_validation['location'] == 'out'].sample(n=201, replace=False, random_state=42)"
      ]
    },
    {
      "cell_type": "code",
      "source": [
        "out_sample3 = df_validation[df_validation['location'] == 'mem'].sample(n=202, replace=False, random_state=42)"
      ],
      "metadata": {
        "id": "Rhi-1PrL4rsY"
      },
      "execution_count": null,
      "outputs": []
    },
    {
      "cell_type": "code",
      "source": [
        "out_sample4 = df_validation[df_validation['location'] == 'in_mem'].sample(n=202, replace=False, random_state=42)"
      ],
      "metadata": {
        "id": "L4mZ49RV4t3R"
      },
      "execution_count": null,
      "outputs": []
    },
    {
      "cell_type": "code",
      "execution_count": null,
      "metadata": {
        "id": "gGLXwv5_4SIj"
      },
      "outputs": [],
      "source": [
        "# concatenate datasets\n",
        "df_sample = pd.concat([out_sample2, out_sample1, out_sample3, out_sample4])"
      ]
    },
    {
      "cell_type": "markdown",
      "source": [
        "For the purpose of creating a simple and more interpretable mathematical model, we decided to merge in-in_mem and out-mem proteins."
      ],
      "metadata": {
        "id": "oVVmY7_08I3W"
      }
    },
    {
      "cell_type": "code",
      "source": [
        "df_sample['location'] = df_sample['location'].replace({'in_mem': 'in', 'mem': 'out'})"
      ],
      "metadata": {
        "id": "RSz4K7ICAzGS"
      },
      "execution_count": null,
      "outputs": []
    },
    {
      "cell_type": "code",
      "execution_count": null,
      "metadata": {
        "id": "378VfkzrkzZM"
      },
      "outputs": [],
      "source": [
        "df_sample"
      ]
    },
    {
      "cell_type": "code",
      "execution_count": null,
      "metadata": {
        "colab": {
          "base_uri": "https://localhost:8080/"
        },
        "id": "Hq4XknLR4chD",
        "outputId": "c8499fb4-9491-4438-9503-6fba6b244c98"
      },
      "outputs": [
        {
          "output_type": "execute_result",
          "data": {
            "text/plain": [
              "out    403\n",
              "in     403\n",
              "Name: location, dtype: int64"
            ]
          },
          "metadata": {},
          "execution_count": 86
        }
      ],
      "source": [
        "df_sample['location'].value_counts()"
      ]
    },
    {
      "cell_type": "markdown",
      "source": [
        "Now, we need to define target variable (y) that contains protein localization labels (the last column in our dataset)."
      ],
      "metadata": {
        "id": "rePKMF8G8ebJ"
      }
    },
    {
      "cell_type": "code",
      "execution_count": null,
      "metadata": {
        "id": "51cVEVunk4FG"
      },
      "outputs": [],
      "source": [
        "y = df_sample.iloc[:,-1]"
      ]
    },
    {
      "cell_type": "code",
      "execution_count": null,
      "metadata": {
        "colab": {
          "base_uri": "https://localhost:8080/"
        },
        "id": "slfkXTU2lSkD",
        "outputId": "c05b97ef-8d44-4116-efad-a30386918d7c"
      },
      "outputs": [
        {
          "output_type": "execute_result",
          "data": {
            "text/plain": [
              "4023       out\n",
              "3930       out\n",
              "3948       out\n",
              "4098       out\n",
              "4060       out\n",
              "         ...  \n",
              "943     in_mem\n",
              "3638    in_mem\n",
              "768     in_mem\n",
              "743     in_mem\n",
              "1784    in_mem\n",
              "Name: location, Length: 806, dtype: object"
            ]
          },
          "metadata": {},
          "execution_count": 20
        }
      ],
      "source": [
        "y"
      ]
    },
    {
      "cell_type": "code",
      "execution_count": null,
      "metadata": {
        "id": "I6q1Enc55Gfu"
      },
      "outputs": [],
      "source": [
        "df_sample.to_csv('allproteins25common.csv', sep=',', index=False)"
      ]
    },
    {
      "cell_type": "markdown",
      "metadata": {
        "id": "kZV1uBqDZuMB"
      },
      "source": [
        "- Feature extraction with iFeature\n",
        "iFeature is a python package capables of extract mathematical and physical-chemical descriptors from protein sequences. For a in-depth knowledge of the package, please visit https://github.com/Superzchen/iFeature."
      ]
    },
    {
      "cell_type": "code",
      "execution_count": null,
      "metadata": {
        "id": "sCBRd8DPbqRf"
      },
      "outputs": [],
      "source": [
        "#!awk -F , '{print \">\"$1\"\\n\"$2}' training_set.csv > training_set.fasta\n",
        "!awk -F , '{print \">\"$2\"\\n\"$3}' allproteins25common.csv > training.fasta"
      ]
    },
    {
      "cell_type": "code",
      "execution_count": null,
      "metadata": {
        "id": "4nKeqwGrbtpm"
      },
      "outputs": [],
      "source": [
        "with open('training.fasta', 'r') as fin:\n",
        "  data = fin.read().splitlines(True)\n",
        "with open('training.fasta', 'w') as fout:\n",
        "  fout.writelines(data[2:])"
      ]
    },
    {
      "cell_type": "code",
      "execution_count": null,
      "metadata": {
        "id": "riAiF74cUJAe"
      },
      "outputs": [],
      "source": [
        "with open('validation_set.fasta', 'r') as fin:\n",
        "  data = fin.read().splitlines(True)\n",
        "with open('validation_set.fasta', 'w') as fout:\n",
        "  fout.writelines(data[2:])"
      ]
    },
    {
      "cell_type": "code",
      "execution_count": null,
      "metadata": {
        "id": "g3dzC-31UZYJ"
      },
      "outputs": [],
      "source": [
        "# clone iFeature library from github\n",
        "!git clone https://github.com/Superzchen/iFeature  "
      ]
    },
    {
      "cell_type": "code",
      "execution_count": null,
      "metadata": {
        "colab": {
          "base_uri": "https://localhost:8080/"
        },
        "id": "RgMTZKMJUdB2",
        "outputId": "e0fabddf-ad60-40cf-dbd2-44420bc123ed"
      },
      "outputs": [
        {
          "output_type": "stream",
          "name": "stdout",
          "text": [
            "Descriptor type: AAC\n",
            "Descriptor type: DPC\n",
            "Descriptor type: DDE\n",
            "Descriptor type: GAAC\n",
            "Descriptor type: GDPC\n",
            "Descriptor type: GTPC\n",
            "Descriptor type: CTDC\n",
            "Descriptor type: CTDT\n",
            "Descriptor type: CTDD\n"
          ]
        }
      ],
      "source": [
        "# Descriptors calculation for the training set\n",
        "!python iFeature/iFeature.py --file training_set.fasta --type AAC --out AAC.csv   #1 aa composition (frequency), 20 features\n",
        "!python iFeature/iFeature.py --file training_set.fasta --type DPC --out DPC.csv   #2 DPC (dipeptide composition), 400 features\n",
        "#!python iFeature/iFeature.py --file training_set.fasta --type TPC --out TPC.csv   #3 TPC  \n",
        "!python iFeature/iFeature.py --file training_set.fasta --type DDE --out DDE.csv   #4 dipeptide deviation from expected mean (DDE)\n",
        "!python iFeature/iFeature.py --file training_set.fasta --type GAAC --out GAAC.csv #5 GAAC grouped aminoacid composition, 5 features\n",
        "!python iFeature/iFeature.py --file training_set.fasta --type GDPC --out GDPC.csv #6 GDPC\n",
        "!python iFeature/iFeature.py --file training_set.fasta --type GTPC --out GTPC.csv #7 GTPC\n",
        "!python iFeature/iFeature.py --file training_set.fasta --type CTDC --out CTDC.csv #8 CTDC\n",
        "!python iFeature/iFeature.py --file training_set.fasta --type CTDT --out CTDT.csv #9 CTDT\n",
        "!python iFeature/iFeature.py --file training_set.fasta --type CTDD --out CTDD.csv #10 CTDD"
      ]
    },
    {
      "cell_type": "code",
      "execution_count": null,
      "metadata": {
        "id": "zwwF_qmthoqd"
      },
      "outputs": [],
      "source": [
        "import numpy as np"
      ]
    },
    {
      "cell_type": "code",
      "execution_count": null,
      "metadata": {
        "id": "-y_U_FBnfsKj"
      },
      "outputs": [],
      "source": [
        "def data2vecloc(fasta_file):\n",
        "    \"\"\"This function takes as input iFeature descriptors and concat them\"\"\"\n",
        "    \n",
        "\n",
        "    proteins = list(SeqIO.parse(fasta_file, \"fasta\"))\n",
        "\n",
        "    extension = \".csv\"\n",
        "    files = [\"AAC\", \"DPC\", \"DDE\", \"GAAC\", \"GDPC\", 'GTPC', 'CTDC', 'CTDT', 'CTDD']\n",
        "\n",
        "    datasets = [[] for el in files]\n",
        "    for i in range(len(files)):\n",
        "        with open(files[i] + extension) as f:\n",
        "            lines = f.readlines()[1:]\n",
        "            check_prot = 0\n",
        "            for line in lines:\n",
        "                information = line.split('\\t')\n",
        "\n",
        "                if not information[0] == proteins[check_prot].id:\n",
        "                    print(\"Error in protein order! Return\")\n",
        "\n",
        "                    return datasets\n",
        "\n",
        "                # Aggiunta della lunghezza proteica come ultima colonna\n",
        "                length = float(information[-1].rstrip())\n",
        "                datasets[i].append(np.array([float(el) for el in information[1:-1]] + [length]))\n",
        "                check_prot += 1\n",
        "        datasets[i] = np.array(datasets[i])\n",
        "    return datasets\n",
        "\n"
      ]
    },
    {
      "cell_type": "code",
      "execution_count": null,
      "metadata": {
        "id": "unGandydgdLU"
      },
      "outputs": [],
      "source": [
        "datasets = data2vecloc('training_set.fasta')"
      ]
    },
    {
      "cell_type": "code",
      "execution_count": null,
      "metadata": {
        "id": "u2aazolZmxbc"
      },
      "outputs": [],
      "source": [
        "datasets"
      ]
    },
    {
      "cell_type": "code",
      "execution_count": null,
      "metadata": {
        "id": "HV8-7A37iTpk"
      },
      "outputs": [],
      "source": [
        "def load_fasta_file(fasta_file):\n",
        "    \"\"\"the function loads fasta file and return id and associated sequence for every protein in the file\"\"\"\n",
        "    sequences = []\n",
        "    sequence_ids = []\n",
        "    with open(fasta_file) as f:\n",
        "        for line in f:\n",
        "            line = line.strip()\n",
        "            if line.startswith(\">\"):\n",
        "                sequence_ids.append(line[1:])\n",
        "            else:\n",
        "                sequences.append(line)\n",
        "    return sequence_ids, sequences"
      ]
    },
    {
      "cell_type": "code",
      "execution_count": null,
      "metadata": {
        "id": "_zUfDbD4iWH_"
      },
      "outputs": [],
      "source": [
        "sequence_ids, sequence= load_fasta_file('training_set.fasta')"
      ]
    },
    {
      "cell_type": "code",
      "execution_count": null,
      "metadata": {
        "id": "GALX-ajjh1KU"
      },
      "outputs": [],
      "source": [
        "def preprocessingloc(fasta_file, sequence_ids):\n",
        "    \"\"\"function to define X (independent) variable\"\"\"\n",
        "    datasets = data2vecloc(fasta_file)\n",
        "\n",
        "    rows = 0\n",
        "    n = len(sequence_ids)\n",
        "    rows = n\n",
        "    columns = 0\n",
        "    num_descriptors = []\n",
        "    for i in range(len(datasets)):\n",
        "        tmp_dim = datasets[i].shape[1]\n",
        "\n",
        "        columns += tmp_dim\n",
        "        num_descriptors.append(i + 1)\n",
        "    num_descriptors = (len(num_descriptors))\n",
        "\n",
        "    X = np.zeros((rows, columns))\n",
        "    for i in range(n):\n",
        "        X[i] = np.concatenate([datasets[j][i] for j in range(num_descriptors)])\n",
        "    return X"
      ]
    },
    {
      "cell_type": "code",
      "execution_count": null,
      "metadata": {
        "id": "Vm4D6cA6ikQ2"
      },
      "outputs": [],
      "source": [
        "X = preprocessingloc('training_set.fasta', sequence_ids)"
      ]
    },
    {
      "cell_type": "code",
      "source": [
        "X"
      ],
      "metadata": {
        "colab": {
          "base_uri": "https://localhost:8080/"
        },
        "id": "LVvTna9m8cEh",
        "outputId": "a90347f6-673d-4f29-b4e4-a2c7153a6059"
      },
      "execution_count": null,
      "outputs": [
        {
          "output_type": "execute_result",
          "data": {
            "text/plain": [
              "array([[8.18713450e-02, 1.52046784e-02, 6.90058480e-02, ...,\n",
              "        5.16959064e+01, 7.40350877e+01, 9.98830409e+01],\n",
              "       [1.36054422e-01, 0.00000000e+00, 4.76190476e-02, ...,\n",
              "        4.14965986e+01, 8.36734694e+01, 1.00000000e+02],\n",
              "       [7.21868365e-02, 2.12314225e-02, 7.85562633e-02, ...,\n",
              "        4.92569002e+01, 7.77070064e+01, 1.00000000e+02],\n",
              "       ...,\n",
              "       [1.03004292e-01, 1.28755365e-02, 4.29184549e-02, ...,\n",
              "        4.84978541e+01, 7.59656652e+01, 9.82832618e+01],\n",
              "       [7.09677419e-02, 1.29032258e-02, 4.51612903e-02, ...,\n",
              "        3.41935484e+01, 6.00000000e+01, 9.48387097e+01],\n",
              "       [6.08695652e-02, 8.69565217e-03, 1.73913043e-02, ...,\n",
              "        4.17391304e+01, 6.43478261e+01, 9.91304348e+01]])"
            ]
          },
          "metadata": {},
          "execution_count": 63
        }
      ]
    },
    {
      "cell_type": "markdown",
      "metadata": {
        "id": "OYGYcTXs4ngp"
      },
      "source": [
        "- Models"
      ]
    },
    {
      "cell_type": "code",
      "execution_count": null,
      "metadata": {
        "id": "Qq_gJd8q4o6s"
      },
      "outputs": [],
      "source": [
        "from sklearn.ensemble import RandomForestClassifier\n",
        "import pandas as pd\n",
        "from sklearn.model_selection import train_test_split\n",
        "import numpy as np\n",
        "from sklearn.model_selection import RandomizedSearchCV, GridSearchCV\n",
        "import tqdm\n",
        "from tqdm.notebook import tqdm\n",
        "from sklearn.model_selection import RepeatedStratifiedKFold\n",
        "from scipy.stats import loguniform\n",
        "from sklearn.preprocessing import StandardScaler\n",
        "from sklearn.preprocessing import MinMaxScaler\n",
        "from imblearn.over_sampling import RandomOverSampler\n",
        "from imblearn.over_sampling import SMOTE, ADASYN\n",
        "from sklearn.metrics import classification_report"
      ]
    },
    {
      "cell_type": "markdown",
      "metadata": {
        "id": "FfePV9wTNOu5"
      },
      "source": [
        "- split dataset in the training and validation sets "
      ]
    },
    {
      "cell_type": "code",
      "execution_count": null,
      "metadata": {
        "colab": {
          "base_uri": "https://localhost:8080/"
        },
        "id": "2kacFWR4n10S",
        "outputId": "6627b978-7ca7-4771-a679-49726799f743"
      },
      "outputs": [
        {
          "output_type": "stream",
          "name": "stdout",
          "text": [
            "Dimensioni set di addestramento: (644, 1248) (644,)\n",
            "Dimensioni set di test: (162, 1248) (162,)\n"
          ]
        }
      ],
      "source": [
        "test_size = 0.2\n",
        "\n",
        "# train-test split\n",
        "X_train, X_test, y_train, y_test = train_test_split(X, y, test_size=test_size)\n",
        "\n",
        "print(\"Training set shape:\", X_train.shape, y_train.shape)\n",
        "print(\"Test set shape:\", X_test.shape, y_test.shape)"
      ]
    },
    {
      "cell_type": "markdown",
      "metadata": {
        "id": "BoG9h2XKR0YE"
      },
      "source": [
        "- Random Forest based model"
      ]
    },
    {
      "cell_type": "code",
      "execution_count": null,
      "metadata": {
        "colab": {
          "base_uri": "https://localhost:8080/",
          "height": 75
        },
        "id": "GES0xl2l77Ko",
        "outputId": "197e1d92-ef78-4bd4-82e1-63401dac7e66"
      },
      "outputs": [
        {
          "output_type": "execute_result",
          "data": {
            "text/plain": [
              "RandomForestClassifier(class_weight='balanced', n_jobs=-1)"
            ],
            "text/html": [
              "<style>#sk-container-id-2 {color: black;background-color: white;}#sk-container-id-2 pre{padding: 0;}#sk-container-id-2 div.sk-toggleable {background-color: white;}#sk-container-id-2 label.sk-toggleable__label {cursor: pointer;display: block;width: 100%;margin-bottom: 0;padding: 0.3em;box-sizing: border-box;text-align: center;}#sk-container-id-2 label.sk-toggleable__label-arrow:before {content: \"▸\";float: left;margin-right: 0.25em;color: #696969;}#sk-container-id-2 label.sk-toggleable__label-arrow:hover:before {color: black;}#sk-container-id-2 div.sk-estimator:hover label.sk-toggleable__label-arrow:before {color: black;}#sk-container-id-2 div.sk-toggleable__content {max-height: 0;max-width: 0;overflow: hidden;text-align: left;background-color: #f0f8ff;}#sk-container-id-2 div.sk-toggleable__content pre {margin: 0.2em;color: black;border-radius: 0.25em;background-color: #f0f8ff;}#sk-container-id-2 input.sk-toggleable__control:checked~div.sk-toggleable__content {max-height: 200px;max-width: 100%;overflow: auto;}#sk-container-id-2 input.sk-toggleable__control:checked~label.sk-toggleable__label-arrow:before {content: \"▾\";}#sk-container-id-2 div.sk-estimator input.sk-toggleable__control:checked~label.sk-toggleable__label {background-color: #d4ebff;}#sk-container-id-2 div.sk-label input.sk-toggleable__control:checked~label.sk-toggleable__label {background-color: #d4ebff;}#sk-container-id-2 input.sk-hidden--visually {border: 0;clip: rect(1px 1px 1px 1px);clip: rect(1px, 1px, 1px, 1px);height: 1px;margin: -1px;overflow: hidden;padding: 0;position: absolute;width: 1px;}#sk-container-id-2 div.sk-estimator {font-family: monospace;background-color: #f0f8ff;border: 1px dotted black;border-radius: 0.25em;box-sizing: border-box;margin-bottom: 0.5em;}#sk-container-id-2 div.sk-estimator:hover {background-color: #d4ebff;}#sk-container-id-2 div.sk-parallel-item::after {content: \"\";width: 100%;border-bottom: 1px solid gray;flex-grow: 1;}#sk-container-id-2 div.sk-label:hover label.sk-toggleable__label {background-color: #d4ebff;}#sk-container-id-2 div.sk-serial::before {content: \"\";position: absolute;border-left: 1px solid gray;box-sizing: border-box;top: 0;bottom: 0;left: 50%;z-index: 0;}#sk-container-id-2 div.sk-serial {display: flex;flex-direction: column;align-items: center;background-color: white;padding-right: 0.2em;padding-left: 0.2em;position: relative;}#sk-container-id-2 div.sk-item {position: relative;z-index: 1;}#sk-container-id-2 div.sk-parallel {display: flex;align-items: stretch;justify-content: center;background-color: white;position: relative;}#sk-container-id-2 div.sk-item::before, #sk-container-id-2 div.sk-parallel-item::before {content: \"\";position: absolute;border-left: 1px solid gray;box-sizing: border-box;top: 0;bottom: 0;left: 50%;z-index: -1;}#sk-container-id-2 div.sk-parallel-item {display: flex;flex-direction: column;z-index: 1;position: relative;background-color: white;}#sk-container-id-2 div.sk-parallel-item:first-child::after {align-self: flex-end;width: 50%;}#sk-container-id-2 div.sk-parallel-item:last-child::after {align-self: flex-start;width: 50%;}#sk-container-id-2 div.sk-parallel-item:only-child::after {width: 0;}#sk-container-id-2 div.sk-dashed-wrapped {border: 1px dashed gray;margin: 0 0.4em 0.5em 0.4em;box-sizing: border-box;padding-bottom: 0.4em;background-color: white;}#sk-container-id-2 div.sk-label label {font-family: monospace;font-weight: bold;display: inline-block;line-height: 1.2em;}#sk-container-id-2 div.sk-label-container {text-align: center;}#sk-container-id-2 div.sk-container {/* jupyter's `normalize.less` sets `[hidden] { display: none; }` but bootstrap.min.css set `[hidden] { display: none !important; }` so we also need the `!important` here to be able to override the default hidden behavior on the sphinx rendered scikit-learn.org. See: https://github.com/scikit-learn/scikit-learn/issues/21755 */display: inline-block !important;position: relative;}#sk-container-id-2 div.sk-text-repr-fallback {display: none;}</style><div id=\"sk-container-id-2\" class=\"sk-top-container\"><div class=\"sk-text-repr-fallback\"><pre>RandomForestClassifier(class_weight=&#x27;balanced&#x27;, n_jobs=-1)</pre><b>In a Jupyter environment, please rerun this cell to show the HTML representation or trust the notebook. <br />On GitHub, the HTML representation is unable to render, please try loading this page with nbviewer.org.</b></div><div class=\"sk-container\" hidden><div class=\"sk-item\"><div class=\"sk-estimator sk-toggleable\"><input class=\"sk-toggleable__control sk-hidden--visually\" id=\"sk-estimator-id-2\" type=\"checkbox\" checked><label for=\"sk-estimator-id-2\" class=\"sk-toggleable__label sk-toggleable__label-arrow\">RandomForestClassifier</label><div class=\"sk-toggleable__content\"><pre>RandomForestClassifier(class_weight=&#x27;balanced&#x27;, n_jobs=-1)</pre></div></div></div></div></div>"
            ]
          },
          "metadata": {},
          "execution_count": 100
        }
      ],
      "source": [
        "# initialize Random Forest\n",
        "model = RandomForestClassifier(n_jobs=-1, class_weight='balanced')      \n",
        "\n",
        "model.fit(X_train, y_train)"
      ]
    },
    {
      "cell_type": "code",
      "execution_count": null,
      "metadata": {
        "id": "7aIiBB9D96Nc"
      },
      "outputs": [],
      "source": [
        "y_pred = model.predict(X_test)"
      ]
    },
    {
      "cell_type": "code",
      "execution_count": null,
      "metadata": {
        "colab": {
          "base_uri": "https://localhost:8080/"
        },
        "id": "P0qd_ADi-xW8",
        "outputId": "195d06d6-710d-4434-84fe-848b614305cf"
      },
      "outputs": [
        {
          "output_type": "execute_result",
          "data": {
            "text/plain": [
              "0.7716049382716049"
            ]
          },
          "metadata": {},
          "execution_count": 103
        }
      ],
      "source": [
        "# score on the test set\n",
        "model.score(X_test, y_test) "
      ]
    },
    {
      "cell_type": "markdown",
      "source": [
        "- Decision threshold"
      ],
      "metadata": {
        "id": "yATu50e9A_gD"
      }
    },
    {
      "cell_type": "code",
      "source": [
        "probs = model.predict_proba(X_test)"
      ],
      "metadata": {
        "id": "u4MgdG4oDInJ"
      },
      "execution_count": null,
      "outputs": []
    },
    {
      "cell_type": "code",
      "source": [
        "# configure personalized decision threshold\n",
        "threshold = 0.40\n",
        "\n",
        "# from probability to binary preds \n",
        "preds = (probs[:,1] > threshold).astype(int)\n",
        "\n",
        "print(\"Predictions:\", preds)"
      ],
      "metadata": {
        "colab": {
          "base_uri": "https://localhost:8080/"
        },
        "id": "ToAGtbk5DCjC",
        "outputId": "74cba2d6-0596-43e8-bca3-7cdc5f3b99fc"
      },
      "execution_count": null,
      "outputs": [
        {
          "output_type": "stream",
          "name": "stdout",
          "text": [
            "Predizioni: [0 0 0 1 1 1 0 0 1 0 1 0 0 1 1 0 1 0 1 1 1 1 0 1 1 1 1 0 0 1 1 0 1 1 1 1 0\n",
            " 1 1 0 0 1 0 0 0 1 0 0 1 1 0 0 0 1 1 0 0 1 1 1 1 1 1 0 1 1 0 1 0 0 0 0 1 0\n",
            " 1 1 1 0 1 1 0 1 1 0 0 1 0 1 1 0 1 0 1 1 0 0 1 1 0 1 0 1 1 1 0 1 1 1 1 0 1\n",
            " 1 0 1 1 0 0 1 1 0 0 1 1 0 1 1 1 1 0 1 1 1 1 1 0 1 1 0 1 0 0 1 1 1 1 1 1 1\n",
            " 1 1 0 1 1 1 1 1 0 0 1 0 1 1]\n"
          ]
        }
      ]
    },
    {
      "cell_type": "code",
      "source": [
        "# labels mapping\n",
        "label_map = {0: 'in', 1: 'out'}\n",
        "\n",
        "# from binary values to labels\n",
        "labels = np.where(preds == 1, 'out', 'in')\n",
        "\n",
        "print(\"mapped labels:\", labels)"
      ],
      "metadata": {
        "colab": {
          "base_uri": "https://localhost:8080/"
        },
        "id": "tpbRql7MDvB1",
        "outputId": "f9149aa9-a1fb-42f8-a2d1-00ddc39ee4dc"
      },
      "execution_count": null,
      "outputs": [
        {
          "output_type": "stream",
          "name": "stdout",
          "text": [
            "Etichette mappate: ['in' 'in' 'in' 'out' 'out' 'out' 'in' 'in' 'out' 'in' 'out' 'in' 'in'\n",
            " 'out' 'out' 'in' 'out' 'in' 'out' 'out' 'out' 'out' 'in' 'out' 'out'\n",
            " 'out' 'out' 'in' 'in' 'out' 'out' 'in' 'out' 'out' 'out' 'out' 'in' 'out'\n",
            " 'out' 'in' 'in' 'out' 'in' 'in' 'in' 'out' 'in' 'in' 'out' 'out' 'in'\n",
            " 'in' 'in' 'out' 'out' 'in' 'in' 'out' 'out' 'out' 'out' 'out' 'out' 'in'\n",
            " 'out' 'out' 'in' 'out' 'in' 'in' 'in' 'in' 'out' 'in' 'out' 'out' 'out'\n",
            " 'in' 'out' 'out' 'in' 'out' 'out' 'in' 'in' 'out' 'in' 'out' 'out' 'in'\n",
            " 'out' 'in' 'out' 'out' 'in' 'in' 'out' 'out' 'in' 'out' 'in' 'out' 'out'\n",
            " 'out' 'in' 'out' 'out' 'out' 'out' 'in' 'out' 'out' 'in' 'out' 'out' 'in'\n",
            " 'in' 'out' 'out' 'in' 'in' 'out' 'out' 'in' 'out' 'out' 'out' 'out' 'in'\n",
            " 'out' 'out' 'out' 'out' 'out' 'in' 'out' 'out' 'in' 'out' 'in' 'in' 'out'\n",
            " 'out' 'out' 'out' 'out' 'out' 'out' 'out' 'out' 'in' 'out' 'out' 'out'\n",
            " 'out' 'out' 'in' 'in' 'out' 'in' 'out' 'out']\n"
          ]
        }
      ]
    },
    {
      "cell_type": "code",
      "source": [
        "# print the classification report\n",
        "print(classification_report(y_test, labels))    "
      ],
      "metadata": {
        "colab": {
          "base_uri": "https://localhost:8080/"
        },
        "id": "90rjhIVZDVYu",
        "outputId": "54a0088b-dc38-4580-845b-c381371ae8a6"
      },
      "execution_count": null,
      "outputs": [
        {
          "output_type": "stream",
          "name": "stdout",
          "text": [
            "              precision    recall  f1-score   support\n",
            "\n",
            "          in       0.77      0.63      0.70        76\n",
            "         out       0.72      0.84      0.77        86\n",
            "\n",
            "    accuracy                           0.74       162\n",
            "   macro avg       0.75      0.73      0.73       162\n",
            "weighted avg       0.75      0.74      0.74       162\n",
            "\n"
          ]
        }
      ]
    },
    {
      "cell_type": "code",
      "execution_count": null,
      "metadata": {
        "colab": {
          "base_uri": "https://localhost:8080/"
        },
        "id": "niBGQFHH-AMQ",
        "outputId": "b6429a53-a59e-4eb4-9c23-3aed7587cd86"
      },
      "outputs": [
        {
          "output_type": "stream",
          "name": "stdout",
          "text": [
            "              precision    recall  f1-score   support\n",
            "\n",
            "          in       0.71      0.87      0.78        76\n",
            "         out       0.86      0.69      0.76        86\n",
            "\n",
            "    accuracy                           0.77       162\n",
            "   macro avg       0.78      0.78      0.77       162\n",
            "weighted avg       0.79      0.77      0.77       162\n",
            "\n"
          ]
        }
      ],
      "source": [
        "print(classification_report(y_test, y_pred))      #classification report "
      ]
    },
    {
      "cell_type": "code",
      "execution_count": null,
      "metadata": {
        "id": "zTsmXMZPlBZj"
      },
      "outputs": [],
      "source": [
        "# import joblib package to save our model for future use\n",
        "import joblib"
      ]
    },
    {
      "cell_type": "code",
      "execution_count": null,
      "metadata": {
        "colab": {
          "base_uri": "https://localhost:8080/"
        },
        "id": "X9bGckbWkyqo",
        "outputId": "8c3102fc-1a97-4eb1-8883-7b2f7f837021"
      },
      "outputs": [
        {
          "output_type": "execute_result",
          "data": {
            "text/plain": [
              "['./euLOC.joblib']"
            ]
          },
          "metadata": {},
          "execution_count": 106
        }
      ],
      "source": [
        "# save the model\n",
        "joblib.dump(model, \"./euLOC.joblib\") "
      ]
    },
    {
      "cell_type": "code",
      "execution_count": null,
      "metadata": {
        "id": "KcQ1AXO4lWH3"
      },
      "outputs": [],
      "source": [
        "#test the model\n",
        "\n",
        "loaded_rf = joblib.load(\"./euLOC.joblib\")"
      ]
    },
    {
      "cell_type": "code",
      "execution_count": null,
      "metadata": {
        "colab": {
          "base_uri": "https://localhost:8080/"
        },
        "id": "TRBDt-DxlfKS",
        "outputId": "1a7ba187-bc12-4745-fcda-add1f55538ba"
      },
      "outputs": [
        {
          "output_type": "execute_result",
          "data": {
            "text/plain": [
              "array(['in', 'in', 'in', 'out', 'out', 'out', 'in', 'in', 'in', 'in',\n",
              "       'out', 'in', 'in', 'out', 'out', 'in', 'out', 'in', 'out', 'out',\n",
              "       'in', 'out', 'in', 'out', 'in', 'out', 'out', 'in', 'in', 'in',\n",
              "       'out', 'in', 'out', 'out', 'out', 'out', 'in', 'in', 'in', 'in',\n",
              "       'in', 'in', 'in', 'in', 'in', 'out', 'in', 'in', 'out', 'in', 'in',\n",
              "       'in', 'in', 'out', 'out', 'in', 'in', 'out', 'in', 'out', 'in',\n",
              "       'out', 'out', 'in', 'in', 'in', 'in', 'in', 'in', 'in', 'in', 'in',\n",
              "       'out', 'in', 'in', 'out', 'out', 'in', 'in', 'in', 'in', 'in',\n",
              "       'out', 'in', 'in', 'out', 'in', 'out', 'in', 'in', 'out', 'in',\n",
              "       'out', 'out', 'in', 'in', 'out', 'out', 'in', 'in', 'in', 'out',\n",
              "       'out', 'out', 'in', 'out', 'out', 'out', 'in', 'in', 'out', 'in',\n",
              "       'in', 'out', 'out', 'in', 'in', 'out', 'out', 'in', 'in', 'out',\n",
              "       'in', 'in', 'in', 'out', 'in', 'out', 'in', 'in', 'out', 'in',\n",
              "       'out', 'out', 'in', 'in', 'in', 'in', 'out', 'in', 'in', 'out',\n",
              "       'out', 'out', 'in', 'out', 'in', 'out', 'out', 'out', 'in', 'out',\n",
              "       'out', 'out', 'in', 'out', 'in', 'in', 'out', 'in', 'out', 'out'],\n",
              "      dtype=object)"
            ]
          },
          "metadata": {},
          "execution_count": 108
        }
      ],
      "source": [
        "loaded_rf.predict(X_test)"
      ]
    },
    {
      "cell_type": "markdown",
      "source": [
        "- confusion matrix"
      ],
      "metadata": {
        "id": "NKc-q3aqBwsk"
      }
    },
    {
      "cell_type": "code",
      "execution_count": null,
      "metadata": {
        "id": "aEvLmwPq_TMp"
      },
      "outputs": [],
      "source": [
        "import matplotlib.pyplot as plt\n",
        "from sklearn.metrics import confusion_matrix\n",
        "import seaborn as sns"
      ]
    },
    {
      "cell_type": "code",
      "execution_count": null,
      "metadata": {
        "id": "lCa6BZtB_IkY"
      },
      "outputs": [],
      "source": [
        "# make the confusion matrix dataframe\n",
        "cm = confusion_matrix(y_test.values, y_pred) #normalize='all')     \n",
        "cm_df = pd.DataFrame(cm,\n",
        "                     index = ['in', 'out'],\n",
        "                     columns = ['in', 'out'])"
      ]
    },
    {
      "cell_type": "code",
      "execution_count": null,
      "metadata": {
        "id": "lqcz33F1_Vu8"
      },
      "outputs": [],
      "source": [
        "# Plotting the confusion matrix\n",
        "def plot_confusion_matrix():\n",
        "  plt.figure(figsize=(10,8))\n",
        "  colormap = sns.color_palette(\"Blues\")\n",
        "  sns.heatmap(cm_df, annot=True, cmap=colormap)\n",
        "  plt.title('Confusion Matrix')\n",
        "  plt.ylabel('True Values')\n",
        "  plt.xlabel('Predicted Values')\n",
        "  plt.show()"
      ]
    },
    {
      "cell_type": "code",
      "execution_count": null,
      "metadata": {
        "colab": {
          "base_uri": "https://localhost:8080/",
          "height": 718
        },
        "id": "LvcmX93y_XUi",
        "outputId": "980c2b7d-a55c-4afc-b1ca-8379f05f0e60"
      },
      "outputs": [
        {
          "output_type": "display_data",
          "data": {
            "text/plain": [
              "<Figure size 1000x800 with 2 Axes>"
            ],
            "image/png": "[encoded data removed]"
          },
          "metadata": {}
        }
      ],
      "source": [
        "plot_confusion_matrix()"
      ]
    },
    {
      "cell_type": "markdown",
      "metadata": {
        "id": "nYC6uruv0Loa"
      },
      "source": [
        "- Learning curves"
      ]
    },
    {
      "cell_type": "code",
      "execution_count": null,
      "metadata": {
        "id": "kPuP4nk-0NNQ"
      },
      "outputs": [],
      "source": [
        "from sklearn.metrics import roc_auc_score\n",
        "import numpy as np\n",
        "import matplotlib.pyplot as plt\n",
        "from sklearn.naive_bayes import GaussianNB\n",
        "from sklearn.svm import SVC\n",
        "from sklearn.datasets import load_digits\n",
        "from sklearn.model_selection import learning_curve\n",
        "from sklearn.model_selection import ShuffleSplit\n",
        "from sklearn.svm import SVC"
      ]
    },
    {
      "cell_type": "code",
      "execution_count": null,
      "metadata": {
        "id": "GqQMhs9E0Vl2"
      },
      "outputs": [],
      "source": [
        "def plot_learning_curve(\n",
        "    estimator,\n",
        "    title,\n",
        "    X,\n",
        "    y,\n",
        "    axes=None,\n",
        "    ylim=None,\n",
        "    cv=None,\n",
        "    n_jobs=-1,\n",
        "    scoring=None,\n",
        "    train_sizes=np.linspace(0.1, 1.0, 5),\n",
        "):\n",
        "    \"\"\"\n",
        "    Generate 3 plots: the test and training learning curve, the training\n",
        "    samples vs fit times curve, the fit times vs score curve.\n",
        "\n",
        "    Parameters\n",
        "    ----------\n",
        "    estimator : estimator instance\n",
        "        An estimator instance implementing `fit` and `predict` methods which\n",
        "        will be cloned for each validation.\n",
        "\n",
        "    title : str\n",
        "        Title for the chart.\n",
        "\n",
        "    X : array-like of shape (n_samples, n_features)\n",
        "        Training vector, where ``n_samples`` is the number of samples and\n",
        "        ``n_features`` is the number of features.\n",
        "\n",
        "    y : array-like of shape (n_samples) or (n_samples, n_features)\n",
        "        Target relative to ``X`` for classification or regression;\n",
        "        None for unsupervised learning.\n",
        "\n",
        "    axes : array-like of shape (3,), default=None\n",
        "        Axes to use for plotting the curves.\n",
        "\n",
        "    ylim : tuple of shape (2,), default=None\n",
        "        Defines minimum and maximum y-values plotted, e.g. (ymin, ymax).\n",
        "\n",
        "    cv : int, cross-validation generator or an iterable, default=None\n",
        "        Determines the cross-validation splitting strategy.\n",
        "        Possible inputs for cv are:\n",
        "\n",
        "          - None, to use the default 5-fold cross-validation,\n",
        "          - integer, to specify the number of folds.\n",
        "          - :term:`CV splitter`,\n",
        "          - An iterable yielding (train, test) splits as arrays of indices.\n",
        "\n",
        "        For integer/None inputs, if ``y`` is binary or multiclass,\n",
        "        :class:`StratifiedKFold` used. If the estimator is not a classifier\n",
        "        or if ``y`` is neither binary nor multiclass, :class:`KFold` is used.\n",
        "\n",
        "        Refer :ref:`User Guide <cross_validation>` for the various\n",
        "        cross-validators that can be used here.\n",
        "\n",
        "    n_jobs : int or None, default=None\n",
        "        Number of jobs to run in parallel.\n",
        "        ``None`` means 1 unless in a :obj:`joblib.parallel_backend` context.\n",
        "        ``-1`` means using all processors. See :term:`Glossary <n_jobs>`\n",
        "        for more details.\n",
        "\n",
        "    scoring : str or callable, default=None\n",
        "        A str (see model evaluation documentation) or\n",
        "        a scorer callable object / function with signature\n",
        "        ``scorer(estimator, X, y)``.\n",
        "\n",
        "    train_sizes : array-like of shape (n_ticks,)\n",
        "        Relative or absolute numbers of training examples that will be used to\n",
        "        generate the learning curve. If the ``dtype`` is float, it is regarded\n",
        "        as a fraction of the maximum size of the training set (that is\n",
        "        determined by the selected validation method), i.e. it has to be within\n",
        "        (0, 1]. Otherwise it is interpreted as absolute sizes of the training\n",
        "        sets. Note that for classification the number of samples usually have\n",
        "        to be big enough to contain at least one sample from each class.\n",
        "        (default: np.linspace(0.1, 1.0, 5))\n",
        "    \"\"\"\n",
        "    if axes is None:\n",
        "        _, axes = plt.subplots(1, 3, figsize=(20, 5))\n",
        "\n",
        "    axes[0].set_title(title)\n",
        "    if ylim is not None:\n",
        "        axes[0].set_ylim(*ylim)\n",
        "    axes[0].set_xlabel(\"Training examples\")\n",
        "    axes[0].set_ylabel(\"Score\")\n",
        "\n",
        "    train_sizes, train_scores, test_scores, fit_times, _ = learning_curve(\n",
        "        estimator,\n",
        "        X,\n",
        "        y,\n",
        "        scoring=scoring,\n",
        "        cv=cv,\n",
        "        n_jobs=n_jobs,\n",
        "        train_sizes=train_sizes,\n",
        "        return_times=True,\n",
        "    )\n",
        "    train_scores_mean = np.mean(train_scores, axis=1)\n",
        "    train_scores_std = np.std(train_scores, axis=1)\n",
        "    test_scores_mean = np.mean(test_scores, axis=1)\n",
        "    test_scores_std = np.std(test_scores, axis=1)\n",
        "    fit_times_mean = np.mean(fit_times, axis=1)\n",
        "    fit_times_std = np.std(fit_times, axis=1)\n",
        "\n",
        "    # Plot learning curve\n",
        "    axes[0].grid()\n",
        "    axes[0].fill_between(\n",
        "        train_sizes,\n",
        "        train_scores_mean - train_scores_std,\n",
        "        train_scores_mean + train_scores_std,\n",
        "        alpha=0.1,\n",
        "        color=\"r\",\n",
        "    )\n",
        "    axes[0].fill_between(\n",
        "        train_sizes,\n",
        "        test_scores_mean - test_scores_std,\n",
        "        test_scores_mean + test_scores_std,\n",
        "        alpha=0.1,\n",
        "        color=\"g\",\n",
        "    )\n",
        "    axes[0].plot(\n",
        "        train_sizes, train_scores_mean, \"o-\", color=\"r\", label=\"Training score\"\n",
        "    )\n",
        "    axes[0].plot(\n",
        "        train_sizes, test_scores_mean, \"o-\", color=\"g\", label=\"Cross-validation score\"\n",
        "    )\n",
        "    axes[0].legend(loc=\"best\")\n",
        "\n",
        "    # Plot n_samples vs fit_times\n",
        "    axes[1].grid()\n",
        "    axes[1].plot(train_sizes, fit_times_mean, \"o-\")\n",
        "    axes[1].fill_between(\n",
        "        train_sizes,\n",
        "        fit_times_mean - fit_times_std,\n",
        "        fit_times_mean + fit_times_std,\n",
        "        alpha=0.1,\n",
        "    )\n",
        "    axes[1].set_xlabel(\"Training examples\")\n",
        "    axes[1].set_ylabel(\"fit_times\")\n",
        "    axes[1].set_title(\"Scalability of the model\")\n",
        "\n",
        "    # Plot fit_time vs score\n",
        "    fit_time_argsort = fit_times_mean.argsort()\n",
        "    fit_time_sorted = fit_times_mean[fit_time_argsort]\n",
        "    test_scores_mean_sorted = test_scores_mean[fit_time_argsort]\n",
        "    test_scores_std_sorted = test_scores_std[fit_time_argsort]\n",
        "    axes[2].grid()\n",
        "    axes[2].plot(fit_time_sorted, test_scores_mean_sorted, \"o-\")\n",
        "    axes[2].fill_between(\n",
        "        fit_time_sorted,\n",
        "        test_scores_mean_sorted - test_scores_std_sorted,\n",
        "        test_scores_mean_sorted + test_scores_std_sorted,\n",
        "        alpha=0.1,\n",
        "    )\n",
        "    axes[2].set_xlabel(\"fit_times\")\n",
        "    axes[2].set_ylabel(\"Score\")\n",
        "    axes[2].set_title(\"Performance of the model\")\n",
        "\n",
        "    return plt"
      ]
    },
    {
      "cell_type": "code",
      "execution_count": null,
      "metadata": {
        "colab": {
          "base_uri": "https://localhost:8080/",
          "height": 896
        },
        "id": "zDE5iG2i0XjY",
        "outputId": "0ddbd305-9cfc-4a56-c1c6-3ee1d2ff59b7"
      },
      "outputs": [
        {
          "data": {
            "image/png": "[encoded data removed]",
            "text/plain": [
              "<Figure size 720x1080 with 6 Axes>"
            ]
          },
          "metadata": {},
          "output_type": "display_data"
        }
      ],
      "source": [
        "fig, axes = plt.subplots(3, 2, figsize=(10, 15))\n",
        "\n",
        "title = \"Learning Curves (RF)\"\n",
        "# Cross validation with 50 iterations to get smoother mean test and train\n",
        "# score curves, each time with 20% data randomly selected as a validation set.\n",
        "cv = ShuffleSplit(n_splits=20, test_size=0.1)\n",
        "\n",
        "estimator = model\n",
        "plot_learning_curve(\n",
        "    estimator,\n",
        "    title,\n",
        "    X,\n",
        "    y,\n",
        "    axes=axes[:, 0],\n",
        "    ylim=(0.01, 1.01),\n",
        "    cv=cv,\n",
        "    n_jobs=-1,\n",
        "    scoring=\"accuracy\",\n",
        ")\n",
        "\n",
        "title = r\"Learning Curves (SVM, RBF kernel, $\\gamma=0.001$)\"\n",
        "# SVC is more expensive so we do a lower number of CV iterations:\n",
        "cv = ShuffleSplit(n_splits=5, test_size=0.1)\n",
        "estimator = SVC(gamma=0.001)\n",
        "plot_learning_curve(\n",
        "    estimator, title, X, y, axes=axes[:, 1], ylim=(0.01, 1.01), cv=cv, n_jobs=-1\n",
        ")\n",
        "\n",
        "plt.show()"
      ]
    },
    {
      "cell_type": "markdown",
      "metadata": {
        "id": "NMuIEhfv5sS9"
      },
      "source": [
        "- hyperparameters tuning using Weight and Biases\n"
      ]
    },
    {
      "cell_type": "code",
      "execution_count": null,
      "metadata": {
        "id": "J-SHJcQqjsXJ"
      },
      "outputs": [],
      "source": [
        "pip install wandb"
      ]
    },
    {
      "cell_type": "code",
      "execution_count": null,
      "metadata": {
        "id": "umTaTZVo5vtz"
      },
      "outputs": [],
      "source": [
        "import wandb\n",
        "from sklearn.metrics import accuracy_score, f1_score, recall_score\n",
        "from sklearn.model_selection import cross_val_score"
      ]
    },
    {
      "cell_type": "code",
      "execution_count": null,
      "metadata": {
        "colab": {
          "base_uri": "https://localhost:8080/",
          "height": 138
        },
        "id": "6lVsYPpljqkv",
        "outputId": "27617b37-6990-45c2-b52f-59facd4ae965"
      },
      "outputs": [
        {
          "data": {
            "text/html": [
              "Tracking run with wandb version 0.13.7"
            ],
            "text/plain": [
              "<IPython.core.display.HTML object>"
            ]
          },
          "metadata": {},
          "output_type": "display_data"
        },
        {
          "data": {
            "text/html": [
              "Run data is saved locally in <code>/content/wandb/run-20221221_155703-1b0wf65c</code>"
            ],
            "text/plain": [
              "<IPython.core.display.HTML object>"
            ]
          },
          "metadata": {},
          "output_type": "display_data"
        },
        {
          "data": {
            "text/html": [
              "Syncing run <strong><a href=\"https://wandb.ai/francesco-patane/RF%20eNERVE%20subcell/runs/1b0wf65c\" target=\"_blank\">chocolate-snow-34</a></strong> to <a href=\"https://wandb.ai/francesco-patane/RF%20eNERVE%20subcell\" target=\"_blank\">Weights & Biases</a> (<a href=\"https://wandb.me/run\" target=\"_blank\">docs</a>)<br/>"
            ],
            "text/plain": [
              "<IPython.core.display.HTML object>"
            ]
          },
          "metadata": {},
          "output_type": "display_data"
        },
        {
          "data": {
            "text/html": [
              "Waiting for W&B process to finish... <strong style=\"color:green\">(success).</strong>"
            ],
            "text/plain": [
              "<IPython.core.display.HTML object>"
            ]
          },
          "metadata": {},
          "output_type": "display_data"
        },
        {
          "data": {
            "text/html": [
              "Synced <strong style=\"color:#cdcd00\">chocolate-snow-34</strong>: <a href=\"https://wandb.ai/francesco-patane/RF%20eNERVE%20subcell/runs/1b0wf65c\" target=\"_blank\">https://wandb.ai/francesco-patane/RF%20eNERVE%20subcell/runs/1b0wf65c</a><br/>Synced 4 W&B file(s), 0 media file(s), 0 artifact file(s) and 0 other file(s)"
            ],
            "text/plain": [
              "<IPython.core.display.HTML object>"
            ]
          },
          "metadata": {},
          "output_type": "display_data"
        },
        {
          "data": {
            "text/html": [
              "Find logs at: <code>./wandb/run-20221221_155703-1b0wf65c/logs</code>"
            ],
            "text/plain": [
              "<IPython.core.display.HTML object>"
            ]
          },
          "metadata": {},
          "output_type": "display_data"
        }
      ],
      "source": [
        "with wandb.init(project=\"RF eNERVE subcell\", entity=\"francesco-patane\"):\n",
        "    val = pd.read_csv('fullval.csv')\n",
        "    val = full_val.sample(frac=1)\n",
        "    val = val.groupby('location').apply(lambda x: x.sample(208).reset_index(drop=True))\n",
        "    val.reset_index(drop=True)\n",
        "    val.drop(val.columns[len(val.columns)-3], axis=1, inplace=True)\n",
        "    val.drop(val.columns[len(val.columns)-3], axis=1, inplace=True)\n",
        "    val.drop(val.columns[len(val.columns)-3], axis=1, inplace=True)\n",
        "    val.drop(val.columns[len(val.columns)-3], axis=1, inplace=True)\n",
        "    val = val.reset_index(drop=True)\n",
        "    X = val.iloc[ :, 0:-1]       #define X\n",
        "    y = val.iloc[ :, -1:]        #define y\n",
        "    #X_train, X_test, y_train, y_test = train_test_split(X, y, test_size=0.1, shuffle=True) #split in training/validation set\n",
        "\n",
        "\n",
        "\n",
        "    #--------hyperparameters--------\n",
        "    wandb.config.n_jobs=-1\n",
        "    wandb.config.min_samples_split=50\n",
        "    wandb.config.min_samples_leaf=50\n",
        "    wandb.config.n_estimators= 100\n",
        "    wandb.config.max_depth=10\n",
        "    wandb.config.max_features=0.6\n",
        "    wandb.config.criterion='entropy'               #'gini' or 'entropy'\n",
        "    wandb.config.verbose=3\n",
        "    wandb.config.bootstrap=False\n",
        "    wandb.config.class_weight=None                    #provare balanced\n",
        "    wandb.config.min_weight_fraction_leaf=0.0\n",
        "    wandb.config.max_leaf_nodes=None\n",
        "    wandb.config.max_samples=None                 #se diverso da None, bootstrap deve essere True\n",
        "    #--------------------------------\n",
        "   \n",
        "    rfc = RandomForestClassifier(\n",
        "        \n",
        "        \n",
        "        max_features = wandb.config.max_features,\n",
        "        min_samples_leaf = wandb.config.min_samples_leaf,\n",
        "        min_samples_split = wandb.config.min_samples_split,\n",
        "        n_estimators = wandb.config.n_estimators,\n",
        "        n_jobs = wandb.config.n_jobs,\n",
        "        max_depth = wandb.config.max_depth,\n",
        "        criterion = wandb.config.criterion,\n",
        "        verbose = wandb.config.verbose,\n",
        "        bootstrap = wandb.config.bootstrap,\n",
        "        class_weight = wandb.config.class_weight,\n",
        "        min_weight_fraction_leaf = wandb.config.min_weight_fraction_leaf,\n",
        "        max_leaf_nodes = wandb.config.max_leaf_nodes,\n",
        "        max_samples = wandb.config.max_samples\n",
        "\n",
        "   )\n",
        "\n",
        "    cv = RepeatedStratifiedKFold(n_splits=5, n_repeats=1)            #cross-validation (5 folds)\n",
        "    n_scores = cross_val_score(rfc, X, y, scoring='accuracy', cv=cv, n_jobs=-1, error_score='raise') \n",
        "\n",
        "    #rfc.fit(X_train, y_train)\n",
        "    #y_pred = rfc.predict(X_test)\n",
        "\n",
        "    #wandb.log({'accuracy': accuracy_score(y_test, y_pred)})\n",
        "    #wandb.log({'f1': f1_score(y_test, y_pred,average='weighted')})\n",
        "    #wandb.log({'recall': recall_score(y_test, y_pred, average='weighted')})\n",
        "    wandb.log({'accuracy': n_scores})\n"
      ]
    },
    {
      "cell_type": "code",
      "execution_count": null,
      "metadata": {
        "colab": {
          "base_uri": "https://localhost:8080/"
        },
        "id": "z1umlcA9c48p",
        "outputId": "76196e14-b070-46b4-fb4b-4aab80dcf089"
      },
      "outputs": [
        {
          "name": "stdout",
          "output_type": "stream",
          "text": [
            "Accuracy: 51.19%\n"
          ]
        }
      ],
      "source": [
        "accuracy = accuracy_score(y_test, preds)\n",
        "print(\"Accuracy: %.2f%%\" % (accuracy * 100.0))\n"
      ]
    }
  ],
  "metadata": {
    "colab": {
      "provenance": []
    },
    "kernelspec": {
      "display_name": "Python 3",
      "name": "python3"
    },
    "language_info": {
      "name": "python"
    }
  },
  "nbformat": 4,
  "nbformat_minor": 0
}