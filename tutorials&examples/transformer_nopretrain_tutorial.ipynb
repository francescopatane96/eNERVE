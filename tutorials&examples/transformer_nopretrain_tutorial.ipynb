{
  "nbformat": 4,
  "nbformat_minor": 0,
  "metadata": {
    "colab": {
      "provenance": []
    },
    "kernelspec": {
      "name": "python3",
      "display_name": "Python 3"
    },
    "language_info": {
      "name": "python"
    }
  },
  "cells": [
    {
      "cell_type": "code",
      "execution_count": null,
      "metadata": {
        "id": "cy4X8FDDyZMT"
      },
      "outputs": [],
      "source": [
        "%%capture \n",
        "\n",
        "import tensorflow as tf\n",
        "from tensorflow import keras\n",
        "from tensorflow.keras import layers\n",
        "\n",
        "!pip install Biopython\n",
        "#!rm -r iFeature\n",
        "#!rm -r spaan\n",
        "#!git clone https://github.com/Superzchen/iFeature\n",
        "#!git clone https://github.com/nicolagulmini/spaan\n",
        "\n",
        "from Bio import SeqIO\n",
        "import numpy\n",
        "from tensorflow.keras.preprocessing.sequence import pad_sequences\n",
        "import matplotlib.pyplot as plt"
      ]
    },
    {
      "cell_type": "code",
      "source": [
        "class TransformerBlock(layers.Layer):\n",
        "    def __init__(self, embed_dim, num_heads, ff_dim, rate=0.1):\n",
        "        super(TransformerBlock, self).__init__()\n",
        "        self.att = layers.MultiHeadAttention(num_heads=num_heads, key_dim=embed_dim)\n",
        "        self.ffn = keras.Sequential(\n",
        "            [layers.Dense(ff_dim, activation=\"relu\"), layers.Dense(embed_dim),]\n",
        "        )\n",
        "        self.layernorm1 = layers.LayerNormalization(epsilon=1e-6)\n",
        "        self.layernorm2 = layers.LayerNormalization(epsilon=1e-6)\n",
        "        self.dropout1 = layers.Dropout(rate)\n",
        "        self.dropout2 = layers.Dropout(rate)\n",
        "\n",
        "    def call(self, inputs, training):\n",
        "        attn_output = self.att(inputs, inputs)\n",
        "        attn_output = self.dropout1(attn_output, training=training)\n",
        "        out1 = self.layernorm1(inputs + attn_output)\n",
        "        ffn_output = self.ffn(out1)\n",
        "        ffn_output = self.dropout2(ffn_output, training=training)\n",
        "        return self.layernorm2(out1 + ffn_output)\n",
        "\n",
        "class TokenAndPositionEmbedding(layers.Layer):\n",
        "    def __init__(self, maxlen, vocab_size, embed_dim):\n",
        "        super(TokenAndPositionEmbedding, self).__init__()\n",
        "        self.token_emb = layers.Embedding(input_dim=vocab_size, output_dim=embed_dim)\n",
        "        self.pos_emb = layers.Embedding(input_dim=maxlen, output_dim=embed_dim)\n",
        "\n",
        "    def call(self, x):\n",
        "        maxlen = tf.shape(x)[-1]\n",
        "        positions = tf.range(start=0, limit=maxlen, delta=1)\n",
        "        positions = self.pos_emb(positions)\n",
        "        x = self.token_emb(x)\n",
        "        return x + positions"
      ],
      "metadata": {
        "id": "oEue5A_-yjze"
      },
      "execution_count": null,
      "outputs": []
    },
    {
      "cell_type": "code",
      "source": [
        "from Bio import SeqIO\n",
        "from random import sample\n",
        "with open(\"negative.fasta\") as f:\n",
        "    seqs = SeqIO.parse(f,\"fasta\")\n",
        "    x = (sample(list(seqs), 703))"
      ],
      "metadata": {
        "id": "R8f6Aryvy942"
      },
      "execution_count": null,
      "outputs": []
    },
    {
      "cell_type": "code",
      "source": [
        "f = open(\"negative.fasta\",\"w\")\n",
        "SeqIO.write(x, f, \"fasta\")"
      ],
      "metadata": {
        "colab": {
          "base_uri": "https://localhost:8080/"
        },
        "id": "QdEPU-Z4zAsJ",
        "outputId": "3439a3ec-e0cc-4a72-8033-a3c93fc41208"
      },
      "execution_count": null,
      "outputs": [
        {
          "output_type": "execute_result",
          "data": {
            "text/plain": [
              "703"
            ]
          },
          "metadata": {},
          "execution_count": 5
        }
      ]
    },
    {
      "cell_type": "code",
      "source": [
        "# dataset\n",
        "positive = list(SeqIO.parse(\"./positive.fasta\", \"fasta\"))\n",
        "negative = list(SeqIO.parse(\"./negative.fasta\", \"fasta\"))\n",
        "\n",
        "MAXLEN = 1000 # do some preprocessing to choose this\n",
        "    \n",
        "aa_list = [\n",
        "    'A', 'C', 'D', 'E', 'F', 'G', 'H', 'I', 'K', 'L', 'M', 'N', 'P', 'Q', 'R', 'S', 'T', 'V', 'W', 'Y', 'X', 'B', 'U', 'Z'\n",
        "    ]\n",
        "\n",
        "def seq_to_ind(seq):\n",
        "    ind_seq = []\n",
        "    for aa in seq:\n",
        "        ind_seq.append(aa_list.index(aa)+1)\n",
        "    return pad_sequences([ind_seq], maxlen=MAXLEN, padding='post', truncating='post')[0]\n",
        "\n",
        "X_seq = numpy.array([seq_to_ind(el.seq) for el in positive+negative])"
      ],
      "metadata": {
        "id": "dMZ0hnvNyxex"
      },
      "execution_count": null,
      "outputs": []
    },
    {
      "cell_type": "code",
      "source": [
        "print('data sequences shape:', X_seq.shape)\n",
        "\n",
        "y_pos = numpy.ones(len(positive))\n",
        "y_neg = numpy.zeros(len(negative))\n",
        "y = numpy.concatenate((y_pos, y_neg), axis=0)\n",
        "\n",
        "print('y shape:', y.shape)"
      ],
      "metadata": {
        "colab": {
          "base_uri": "https://localhost:8080/"
        },
        "id": "SWkPZda3zNyj",
        "outputId": "25d4623b-1175-4d88-c256-fbc42c42a279"
      },
      "execution_count": null,
      "outputs": [
        {
          "output_type": "stream",
          "name": "stdout",
          "text": [
            "data sequences shape: (856, 1000)\n",
            "y shape: (856,)\n"
          ]
        }
      ]
    },
    {
      "cell_type": "code",
      "source": [
        "# permutation\n",
        "c = numpy.random.permutation(numpy.arange(y.shape[0]))\n",
        "\n",
        "y = y[c]\n",
        "X_seq = X_seq[c]"
      ],
      "metadata": {
        "id": "-840l1kyzUNl"
      },
      "execution_count": null,
      "outputs": []
    },
    {
      "cell_type": "code",
      "source": [
        "# remember: standardization or scaling AFTER train-test split, otherwise there's data leakage!!!\n",
        "\n",
        "X_seq_train = X_seq[:int(X_seq.shape[0]*.5)]\n",
        "X_seq_val = X_seq[int(X_seq.shape[0]*.5):int(X_seq.shape[0]*.75)]\n",
        "X_seq_test = X_seq[int(X_seq.shape[0]*.75):]\n",
        "\n",
        "y_train = y[:int(y.shape[0]*.5)]\n",
        "y_val = y[int(y.shape[0]*.5):int(y.shape[0]*.75)]\n",
        "y_test = y[int(y.shape[0]*.75):]"
      ],
      "metadata": {
        "id": "vMiMV6tTzYWO"
      },
      "execution_count": null,
      "outputs": []
    },
    {
      "cell_type": "code",
      "source": [
        "embed_dim = 64  # Embedding size for each token\n",
        "num_heads = 20  # Number of attention heads\n",
        "ff_dim = 32  # Hidden layer size in feed forward network inside transformer\n",
        "\n",
        "inputs = layers.Input(shape=(MAXLEN,))\n",
        "embedding_layer = TokenAndPositionEmbedding(MAXLEN, len(aa_list)+1, embed_dim)\n",
        "x = embedding_layer(inputs)\n",
        "transformer_block = TransformerBlock(embed_dim, num_heads, ff_dim)\n",
        "x = transformer_block(x)\n",
        "x = layers.GlobalAveragePooling1D()(x)\n",
        "x = layers.Dropout(0.1)(x)\n",
        "x = layers.Dense(20, activation=\"sigmoid\")(x)\n",
        "x = layers.Dense(20, activation=\"sigmoid\")(x)\n",
        "x = layers.Dropout(0.1)(x)\n",
        "outputs = layers.Dense(1, activation=\"sigmoid\")(x)\n",
        "\n",
        "model = keras.Model(inputs=inputs, outputs=outputs)"
      ],
      "metadata": {
        "id": "bmDlMQF-zcRb"
      },
      "execution_count": null,
      "outputs": []
    },
    {
      "cell_type": "code",
      "source": [
        "model.compile(\n",
        "    optimizer=\"adam\", loss=\"binary_crossentropy\", metrics=[\"accuracy\"]\n",
        ")\n",
        "\n",
        "history = model.fit(\n",
        "    x=X_seq_train, \n",
        "    y=y_train,\n",
        "    batch_size=32,\n",
        "    epochs=200,\n",
        "    verbose=1,\n",
        "    validation_data=(X_seq_val, y_val),\n",
        "    shuffle=True,\n",
        "    callbacks=[tf.keras.callbacks.EarlyStopping(\n",
        "    restore_best_weights=True,\n",
        "    patience=5\n",
        "        )]\n",
        ")"
      ],
      "metadata": {
        "colab": {
          "base_uri": "https://localhost:8080/"
        },
        "id": "UJTkuEJpzgEf",
        "outputId": "625465ac-4159-419c-9c24-d520e60e58de"
      },
      "execution_count": null,
      "outputs": [
        {
          "output_type": "stream",
          "name": "stdout",
          "text": [
            "Epoch 1/200\n",
            "14/14 [==============================] - 537s 38s/step - loss: 0.7042 - accuracy: 0.5678 - val_loss: 0.6727 - val_accuracy: 0.5607\n",
            "Epoch 2/200\n",
            "14/14 [==============================] - 529s 38s/step - loss: 0.6589 - accuracy: 0.5654 - val_loss: 0.6384 - val_accuracy: 0.5607\n",
            "Epoch 3/200\n",
            "14/14 [==============================] - 545s 40s/step - loss: 0.6146 - accuracy: 0.5818 - val_loss: 0.6103 - val_accuracy: 0.6963\n",
            "Epoch 4/200\n",
            "14/14 [==============================] - 511s 37s/step - loss: 0.5988 - accuracy: 0.6402 - val_loss: 0.5777 - val_accuracy: 0.7290\n",
            "Epoch 5/200\n",
            "14/14 [==============================] - 543s 39s/step - loss: 0.5529 - accuracy: 0.7220 - val_loss: 0.5005 - val_accuracy: 0.8411\n",
            "Epoch 6/200\n",
            "14/14 [==============================] - 475s 34s/step - loss: 0.5096 - accuracy: 0.7547 - val_loss: 0.5414 - val_accuracy: 0.7290\n",
            "Epoch 7/200\n",
            "14/14 [==============================] - 457s 33s/step - loss: 0.5187 - accuracy: 0.7477 - val_loss: 0.5206 - val_accuracy: 0.7944\n",
            "Epoch 8/200\n",
            "14/14 [==============================] - 506s 37s/step - loss: 0.5010 - accuracy: 0.7593 - val_loss: 0.4734 - val_accuracy: 0.7991\n",
            "Epoch 9/200\n",
            "14/14 [==============================] - 467s 34s/step - loss: 0.4564 - accuracy: 0.8131 - val_loss: 0.5065 - val_accuracy: 0.8084\n",
            "Epoch 10/200\n",
            "14/14 [==============================] - 539s 39s/step - loss: 0.4553 - accuracy: 0.7944 - val_loss: 0.4109 - val_accuracy: 0.8458\n",
            "Epoch 11/200\n",
            "14/14 [==============================] - 515s 38s/step - loss: 0.4225 - accuracy: 0.8435 - val_loss: 0.4138 - val_accuracy: 0.8364\n",
            "Epoch 12/200\n",
            "14/14 [==============================] - 511s 37s/step - loss: 0.4351 - accuracy: 0.8154 - val_loss: 0.4050 - val_accuracy: 0.8458\n",
            "Epoch 13/200\n",
            "14/14 [==============================] - 515s 37s/step - loss: 0.4097 - accuracy: 0.8107 - val_loss: 0.4224 - val_accuracy: 0.8131\n",
            "Epoch 14/200\n",
            "14/14 [==============================] - 526s 38s/step - loss: 0.4244 - accuracy: 0.8084 - val_loss: 0.4080 - val_accuracy: 0.8318\n",
            "Epoch 15/200\n",
            "14/14 [==============================] - 575s 42s/step - loss: 0.3819 - accuracy: 0.8551 - val_loss: 0.3807 - val_accuracy: 0.8505\n",
            "Epoch 16/200\n",
            "14/14 [==============================] - 503s 37s/step - loss: 0.4342 - accuracy: 0.8131 - val_loss: 0.5082 - val_accuracy: 0.7430\n",
            "Epoch 17/200\n",
            "14/14 [==============================] - 509s 37s/step - loss: 0.4667 - accuracy: 0.7710 - val_loss: 0.3889 - val_accuracy: 0.8505\n",
            "Epoch 18/200\n",
            "14/14 [==============================] - 517s 38s/step - loss: 0.4020 - accuracy: 0.8294 - val_loss: 0.3909 - val_accuracy: 0.8271\n",
            "Epoch 19/200\n",
            "14/14 [==============================] - 502s 36s/step - loss: 0.3833 - accuracy: 0.8481 - val_loss: 0.3719 - val_accuracy: 0.8458\n",
            "Epoch 20/200\n",
            "14/14 [==============================] - 514s 37s/step - loss: 0.3725 - accuracy: 0.8458 - val_loss: 0.3540 - val_accuracy: 0.8692\n",
            "Epoch 21/200\n",
            "14/14 [==============================] - 511s 37s/step - loss: 0.3605 - accuracy: 0.8575 - val_loss: 0.3800 - val_accuracy: 0.8318\n",
            "Epoch 22/200\n",
            "14/14 [==============================] - 462s 33s/step - loss: 0.3652 - accuracy: 0.8458 - val_loss: 0.3509 - val_accuracy: 0.8458\n",
            "Epoch 23/200\n",
            "14/14 [==============================] - 502s 37s/step - loss: 0.3539 - accuracy: 0.8575 - val_loss: 0.3415 - val_accuracy: 0.8645\n",
            "Epoch 24/200\n",
            "14/14 [==============================] - 503s 37s/step - loss: 0.3434 - accuracy: 0.8598 - val_loss: 0.3503 - val_accuracy: 0.8551\n",
            "Epoch 25/200\n",
            "14/14 [==============================] - 508s 37s/step - loss: 0.3430 - accuracy: 0.8692 - val_loss: 0.3649 - val_accuracy: 0.8505\n",
            "Epoch 26/200\n",
            "14/14 [==============================] - 510s 37s/step - loss: 0.3424 - accuracy: 0.8645 - val_loss: 0.4455 - val_accuracy: 0.8037\n",
            "Epoch 27/200\n",
            "14/14 [==============================] - 513s 37s/step - loss: 0.3673 - accuracy: 0.8458 - val_loss: 0.3625 - val_accuracy: 0.8551\n",
            "Epoch 28/200\n",
            "14/14 [==============================] - 520s 38s/step - loss: 0.3426 - accuracy: 0.8668 - val_loss: 0.3486 - val_accuracy: 0.8551\n"
          ]
        }
      ]
    },
    {
      "cell_type": "code",
      "source": [
        "plt.title('Accuracy during training')\n",
        "plt.plot(range(len(history.history['loss'])), history.history['accuracy'], label='training accuracy', color='green')\n",
        "plt.plot(range(len(history.history['loss'])), history.history['val_accuracy'], label='validation accuracy', color='red')\n",
        "plt.grid(color='gray', linewidth=.4)\n",
        "\n",
        "plt.legend(loc=\"lower right\")\n",
        "plt.xlabel(\"epochs\")\n",
        "plt.ylabel(\"accuracy\")\n",
        "plt.xlim(0, len(history.history['loss'])+1)\n",
        "plt.ylim(.45, 1.)\n",
        "plt.savefig('acc.png')"
      ],
      "metadata": {
        "colab": {
          "base_uri": "https://localhost:8080/",
          "height": 295
        },
        "id": "vhjaFGh8z3XJ",
        "outputId": "23675643-e855-405f-f6fa-d623b5ea56d7"
      },
      "execution_count": null,
      "outputs": [
        {
          "output_type": "display_data",
          "data": {
            "text/plain": [
              "<Figure size 432x288 with 1 Axes>"
            ],
            "image/png": "[encoded data removed]"
          },
          "metadata": {
            "needs_background": "light"
          }
        }
      ]
    },
    {
      "cell_type": "code",
      "source": [
        "plt.title('Loss during training')\n",
        "plt.plot(range(len(history.history['loss'])), history.history['loss'], label='training loss', color='green')\n",
        "plt.plot(range(len(history.history['loss'])), history.history['val_loss'], label='validation loss', color='red')\n",
        "plt.grid(color='gray', linewidth=.4)\n",
        "\n",
        "plt.legend(loc=\"upper right\")\n",
        "plt.xlabel(\"epochs\")\n",
        "plt.ylabel(\"loss\")\n",
        "plt.savefig('loss.png')"
      ],
      "metadata": {
        "colab": {
          "base_uri": "https://localhost:8080/",
          "height": 295
        },
        "id": "1hsdxo0vLS9q",
        "outputId": "6b03c495-44c5-46cf-b520-0d95ed66b09e"
      },
      "execution_count": null,
      "outputs": [
        {
          "output_type": "display_data",
          "data": {
            "text/plain": [
              "<Figure size 432x288 with 1 Axes>"
            ],
            "image/png": "[encoded data removed]"
          },
          "metadata": {
            "needs_background": "light"
          }
        }
      ]
    },
    {
      "cell_type": "code",
      "source": [
        "model.evaluate(X_seq_test, y_test)"
      ],
      "metadata": {
        "colab": {
          "base_uri": "https://localhost:8080/"
        },
        "id": "SoT1ReH_z5bf",
        "outputId": "dfff6d70-4f60-4de4-edf3-1aac1fee487b"
      },
      "execution_count": null,
      "outputs": [
        {
          "output_type": "stream",
          "name": "stdout",
          "text": [
            "7/7 [==============================] - 96s 13s/step - loss: 0.3991 - accuracy: 0.8224\n"
          ]
        },
        {
          "output_type": "execute_result",
          "data": {
            "text/plain": [
              "[0.3990952670574188, 0.822429895401001]"
            ]
          },
          "metadata": {},
          "execution_count": 16
        }
      ]
    }
  ]
}