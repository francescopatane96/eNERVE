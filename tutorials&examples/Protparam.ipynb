{
  "nbformat": 4,
  "nbformat_minor": 0,
  "metadata": {
    "colab": {
      "provenance": []
    },
    "kernelspec": {
      "name": "python3",
      "display_name": "Python 3"
    },
    "language_info": {
      "name": "python"
    }
  },
  "cells": [
    {
      "cell_type": "markdown",
      "source": [
        "# ProtParam (ExPasy) - from Biopython"
      ],
      "metadata": {
        "id": "WNBu0jjQ2dsT"
      }
    },
    {
      "cell_type": "code",
      "source": [
        "! pip install Bio"
      ],
      "metadata": {
        "id": "2f5s_i8UxwqL"
      },
      "execution_count": null,
      "outputs": []
    },
    {
      "cell_type": "code",
      "execution_count": 3,
      "metadata": {
        "id": "mPP-qhunwyOO"
      },
      "outputs": [],
      "source": [
        "from Bio.SeqUtils.ProtParam import ProteinAnalysis"
      ]
    },
    {
      "cell_type": "code",
      "source": [
        "my_seq = (\n",
        "    \"MAEGEITTFTALTEKFNLPPGNYKKPKLLYCSNGGHFLRILPDGTVSDQHIQLQ\"\n",
        "    )"
      ],
      "metadata": {
        "id": "7sBLR3Z7zdaN"
      },
      "execution_count": 17,
      "outputs": []
    },
    {
      "cell_type": "code",
      "source": [
        "analysed_seq = ProteinAnalysis(my_seq)"
      ],
      "metadata": {
        "id": "FBr85779zyn3"
      },
      "execution_count": 23,
      "outputs": []
    },
    {
      "cell_type": "markdown",
      "source": [
        "- properties"
      ],
      "metadata": {
        "id": "o9yljA6e1W-7"
      }
    },
    {
      "cell_type": "code",
      "source": [
        "analysed_seq.molecular_weight()"
      ],
      "metadata": {
        "colab": {
          "base_uri": "https://localhost:8080/"
        },
        "id": "kVeRZilCz6XU",
        "outputId": "7bafdecf-1f57-4f41-c12e-ad29ac57e5b8"
      },
      "execution_count": 24,
      "outputs": [
        {
          "output_type": "execute_result",
          "data": {
            "text/plain": [
              "6734.543300000003"
            ]
          },
          "metadata": {},
          "execution_count": 24
        }
      ]
    },
    {
      "cell_type": "markdown",
      "source": [
        "instability_index: Implementation of the method of Guruprasad et al. (1990, Protein Engineering, 4, 155-161). This method tests a protein for stability. Any value above 40 means the protein is unstable (=has a short half life)."
      ],
      "metadata": {
        "id": "J5bYEB4E1QPl"
      }
    },
    {
      "cell_type": "code",
      "source": [
        "analysed_seq.instability_index()"
      ],
      "metadata": {
        "colab": {
          "base_uri": "https://localhost:8080/"
        },
        "id": "ZNoY54PJ0fDn",
        "outputId": "a02bb749-f210-4a7a-dd3a-ddb7dee100d4"
      },
      "execution_count": 25,
      "outputs": [
        {
          "output_type": "execute_result",
          "data": {
            "text/plain": [
              "41.12833333333333"
            ]
          },
          "metadata": {},
          "execution_count": 25
        }
      ]
    },
    {
      "cell_type": "code",
      "source": [
        "analysed_seq.flexibility()"
      ],
      "metadata": {
        "colab": {
          "base_uri": "https://localhost:8080/"
        },
        "id": "b1IV5MUW1oEz",
        "outputId": "328b18f3-201e-4a19-e4e1-d7b421922c60"
      },
      "execution_count": 26,
      "outputs": [
        {
          "output_type": "execute_result",
          "data": {
            "text/plain": [
              "[0.9825119047619049,\n",
              " 1.0166904761904763,\n",
              " 0.9947857142857144,\n",
              " 0.9660238095238095,\n",
              " 0.9890714285714285,\n",
              " 0.9737261904761906,\n",
              " 0.9789166666666669,\n",
              " 1.004547619047619,\n",
              " 1.0235357142857144,\n",
              " 1.0163214285714286,\n",
              " 0.981297619047619,\n",
              " 1.0388809523809523,\n",
              " 0.9956309523809524,\n",
              " 1.0379047619047619,\n",
              " 1.014654761904762,\n",
              " 1.015154761904762,\n",
              " 1.0317619047619049,\n",
              " 1.0100833333333334,\n",
              " 1.0738333333333334,\n",
              " 1.0460952380952382,\n",
              " 1.0333571428571429,\n",
              " 1.0429761904761905,\n",
              " 0.9842738095238095,\n",
              " 0.9984404761904762,\n",
              " 0.9814404761904763,\n",
              " 0.9715357142857144,\n",
              " 1.0063690476190477,\n",
              " 0.988952380952381,\n",
              " 0.9930952380952381,\n",
              " 0.9962619047619047,\n",
              " 0.9774523809523811,\n",
              " 0.9747857142857144,\n",
              " 0.9701547619047618,\n",
              " 0.9759404761904762,\n",
              " 0.9515119047619047,\n",
              " 0.9745714285714286,\n",
              " 1.007642857142857,\n",
              " 1.0024523809523809,\n",
              " 1.0019761904761904,\n",
              " 1.0053571428571428,\n",
              " 1.000595238095238,\n",
              " 1.0385238095238094,\n",
              " 1.0090357142857143,\n",
              " 1.0095,\n",
              " 1.0207142857142857,\n",
              " 1.0371071428571428,\n",
              " 1.0223690476190477,\n",
              " 1.0373809523809523,\n",
              " 1.030095238095238,\n",
              " 1.0166190476190475,\n",
              " 0.9939404761904762]"
            ]
          },
          "metadata": {},
          "execution_count": 26
        }
      ]
    },
    {
      "cell_type": "markdown",
      "source": [
        "secondary_structure_fraction: This methods returns a list of the fraction of amino acids which tend to be in helix, turn or sheet.\n",
        "\n",
        "    Amino acids in helix: V, I, Y, F, W, L.\n",
        "    Amino acids in turn: N, P, G, S.\n",
        "    Amino acids in sheet: E, M, A, L.\n",
        "\n",
        "The list contains 3 values: [Helix, Turn, Sheet].\n"
      ],
      "metadata": {
        "id": "_F27yvld14y9"
      }
    },
    {
      "cell_type": "code",
      "source": [
        "analysed_seq.secondary_structure_fraction()"
      ],
      "metadata": {
        "colab": {
          "base_uri": "https://localhost:8080/"
        },
        "id": "9QmX7_BD1uMR",
        "outputId": "c119b72d-26ab-492c-b66b-6afc018230cd"
      },
      "execution_count": 27,
      "outputs": [
        {
          "output_type": "execute_result",
          "data": {
            "text/plain": [
              "(0.2666666666666667, 0.25, 0.21666666666666667)"
            ]
          },
          "metadata": {},
          "execution_count": 27
        }
      ]
    },
    {
      "cell_type": "code",
      "source": [
        "analysed_seq.charge_at_pH(7)"
      ],
      "metadata": {
        "colab": {
          "base_uri": "https://localhost:8080/"
        },
        "id": "z1m7YZtU2FR2",
        "outputId": "bf6c64b3-1c6c-4d85-b98c-45d79604d75a"
      },
      "execution_count": 29,
      "outputs": [
        {
          "output_type": "execute_result",
          "data": {
            "text/plain": [
              "-0.3283075020634909"
            ]
          },
          "metadata": {},
          "execution_count": 29
        }
      ]
    }
  ]
}